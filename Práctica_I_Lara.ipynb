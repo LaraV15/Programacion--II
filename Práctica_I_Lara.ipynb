{
  "nbformat": 4,
  "nbformat_minor": 0,
  "metadata": {
    "colab": {
      "provenance": [],
      "collapsed_sections": [],
      "toc_visible": true,
      "include_colab_link": true
    },
    "kernelspec": {
      "name": "python3",
      "display_name": "Python 3"
    },
    "language_info": {
      "name": "python"
    }
  },
  "cells": [
    {
      "cell_type": "markdown",
      "metadata": {
        "id": "view-in-github",
        "colab_type": "text"
      },
      "source": [
        "<a href=\"https://colab.research.google.com/github/LaraV15/Programacion--II/blob/main/Pr%C3%A1ctica_I_Lara.ipynb\" target=\"_parent\"><img src=\"https://colab.research.google.com/assets/colab-badge.svg\" alt=\"Open In Colab\"/></a>"
      ]
    },
    {
      "cell_type": "markdown",
      "source": [
        "# Práctica 1"
      ],
      "metadata": {
        "id": "42WZXXINVURQ"
      }
    },
    {
      "cell_type": "code",
      "source": [
        "!pip install pytest"
      ],
      "metadata": {
        "id": "mfdgd9G24PbW",
        "outputId": "f36588fc-d864-4609-8af4-c27652567cf4",
        "colab": {
          "base_uri": "https://localhost:8080/"
        }
      },
      "execution_count": 13,
      "outputs": [
        {
          "output_type": "stream",
          "name": "stdout",
          "text": [
            "Looking in indexes: https://pypi.org/simple, https://us-python.pkg.dev/colab-wheels/public/simple/\n",
            "Requirement already satisfied: pytest in /usr/local/lib/python3.7/dist-packages (3.6.4)\n",
            "Requirement already satisfied: pluggy<0.8,>=0.5 in /usr/local/lib/python3.7/dist-packages (from pytest) (0.7.1)\n",
            "Requirement already satisfied: atomicwrites>=1.0 in /usr/local/lib/python3.7/dist-packages (from pytest) (1.4.1)\n",
            "Requirement already satisfied: setuptools in /usr/local/lib/python3.7/dist-packages (from pytest) (57.4.0)\n",
            "Requirement already satisfied: six>=1.10.0 in /usr/local/lib/python3.7/dist-packages (from pytest) (1.15.0)\n",
            "Requirement already satisfied: py>=1.5.0 in /usr/local/lib/python3.7/dist-packages (from pytest) (1.11.0)\n",
            "Requirement already satisfied: more-itertools>=4.0.0 in /usr/local/lib/python3.7/dist-packages (from pytest) (8.14.0)\n",
            "Requirement already satisfied: attrs>=17.4.0 in /usr/local/lib/python3.7/dist-packages (from pytest) (22.1.0)\n"
          ]
        }
      ]
    },
    {
      "cell_type": "markdown",
      "source": [
        "#Tipo abstracto de datos"
      ],
      "metadata": {
        "id": "dKOzQXKcVXbF"
      }
    },
    {
      "cell_type": "markdown",
      "source": [
        "Un TAD es una colección de datos, que va a tener ciertas operaciones para agregar, eliminar, etc. La pila es un ejemplo de un TAD, cada vez que agregamos algo (celdas o nodos) se agrega al final y se seca del final."
      ],
      "metadata": {
        "id": "HykpCqfLCuOJ"
      }
    },
    {
      "cell_type": "markdown",
      "source": [
        "## Ejercicio 1 \n",
        "Definir la interfaz de un tipo abstracto de datos para representar una celda, capaz de contener un único valor a la vez. Usar lenguaje natural."
      ],
      "metadata": {
        "id": "-HryUhP34al1"
      }
    },
    {
      "cell_type": "markdown",
      "source": [
        "\n",
        "\n",
        "El TAD Celda cuenta con...\n",
        "\n",
        "Celda\n",
        "  |\n",
        "  -----> valor\n",
        "  |\n",
        "  -----> asignar(v)\n",
        "  |\n",
        "  ----> is_empty()\n",
        "  |\n",
        "  ----> remover()\n",
        "  |\n",
        "  ----> get()"
      ],
      "metadata": {
        "id": "tAp38sWQ63ue"
      }
    },
    {
      "cell_type": "markdown",
      "source": [
        "## Ejercicio 2: \n",
        "Basándose en la interfaz hecha en el ejercicio anterior, implementar en Python una clase Celda que respete el comportamiento descripto. Escribir tests que prueben el correcto funcionamiento de dicha interfaz. *Ayuda: para construir un conjunto pueden pasarle una lista o usar la sintaxis *args y que reciba una cantidad arbitraria de argumentos.*"
      ],
      "metadata": {
        "id": "GujTQSFE6KQL"
      }
    },
    {
      "cell_type": "code",
      "source": [
        "%%file test_celda.py\n",
        "\n",
        "# Código...\n",
        "class Celda():\n",
        "  def __init__(self, *values): #el * hace que si pasamos muchos valores todos queden guardados en value y arma unalista\n",
        "    self.value = values[0] #de todos los argumentos que le pase solo se queda con el primero\n",
        "  \n",
        "  # Así deberíamos organizar los datos un setter y un getter, aunque en el init ya lo hagamos.\n",
        "\n",
        "  def setValue(self,*values): #permite modificar el valor, al init no lo podemos llamar entonces usamos este\n",
        "    self.value = values[0]\n",
        "  \n",
        "  def getValue(self): \n",
        "    return self.value\n",
        "  \n",
        "  def remove(self):\n",
        "    self.value=None\n",
        "  \n",
        "  def is_empty(self):\n",
        "    return self.value == None\n",
        "\n",
        "def test_celda():\n",
        "  mi_celda = Celda(1,2,3,4,4)\n",
        "  assert mi_celda.getValue() == 1\n",
        "  mi_celda.remove()\n",
        "  assert mi_celda.is_empty()"
      ],
      "metadata": {
        "id": "rVpk7FEk7FfJ",
        "colab": {
          "base_uri": "https://localhost:8080/"
        },
        "outputId": "66c32370-e10c-4153-caa7-f866a7bbb422"
      },
      "execution_count": null,
      "outputs": [
        {
          "output_type": "stream",
          "name": "stdout",
          "text": [
            "Writing test_celda.py\n"
          ]
        }
      ]
    },
    {
      "cell_type": "code",
      "source": [
        "!python -m pytest"
      ],
      "metadata": {
        "id": "QiU4H8PO7IG3",
        "colab": {
          "base_uri": "https://localhost:8080/"
        },
        "outputId": "8b34005a-0ccf-4e63-9549-58847e2a07d5"
      },
      "execution_count": null,
      "outputs": [
        {
          "output_type": "stream",
          "name": "stdout",
          "text": [
            "\u001b[1m============================= test session starts ==============================\u001b[0m\n",
            "platform linux -- Python 3.7.14, pytest-3.6.4, py-1.11.0, pluggy-0.7.1\n",
            "rootdir: /content, inifile:\n",
            "plugins: typeguard-2.7.1\n",
            "\u001b[1m\rcollecting 0 items                                                             \u001b[0m\u001b[1m\rcollecting 1 item                                                              \u001b[0m\u001b[1m\rcollected 1 item                                                               \u001b[0m\n",
            "\n",
            "test_celda.py .\u001b[36m                                                          [100%]\u001b[0m\n",
            "\n",
            "\u001b[32m\u001b[1m=========================== 1 passed in 0.02 seconds ===========================\u001b[0m\n"
          ]
        }
      ]
    },
    {
      "cell_type": "markdown",
      "source": [
        "## Ejercicio 3: \n",
        "Definir la interfaz de un Conjunto, los conjuntos son los típicos en matemática, donde se definen con elementos preestablecidos, nunca cambian, y podemos preguntarnos si un elemento pertenece o no a un conjunto."
      ],
      "metadata": {
        "id": "EzKhCO6i7NLE"
      }
    },
    {
      "cell_type": "markdown",
      "source": [
        "El TAD Conjunto cuenta con... (Directamente hicimos el cuatro)\n"
      ],
      "metadata": {
        "id": "4XIK-bIt78V_"
      }
    },
    {
      "cell_type": "markdown",
      "source": [
        "## Ejercicio 4: \n",
        "Basándose en la interfaz hecha en el ejercicio anterior, implementar en Python una clase Conjunto que respete el comportamiento descrito. Escribir tests que prueben el correcto funcionamiento de dicha interfaz."
      ],
      "metadata": {
        "id": "uBp3-RTZ8Apc"
      }
    },
    {
      "cell_type": "code",
      "source": [
        "%%file test_conjunto.py\n",
        "\n",
        "class Conjunto():\n",
        "  def __init__(self, *elementos): # El * permite tener la cantidad de valores que queremos, y lo toma todo en elementos.\n",
        "    self.elementos = elementos \n",
        "\n",
        "  def pertenece(self, elemento):\n",
        "    return elemento in self.elementos #esto devuelve true si esta, false si no esta\n",
        "  \n",
        "\n",
        "def test_conjunto():\n",
        "  mi_conjunto = Conjunto(1,2,3,4,5,6)\n",
        "  assert mi_conjunto.pertenece(4) #ya devuelve el true el método, no es necesario que lo pongamos, pero si lo ponemos no estaría mal\n",
        "  assert not mi_conjunto.pertenece(7)\n",
        "\n"
      ],
      "metadata": {
        "id": "r1p1Hww37-3s",
        "colab": {
          "base_uri": "https://localhost:8080/"
        },
        "outputId": "64a9c95f-c6cd-4eda-84e5-d4dc55c497d1"
      },
      "execution_count": null,
      "outputs": [
        {
          "output_type": "stream",
          "name": "stdout",
          "text": [
            "Writing test_conjunto.py\n"
          ]
        }
      ]
    },
    {
      "cell_type": "code",
      "source": [
        "!python -m pytest"
      ],
      "metadata": {
        "id": "t3B5-DAy8ZgV",
        "colab": {
          "base_uri": "https://localhost:8080/"
        },
        "outputId": "3a495f01-cfd2-4efc-8872-af0652cdcdbd"
      },
      "execution_count": null,
      "outputs": [
        {
          "output_type": "stream",
          "name": "stdout",
          "text": [
            "\u001b[1m============================= test session starts ==============================\u001b[0m\n",
            "platform linux -- Python 3.7.14, pytest-3.6.4, py-1.11.0, pluggy-0.7.1\n",
            "rootdir: /content, inifile:\n",
            "plugins: typeguard-2.7.1\n",
            "\u001b[1m\rcollecting 0 items                                                             \u001b[0m\u001b[1m\rcollecting 1 item                                                              \u001b[0m\u001b[1m\rcollecting 2 items                                                             \u001b[0m\u001b[1m\rcollected 2 items                                                              \u001b[0m\n",
            "\n",
            "test_celda.py .\u001b[36m                                                          [ 50%]\u001b[0m\n",
            "test_conjunto.py .\u001b[36m                                                       [100%]\u001b[0m\n",
            "\n",
            "\u001b[32m\u001b[1m=========================== 2 passed in 0.02 seconds ===========================\u001b[0m\n"
          ]
        }
      ]
    },
    {
      "cell_type": "markdown",
      "source": [
        "## Ejercicio 5: \n",
        "Hacer otra implementación de Conjunto, llamada ConjuntoNativo, que internamente almacene elementos utilizando *set*. Para ello investigue el funcionamiento de dicha estructura en Python. ¿Los tests del ejercicio anterior funcionan para ambas clases? Copie y pegue los tests y vea si pasan."
      ],
      "metadata": {
        "id": "9n66GqW79Fz0"
      }
    },
    {
      "cell_type": "code",
      "source": [
        "%%file test_conjunto_nativo.py\n",
        "\n",
        "class ConjuntoNativo():\n",
        "  def __init__(self, *elementos):\n",
        "    self.elementos = set(elementos)\n",
        "\n",
        "  def pertenece(self, elemento):\n",
        "    return elemento in self.elementos\n",
        "\n",
        "def test_elemento_pertenece_a_conjunto_nativo():\n",
        "  conjunto = ConjuntoNativo(1, 2, 3)\n",
        "  assert conjunto.pertenece(1)\n",
        "  assert conjunto.pertenece(2)\n",
        "  assert conjunto.pertenece(3)\n",
        "  assert not conjunto.pertenece(4)"
      ],
      "metadata": {
        "id": "SLFeehZo-GQr",
        "colab": {
          "base_uri": "https://localhost:8080/"
        },
        "outputId": "3489786a-9329-4080-8c0a-43893d0b55cb"
      },
      "execution_count": null,
      "outputs": [
        {
          "output_type": "stream",
          "name": "stdout",
          "text": [
            "Writing test_conjunto_nativo.py\n"
          ]
        }
      ]
    },
    {
      "cell_type": "code",
      "source": [
        "!python -m pytest"
      ],
      "metadata": {
        "id": "Nx44uJ6m-JEr",
        "colab": {
          "base_uri": "https://localhost:8080/"
        },
        "outputId": "85e6dcc3-3749-48d5-ac74-94b9530ab6a3"
      },
      "execution_count": null,
      "outputs": [
        {
          "output_type": "stream",
          "name": "stdout",
          "text": [
            "\u001b[1m============================= test session starts ==============================\u001b[0m\n",
            "platform linux -- Python 3.7.14, pytest-3.6.4, py-1.11.0, pluggy-0.7.1\n",
            "rootdir: /content, inifile:\n",
            "plugins: typeguard-2.7.1\n",
            "\u001b[1m\rcollecting 0 items                                                             \u001b[0m\u001b[1m\rcollecting 1 item                                                              \u001b[0m\u001b[1m\rcollecting 2 items                                                             \u001b[0m\u001b[1m\rcollecting 3 items                                                             \u001b[0m\u001b[1m\rcollected 3 items                                                              \u001b[0m\n",
            "\n",
            "test_celda.py .\u001b[36m                                                          [ 33%]\u001b[0m\n",
            "test_conjunto.py .\u001b[36m                                                       [ 66%]\u001b[0m\n",
            "test_conjunto_nativo.py .\u001b[36m                                                [100%]\u001b[0m\n",
            "\n",
            "\u001b[32m\u001b[1m=========================== 3 passed in 0.03 seconds ===========================\u001b[0m\n"
          ]
        }
      ]
    },
    {
      "cell_type": "code",
      "source": [
        "#lo que hace el set\n",
        "my_lista = [1,2, \"lara\"]\n",
        "a = set(my_lista)\n",
        "print(a)"
      ],
      "metadata": {
        "colab": {
          "base_uri": "https://localhost:8080/"
        },
        "id": "Vux7AFFKURu5",
        "outputId": "c34bf062-a046-4d1a-ca8e-517987b9592a"
      },
      "execution_count": null,
      "outputs": [
        {
          "output_type": "stream",
          "name": "stdout",
          "text": [
            "{1, 2, 'lara'}\n"
          ]
        }
      ]
    },
    {
      "cell_type": "markdown",
      "source": [
        "## Ejercicio 6: \n",
        "Rediseñe la implementación de Celda para que siga conteniendo un único elemento por vez, pero se adhiera a la interfaz de Conjunto, o sea que acepte múltiples elementos en su constructor y que podamos preguntar por sus elementos. Llámela CeldaConjunto. ¿Los tests que hizo funcionan para esta implementación incorrecta? Si la respuesta es sí, escriba un test que pase para los conjuntos normales y falle para CeldaConjunto."
      ],
      "metadata": {
        "id": "d6IHpYl8-QXM"
      }
    },
    {
      "cell_type": "markdown",
      "source": [
        "**Hecho por mi**"
      ],
      "metadata": {
        "id": "HAOiDvVUXfLQ"
      }
    },
    {
      "cell_type": "code",
      "source": [
        "%%file test_celda_conjunto.py\n",
        "\n",
        "class CeldaConjunto():\n",
        "  \n",
        "  def __init__(self, *elementos):\n",
        "    self.value = elementos[0]\n",
        "\n",
        "  def pertenece(self, elemento):\n",
        "    return elemento == self.value\n",
        "\n",
        "  def setValue(self,*values): #permite modificar el valor, al init no lo podemos llamar entonces usamos este\n",
        "    self.value = values[0]\n",
        "  \n",
        "  def getValue(self): \n",
        "    return self.value\n",
        "  \n",
        "  def remove(self):\n",
        "    self.value=None\n",
        "  \n",
        "  def is_empty(self):\n",
        "    return self.value == None\n",
        "\n",
        "def test_conjunto_celda():\n",
        "  conjunto = CeldaConjunto(1, 2, 3)\n",
        "  assert conjunto.pertenece(1)\n",
        "  assert not conjunto.pertenece(2)\n",
        "  assert not conjunto.pertenece(3)\n",
        "  assert not conjunto.pertenece(4)  \n",
        "  assert conjunto.getValue() == 1\n",
        "  conjunto.remove()\n",
        "  assert conjunto.is_empty()"
      ],
      "metadata": {
        "id": "x_yzZvfg_DtQ",
        "colab": {
          "base_uri": "https://localhost:8080/"
        },
        "outputId": "91469f0e-a502-49a7-fff6-b7f98570c428"
      },
      "execution_count": null,
      "outputs": [
        {
          "output_type": "stream",
          "name": "stdout",
          "text": [
            "Overwriting test_celda_conjunto.py\n"
          ]
        }
      ]
    },
    {
      "cell_type": "code",
      "source": [
        "!python -m pytest"
      ],
      "metadata": {
        "id": "6iPesVYT_HLx",
        "colab": {
          "base_uri": "https://localhost:8080/"
        },
        "outputId": "896d6785-8366-421b-a6fd-e85cc97d56fd"
      },
      "execution_count": null,
      "outputs": [
        {
          "output_type": "stream",
          "name": "stdout",
          "text": [
            "\u001b[1m============================= test session starts ==============================\u001b[0m\n",
            "platform linux -- Python 3.7.14, pytest-3.6.4, py-1.11.0, pluggy-0.7.1\n",
            "rootdir: /content, inifile:\n",
            "plugins: typeguard-2.7.1\n",
            "\u001b[1m\rcollecting 0 items                                                             \u001b[0m\u001b[1m\rcollecting 1 item                                                              \u001b[0m\u001b[1m\rcollecting 2 items                                                             \u001b[0m\u001b[1m\rcollecting 3 items                                                             \u001b[0m\u001b[1m\rcollecting 4 items                                                             \u001b[0m\u001b[1m\rcollecting 4 items                                                             \u001b[0m\u001b[1m\rcollected 4 items                                                              \u001b[0m\n",
            "\n",
            "test_celda.py .\u001b[36m                                                          [ 25%]\u001b[0m\n",
            "test_celda_conjunto.py .\u001b[36m                                                 [ 50%]\u001b[0m\n",
            "test_conjunto.py .\u001b[36m                                                       [ 75%]\u001b[0m\n",
            "test_conjunto_nativo.py .\u001b[36m                                                [100%]\u001b[0m\n",
            "\n",
            "\u001b[32m\u001b[1m=========================== 4 passed in 0.03 seconds ===========================\u001b[0m\n"
          ]
        }
      ]
    },
    {
      "cell_type": "markdown",
      "source": [
        "**Hecho en clase**"
      ],
      "metadata": {
        "id": "x4bOID-tXmTC"
      }
    },
    {
      "cell_type": "code",
      "source": [
        "%%file test_celda_conjunto.py\n",
        "\n",
        "class CeldaConjunto():\n",
        "  def __init__(self, *elementos):\n",
        "    if len(elementos):\n",
        "      self.valor = elementos[0]\n",
        "    else:\n",
        "      self.valor = None\n",
        "    #self.valor = elementos[0] if len(elementos) else None\n",
        "\n",
        "  def pertenece(self, elemento):\n",
        "    return self.valor is elemento\n",
        "\n",
        "def test_elemento_pertenece_a_conjunto_celda():\n",
        "  conjunto = CeldaConjunto(1, 2, 3)\n",
        "  # assert conjunto.pertenece(1)\n",
        "  # assert conjunto.pertenece(2)\n",
        "  # assert conjunto.pertenece(3)\n",
        "  # assert not conjunto.pertenece(4)"
      ],
      "metadata": {
        "colab": {
          "base_uri": "https://localhost:8080/"
        },
        "id": "qBFhPnJBXofT",
        "outputId": "27b54263-06ed-411e-df18-49f67936cfa1"
      },
      "execution_count": null,
      "outputs": [
        {
          "output_type": "stream",
          "name": "stdout",
          "text": [
            "Overwriting test_celda_conjunto.py\n"
          ]
        }
      ]
    },
    {
      "cell_type": "code",
      "source": [
        "!python -m pytest"
      ],
      "metadata": {
        "colab": {
          "base_uri": "https://localhost:8080/"
        },
        "id": "lxXS-DOSXsEy",
        "outputId": "0bcbe2f2-f906-40e3-fe8a-8ccebf7be84b"
      },
      "execution_count": null,
      "outputs": [
        {
          "output_type": "stream",
          "name": "stdout",
          "text": [
            "\u001b[1m============================= test session starts ==============================\u001b[0m\n",
            "platform linux -- Python 3.7.14, pytest-3.6.4, py-1.11.0, pluggy-0.7.1\n",
            "rootdir: /content, inifile:\n",
            "plugins: typeguard-2.7.1\n",
            "\u001b[1m\rcollecting 0 items                                                             \u001b[0m\u001b[1m\rcollecting 1 item                                                              \u001b[0m\u001b[1m\rcollecting 2 items                                                             \u001b[0m\u001b[1m\rcollecting 3 items                                                             \u001b[0m\u001b[1m\rcollecting 4 items                                                             \u001b[0m\u001b[1m\rcollected 4 items                                                              \u001b[0m\n",
            "\n",
            "test_celda.py .\u001b[36m                                                          [ 25%]\u001b[0m\n",
            "test_celda_conjunto.py .\u001b[36m                                                 [ 50%]\u001b[0m\n",
            "test_conjunto.py .\u001b[36m                                                       [ 75%]\u001b[0m\n",
            "test_conjunto_nativo.py .\u001b[36m                                                [100%]\u001b[0m\n",
            "\n",
            "\u001b[32m\u001b[1m=========================== 4 passed in 0.03 seconds ===========================\u001b[0m\n"
          ]
        }
      ]
    },
    {
      "cell_type": "markdown",
      "source": [
        "# Lista\n"
      ],
      "metadata": {
        "id": "B479dkEtVazZ"
      }
    },
    {
      "cell_type": "markdown",
      "source": [
        "## Ejercicio 7: \n",
        "Utilizando la clase Nodo presentada a continuación\n",
        "\n",
        "```python\n",
        "class Nodo:\n",
        "  def __init__(self, valor, siguiente = None):\n",
        "    self.valor = valor\n",
        "    self.siguiente = siguiente\n",
        "```\n",
        "\n",
        "Implemente y verifique usando tests el siguiente TAD Lista Enlazada utilizando composición, una clase ListaEnlazada que contenga a Nodo.\n",
        "* **\\_\\_init__**: crea una lista vacía.\n",
        "* **agregar_principio**: mete un elemento al inicio de la lista.\n",
        "* **agregar_final**: mete un elemento al final de la lista.\n",
        "* **pertenece**: indica si un elemento se encuentra en la lista o no.\n",
        "* **imprimir**: imprime la lista en un formato agradable en consola.\n",
        "* **quitar_principio**: quita el elemento al inicio de la lista.\n",
        "* **quitar_final**: quita el elemento al final de la lista.\n",
        "* **concatenar**: dada otra Lista Enlazada, la ubica al final de la primera, resultando una única lista."
      ],
      "metadata": {
        "id": "g4T-Q2fWBNw9"
      }
    },
    {
      "cell_type": "code",
      "source": [
        "%%file test_lista_enlazada.py\n",
        "\n",
        "class Nodo:\n",
        "  def __init__(self, valor, siguiente = None):\n",
        "    self.valor = valor\n",
        "    self.siguiente = siguiente\n",
        "\n",
        "class ListaEnlazada():\n",
        "  def __init__(self):\n",
        "    self.head = None\n",
        "    self.last = None\n",
        "\n",
        "  def agregar_principio(self, nodo):\n",
        "    if self.head == None and self.last == None: #si la lista esta vacía, pongo el nodo primero y último\n",
        "      nodo.siguiente = None\n",
        "      self.head = self.last = nodo\n",
        "    else:\n",
        "      nodo.siguiente = self.head\n",
        "      self.head = nodo\n",
        "\n",
        "  def agregar_final(self, nodo):\n",
        "    if self.last == None and self.head == None:\n",
        "      nodo.siguiente = None\n",
        "      self.head = self.last = nodo\n",
        "    else:\n",
        "      self.last.siguiente = nodo #al último le pongo un siguiente\n",
        "      self.last = nodo #cambiamos el último por el nodo que agregamos\n",
        "      self.last.siguiente = None #el último no tiene siguiente\n",
        "\n",
        "  def pertenece(self, value):\n",
        "      current_node = self.head\n",
        "      while current_node: #Mientras que current_node no sea None, sería lo mismo que poner !=None\n",
        "        if current_node.valor == value:\n",
        "          return True\n",
        "        current_node = current_node.siguiente\n",
        "      return False\n",
        "\n",
        "  def __str__(self):\n",
        "    current_node = self.head\n",
        "    a = \"\"\n",
        "    while current_node: #Mientras que current_node no sea None\n",
        "      #a = f\"{a} {current_node.valor}\"\n",
        "      a += f\" {current_node.valor}\" \n",
        "      #a += \" \" + str(current_node.valor)\n",
        "      current_node = current_node.siguiente\n",
        "    return a\n",
        "\n",
        "  def quitar_principio(self):\n",
        "    if self.head: #si hay un primer elemento\n",
        "      self.head=self.head.siguiente\n",
        "\n",
        "  def quitar_final(self): #ir al pernúltimo e indicar que no tiene siguiente\n",
        "    current_node = self.head\n",
        "    while current_node:\n",
        "      if current_node.siguiente == self.last: #verificamos si el nodo actual es el último\n",
        "        self.last = current_node\n",
        "        self.last.siguiente = None #elimino el último\n",
        "      else:\n",
        "        current_node = current_node.siguiente\n",
        "\n",
        "  def concatenar(self, other):\n",
        "    if self.last: #si la lista no esta vacía\n",
        "      self.last.siguiente = other.head\n",
        "      self.last = other.last \n",
        "    else:\n",
        "      self.head = other.head\n",
        "      self.last = other.last\n",
        "\n",
        "  def __len__(self):\n",
        "    count = 0\n",
        "    current_node = self.head\n",
        "    while current_node:\n",
        "      count += 1\n",
        "      current_node = current_node.siguiente\n",
        "    return count\n",
        "\n",
        "def test_lista_enlazada():\n",
        "  lista = ListaEnlazada()\n",
        "  lista.agregar_principio(Nodo(1)) #agrega None al siguiente porque no ponemos nada, lo pone por defecto\n",
        "  lista.agregar_final(Nodo(4))\n",
        "  lista.agregar_principio(Nodo(3))\n",
        "  assert str(lista) == \" 3 1 4\"\n",
        "  assert len(lista) == 3"
      ],
      "metadata": {
        "id": "24sZKvtlI-l5",
        "colab": {
          "base_uri": "https://localhost:8080/"
        },
        "outputId": "7391db67-8fe2-4dfe-cfd6-ea1331f2bae0"
      },
      "execution_count": null,
      "outputs": [
        {
          "output_type": "stream",
          "name": "stdout",
          "text": [
            "Writing test_lista_enlazada.py\n"
          ]
        }
      ]
    },
    {
      "cell_type": "code",
      "source": [
        "!python -m pytest"
      ],
      "metadata": {
        "id": "2gOPS-0WJBiH",
        "colab": {
          "base_uri": "https://localhost:8080/"
        },
        "outputId": "dec6e556-80c0-4683-f170-e49265822313"
      },
      "execution_count": null,
      "outputs": [
        {
          "output_type": "stream",
          "name": "stdout",
          "text": [
            "\u001b[1m============================= test session starts ==============================\u001b[0m\n",
            "platform linux -- Python 3.7.14, pytest-3.6.4, py-1.11.0, pluggy-0.7.1\n",
            "rootdir: /content, inifile:\n",
            "plugins: typeguard-2.7.1\n",
            "\u001b[1m\rcollecting 0 items                                                             \u001b[0m\u001b[1m\rcollecting 1 item                                                              \u001b[0m\u001b[1m\rcollected 1 item                                                               \u001b[0m\n",
            "\n",
            "test_lista_enlazada.py .\u001b[36m                                                 [100%]\u001b[0m\n",
            "\n",
            "\u001b[32m\u001b[1m=========================== 1 passed in 0.02 seconds ===========================\u001b[0m\n"
          ]
        }
      ]
    },
    {
      "cell_type": "code",
      "source": [
        "#Probando cosas\n",
        "a = [1,2,3]\n",
        "a = [0] + [1,2,3]\n",
        "print(a)\n",
        "\n",
        "a.pop(len(a)-1)\n",
        "print(a)\n"
      ],
      "metadata": {
        "colab": {
          "base_uri": "https://localhost:8080/"
        },
        "id": "g9rPY7YUYrXa",
        "outputId": "f776db5f-b036-4503-da19-49257537bf61"
      },
      "execution_count": null,
      "outputs": [
        {
          "output_type": "stream",
          "name": "stdout",
          "text": [
            "[0, 1, 2, 3]\n",
            "[0, 1, 2]\n"
          ]
        }
      ]
    },
    {
      "cell_type": "markdown",
      "source": [
        "## Ejercicio 8: \n",
        "Modifique el ejercicio anterior para que pertenece e imprimir sean métodos recursivos en Nodo y la clase ListaEnlazada simplemente llame a estos. Compruebe que los tests sigan funcionando. ¿Se le ocurren otros métodos en donde podríamos hacer lo mismo?"
      ],
      "metadata": {
        "id": "ixAH9eGPFv1k"
      }
    },
    {
      "cell_type": "markdown",
      "source": [
        "**Hecho en clase**"
      ],
      "metadata": {
        "id": "MHRKaF1GSDm9"
      }
    },
    {
      "cell_type": "code",
      "source": [
        "%%file test_lista_enlazada_recursiva.py\n",
        "\n",
        "class Nodo:\n",
        "  def __init__(self, valor, siguiente = None):\n",
        "    self.valor = valor\n",
        "    self.siguiente = siguiente\n",
        "\n",
        "  def pertenece(self, elemento):\n",
        "    if self.valor == elemento:\n",
        "      return True\n",
        "\n",
        "    if self.siguiente is None:\n",
        "      return False\n",
        "    \n",
        "    return self.siguiente.pertenece(elemento)\n",
        "\n",
        "  def imprimir(self):\n",
        "    print(self.valor)\n",
        "\n",
        "    if self.siguiente is not None:\n",
        "      self.siguiente.imprimir()"
      ],
      "metadata": {
        "id": "scMarVfLJE43"
      },
      "execution_count": null,
      "outputs": []
    },
    {
      "cell_type": "code",
      "source": [
        "!python -m pytest"
      ],
      "metadata": {
        "id": "IuTXzoPxJG3R"
      },
      "execution_count": null,
      "outputs": []
    },
    {
      "cell_type": "markdown",
      "source": [
        "## Ejercicio 9: \n",
        "Implemente una clase ListaNativa que respete el TAD anterior, y que internamente utilice lista nativas de Python."
      ],
      "metadata": {
        "id": "57Afqoz2JZ1F"
      }
    },
    {
      "cell_type": "code",
      "source": [
        "%%file test_lista_nativa.py\n",
        "\n",
        "class ListaNativa():\n",
        "  def __init__(self):\n",
        "    self.lista = []    \n",
        "\n",
        "  def agregar_principio(self, value):\n",
        "    self.lista = [value] + self.lista\n",
        "\n",
        "  def agregar_final(self, value):\n",
        "    self.lista = self.lista + [value]\n",
        "\n",
        "  def pertenece(self, value):\n",
        "    return value in self.lista\n",
        "      \n",
        "  def __str__(self):\n",
        "    return f\"{self.lista}\"\n",
        "    #return str(self.lsita)\n",
        "\n",
        "  def quitar_principio(self):\n",
        "    self.lista.pop(0)\n",
        "\n",
        "  def quitar_final(self): \n",
        "    self.lista.pop(len(self.lista)-1)\n",
        "\n",
        "  def concatenar(self, other):\n",
        "    self.lista = self.lista + other.lista\n",
        "    #si ponemos solo other en la línea de arriba, no esta bien, porque other es un objeto, la lista de ese\n",
        "    #objeto es other.lista\n",
        "\n",
        "  def __len__(self):\n",
        "    return len(self.lista)\n",
        "\n",
        "\n",
        "#TEST (hacer)\n",
        "\"\"\"\n",
        "def test_lista_enlazada():\n",
        "  lista = ListaEnlazada()\n",
        "  lista.agregar_principio(Nodo(1)) #agrega None al siguiente porque no ponemos nada, lo pone por defecto\n",
        "  lista.agregar_final(Nodo(4))\n",
        "  lista.agregar_principio(Nodo(3))\n",
        "  assert str(lista) == \" 3 1 4\"\n",
        "  assert len(lista) == 3\n",
        "\"\""
      ],
      "metadata": {
        "id": "LQB94eTWJkem"
      },
      "execution_count": null,
      "outputs": []
    },
    {
      "cell_type": "code",
      "source": [
        "!python -m pytest"
      ],
      "metadata": {
        "id": "D5PpqkMHJlOM"
      },
      "execution_count": null,
      "outputs": []
    },
    {
      "cell_type": "markdown",
      "source": [
        "#Pila"
      ],
      "metadata": {
        "id": "hPC6i9MpVbx8"
      }
    },
    {
      "cell_type": "markdown",
      "source": [
        "## Ejercicio 10: \n",
        "Basándose en el TAD de pila, implementar una clase Stack con listas de Python"
      ],
      "metadata": {
        "id": "UPeWu477KEzv"
      }
    },
    {
      "cell_type": "code",
      "source": [
        "%%file test_stack.py\n",
        "\n",
        "class Stack():\n",
        "  def __init__(self):\n",
        "    self.items = []\n",
        "  \n",
        "  def push(self,item):\n",
        "    self.items.append(item)\n",
        "\n",
        "  def pop(self):\n",
        "    return self.items.pop()\n",
        "\n",
        "  def isEmpty(self):\n",
        "    return (self.items == []) #devuelve true si esta vacía\n",
        "\n",
        "  def __str__(self):\n",
        "    return str(self.items)\n",
        "\n",
        "def test_stack():\n",
        " stack = Stack()\n",
        " stack.push(1)\n",
        " assert str(stack) == \"[1]\"\n",
        " stack.pop()\n",
        " assert stack.isEmpty() == True\n"
      ],
      "metadata": {
        "id": "w1izAo0OKEzz",
        "colab": {
          "base_uri": "https://localhost:8080/"
        },
        "outputId": "05c998ab-45bd-42bf-b621-0871d5d8aede"
      },
      "execution_count": 5,
      "outputs": [
        {
          "output_type": "stream",
          "name": "stdout",
          "text": [
            "Writing test_stack.py\n"
          ]
        }
      ]
    },
    {
      "cell_type": "code",
      "source": [
        "!python -m pytest"
      ],
      "metadata": {
        "id": "T7x1_5ANKEz0",
        "colab": {
          "base_uri": "https://localhost:8080/"
        },
        "outputId": "cf1eb5ae-4685-48eb-da57-59547d186932"
      },
      "execution_count": 6,
      "outputs": [
        {
          "output_type": "stream",
          "name": "stdout",
          "text": [
            "\u001b[1m============================= test session starts ==============================\u001b[0m\n",
            "platform linux -- Python 3.7.14, pytest-3.6.4, py-1.11.0, pluggy-0.7.1\n",
            "rootdir: /content, inifile:\n",
            "plugins: typeguard-2.7.1\n",
            "\u001b[1m\rcollecting 0 items                                                             \u001b[0m\u001b[1m\rcollecting 1 item                                                              \u001b[0m\u001b[1m\rcollecting 2 items                                                             \u001b[0m\u001b[1m\rcollected 2 items                                                              \u001b[0m\n",
            "\n",
            "test_stack.py .\u001b[36m                                                          [ 50%]\u001b[0m\n",
            "test_tree_methods.py .\u001b[36m                                                   [100%]\u001b[0m\n",
            "\n",
            "\u001b[32m\u001b[1m=========================== 2 passed in 0.03 seconds ===========================\u001b[0m\n"
          ]
        }
      ]
    },
    {
      "cell_type": "markdown",
      "source": [
        "## Ejercicio 11: \n",
        "Dado un Stack, volcar su contenido en otro Stack, verificar que al vaciar el contenido de este, los elementos salen en el mismo orden en que ingresaron al primero. Utilizar solamente los métodos del TAD pila para resolver."
      ],
      "metadata": {
        "id": "Sq8igdNsKXop"
      }
    },
    {
      "cell_type": "code",
      "source": [
        "%%file test_volcar_stack.py\n",
        "\n",
        "from test_stack import Stack\n",
        "\n",
        "def volcar_stack(stack1, stack2):\n",
        "  stack3 = Stack()\n",
        "  while stack1.isEmpty() != True: #Si tiene algo da False\n",
        "    a=stack1.pop()\n",
        "    stack3.push(a)\n",
        "  print(stack3)\n",
        "  while stack3.isEmpty() != True:\n",
        "    b=stack3.pop()\n",
        "    stack2.push(b)\n",
        "  print(stack2)\n",
        "    \n",
        "stack1= Stack()\n",
        "stack1.push(1)\n",
        "stack1.push(2)\n",
        "stack1.push(3)\n",
        "stack2= Stack()\n",
        "volcar_stack(stack1,stack2)\n",
        "\n",
        "#TEST\n",
        "def test_volcar_stack():\n",
        "  stack1= Stack()\n",
        "  stack1.push(1)\n",
        "  stack1.push(2)\n",
        "  stack1.push(3)\n",
        "  stack2= Stack()\n",
        "  volcar_stack(stack1,stack2)\n",
        "  assert str(stack2) == \"[1, 2, 3]\"\n",
        "  assert stack2.pop() == 3\n",
        "  assert stack2.pop() == 2\n",
        "  assert stack2.pop() == 1\n",
        "\n",
        "  "
      ],
      "metadata": {
        "id": "XArq1WGSKXow",
        "colab": {
          "base_uri": "https://localhost:8080/"
        },
        "outputId": "4e263539-52c9-4729-fee6-a1ffdb548bc3"
      },
      "execution_count": 11,
      "outputs": [
        {
          "output_type": "stream",
          "name": "stdout",
          "text": [
            "Overwriting test_volcar_stack.py\n"
          ]
        }
      ]
    },
    {
      "cell_type": "code",
      "source": [
        "!python test_volcar_stack.py #ejecita el archivo, entonces nos hace los dos print que pusimos en la función"
      ],
      "metadata": {
        "colab": {
          "base_uri": "https://localhost:8080/"
        },
        "id": "fv8CZWVEboK1",
        "outputId": "86d44e00-ff6c-4fbc-a42f-98bf477a9dd6"
      },
      "execution_count": null,
      "outputs": [
        {
          "output_type": "stream",
          "name": "stdout",
          "text": [
            "[3, 2, 1]\n",
            "[1, 2, 3]\n"
          ]
        }
      ]
    },
    {
      "cell_type": "code",
      "source": [
        "!python -m pytest"
      ],
      "metadata": {
        "id": "PySvyM4QKXow",
        "colab": {
          "base_uri": "https://localhost:8080/"
        },
        "outputId": "e4a74587-7f65-4bb3-9462-a6f75405cf08"
      },
      "execution_count": 12,
      "outputs": [
        {
          "output_type": "stream",
          "name": "stdout",
          "text": [
            "\u001b[1m============================= test session starts ==============================\u001b[0m\n",
            "platform linux -- Python 3.7.14, pytest-3.6.4, py-1.11.0, pluggy-0.7.1\n",
            "rootdir: /content, inifile:\n",
            "plugins: typeguard-2.7.1\n",
            "\u001b[1m\rcollecting 0 items                                                             \u001b[0m\u001b[1m\rcollecting 1 item                                                              \u001b[0m\u001b[1m\rcollecting 2 items                                                             \u001b[0m\u001b[1m\rcollecting 3 items                                                             \u001b[0m\u001b[1m\rcollected 3 items                                                              \u001b[0m\n",
            "\n",
            "test_stack.py .\u001b[36m                                                          [ 33%]\u001b[0m\n",
            "test_tree_methods.py .\u001b[36m                                                   [ 66%]\u001b[0m\n",
            "test_volcar_stack.py .\u001b[36m                                                   [100%]\u001b[0m\n",
            "\n",
            "\u001b[32m\u001b[1m=========================== 3 passed in 0.03 seconds ===========================\u001b[0m\n"
          ]
        }
      ]
    },
    {
      "cell_type": "markdown",
      "source": [
        "## Ejercicio 12: \n",
        "Dado un Stack de números, reordenarlos para que estén abajo los impares y arriba los pares, pero que entre números del mismo tipo preserven el orden. *Ayuda: utilizar dos Stacks auxiliares de números pares e impares respectivamente*.\n",
        "\n",
        "Ejemplo:\n",
        "```\n",
        "4      4\n",
        "3  =>  2\n",
        "2      3\n",
        "1      1\n",
        "```\n",
        "\n",
        "Vamos a ordenar primero los impares de menor a mayor y luego los pares de menor a mayor."
      ],
      "metadata": {
        "id": "EZFrgr0iLM31"
      }
    },
    {
      "cell_type": "code",
      "source": [
        "%%file test_reordenar_stack.py\n",
        "\n",
        "from test_stack import Stack\n",
        "\n",
        "def ordenar(stack_dato):\n",
        "  stack_ordenado = Stack()\n",
        "  lista_pares = []\n",
        "  lista_impares = []\n",
        "  while stack_dato.isEmpty() != True:\n",
        "    numero = stack_dato.pop()\n",
        "    if numero % 2 == 0:\n",
        "      lista_pares.append(numero)\n",
        "    else:\n",
        "      lista_impares.append(numero)\n",
        "  lista_pares.sort()\n",
        "  #lista_pares.reverse()\n",
        "  lista_impares.sort()\n",
        "  #lista_impares.reverse()\n",
        "  for i in lista_impares:\n",
        "    stack_ordenado.push(i)\n",
        "  for j in lista_pares:\n",
        "    stack_ordenado.push(j)\n",
        "  return stack_ordenado\n",
        "\n",
        "#El test esta comentado porque no lo termine de escribir\n",
        "def test_ordenar():\n",
        "  stack_dato=Stack()\n",
        "  stack_dato.push(5)\n",
        "  stack_dato.push(8)\n",
        "  stack_dato.push(4)\n",
        "  stack_dato.push(3)\n",
        "  stack_dato.push(2)\n",
        "  #stack_dato = [5,8,4,3,2]\n",
        "  #Queremos que stack_ordenado = [3,5,2,4,8]\n",
        "  stack_ordenado = ordenar(stack_dato)\n",
        "  assert stack_ordenado.pop() == 8\n",
        "  assert stack_ordenado.pop() == 4\n",
        "\n"
      ],
      "metadata": {
        "id": "YQfZ8QmoLM36",
        "colab": {
          "base_uri": "https://localhost:8080/"
        },
        "outputId": "c6e0a944-a36c-4b38-ebc6-fdd2bea3cde2"
      },
      "execution_count": null,
      "outputs": [
        {
          "output_type": "stream",
          "name": "stdout",
          "text": [
            "Overwriting test_reordenar_stack.py\n"
          ]
        }
      ]
    },
    {
      "cell_type": "code",
      "source": [
        "!python -m pytest"
      ],
      "metadata": {
        "id": "6WeBs2QaLM38",
        "colab": {
          "base_uri": "https://localhost:8080/"
        },
        "outputId": "8c971cb7-8055-498e-a57a-233813f3b091"
      },
      "execution_count": null,
      "outputs": [
        {
          "output_type": "stream",
          "name": "stdout",
          "text": [
            "\u001b[1m============================= test session starts ==============================\u001b[0m\n",
            "platform linux -- Python 3.7.14, pytest-3.6.4, py-1.11.0, pluggy-0.7.1\n",
            "rootdir: /content, inifile:\n",
            "plugins: typeguard-2.7.1\n",
            "\u001b[1m\rcollecting 0 items                                                             \u001b[0m\u001b[1m\rcollecting 1 item                                                              \u001b[0m\u001b[1m\rcollecting 2 items                                                             \u001b[0m\u001b[1m\rcollecting 3 items                                                             \u001b[0m\u001b[1m\rcollected 3 items                                                              \u001b[0m\n",
            "\n",
            "test_reordenar_stack.py .\u001b[36m                                                [ 33%]\u001b[0m\n",
            "test_stack.py .\u001b[36m                                                          [ 66%]\u001b[0m\n",
            "test_volcar_stack.py .\u001b[36m                                                   [100%]\u001b[0m\n",
            "\n",
            "\u001b[32m\u001b[1m=========================== 3 passed in 0.03 seconds ===========================\u001b[0m\n"
          ]
        }
      ]
    },
    {
      "cell_type": "code",
      "source": [
        "lista_prueba = [4,8,6]\n",
        "print(lista_prueba)\n",
        "lista_prueba.reverse()\n",
        "print(lista_prueba)"
      ],
      "metadata": {
        "colab": {
          "base_uri": "https://localhost:8080/"
        },
        "id": "-5X6JpJwkxcT",
        "outputId": "cb9992c1-b037-4a53-dc3b-03800795d5ed"
      },
      "execution_count": null,
      "outputs": [
        {
          "output_type": "stream",
          "name": "stdout",
          "text": [
            "[4, 8, 6]\n",
            "[6, 8, 4]\n"
          ]
        }
      ]
    },
    {
      "cell_type": "markdown",
      "source": [
        "## Ejercicio 13: \n",
        "Construir un Stack con números y 4 operaciones representadas por los strings de sus símbolos\n",
        "\n",
        "* suma +\n",
        "* resta -\n",
        "* multiplicación *\n",
        "* división /\n",
        "\n",
        "Se les dará como entrada una secuencia de números y operaciones en notación *posfija* y usarán el Stack para evaluarla.\n",
        "\n",
        "La notación posfija tiene las operaciones a la derecha de los operandos, cuando nosotros normalmente las tenemos al medio, llamada notación *infija*. La ventaja de esta notación es que los paréntesis son innecesarios! Hay múltiples formas de evaluar una expresión posfija usando Stack, iterativas y recursivas. Pensar una solución cualquiera.\n",
        "```\n",
        "(1 + 2) * (3 - 4) # infija\n",
        "1 2 + 3 4 - * # posfija\n",
        "```"
      ],
      "metadata": {
        "id": "G-rZeERoMf3Y"
      }
    },
    {
      "cell_type": "code",
      "source": [
        "%%file test_postfix.py\n",
        "\n",
        "from test_stack import Stack\n",
        "\n",
        "\"\"\"\n",
        "La solución aca propuesta es definir una función que utiliza un Stack para resolver el problema planteado.\n",
        "Conceptualmente, esta función se debe implementar por fuera de la clase Stack ya que no pertenece al TAD Stack.\n",
        "\n",
        "Adicionalmente, usamos una simplificación del argumento de esta función y suponemos\n",
        "que es una lista de números y símbolos en vez de un string.\n",
        "Si tomaramos un string, deberiamos procesarlo con el método split() separando por espacios.\n",
        "\"\"\"\n",
        "\n",
        "\n",
        "def eval_postfix(expr):\n",
        "  stack = Stack()\n",
        "\n",
        "  for symbol in expr:\n",
        "    if type(symbol) is int or type(symbol) is float:\n",
        "      stack.push(symbol)\n",
        "      continue\n",
        "    \n",
        "    n2, n1 = stack.pop(), stack.pop()\n",
        "    \n",
        "    if symbol == \"+\":\n",
        "      stack.push(n1+n2)\n",
        "    elif symbol ==  \"-\":\n",
        "      stack.push(n1-n2)\n",
        "    elif symbol == \"*\":\n",
        "      stack.push(n1*n2)\n",
        "    elif symbol == \"/\":\n",
        "      stack.push(n1/n2)\n",
        "    else:\n",
        "      raise symbol #Simbolo que no reconoce este evaluador\n",
        "\n",
        "  return stack.pop()\n",
        "\n",
        "def test_postfix():\n",
        "  assert eval_postfix([1, 2, \"+\", 3, 4, \"-\", \"*\"]) == -3"
      ],
      "metadata": {
        "id": "J7wtZjncMf3Z",
        "colab": {
          "base_uri": "https://localhost:8080/"
        },
        "outputId": "6a7bbee7-1997-4313-8ac1-6f5bbae212b9"
      },
      "execution_count": null,
      "outputs": [
        {
          "output_type": "stream",
          "name": "stdout",
          "text": [
            "Writing test_postfix.py\n"
          ]
        }
      ]
    },
    {
      "cell_type": "code",
      "source": [
        "!python -m pytest"
      ],
      "metadata": {
        "id": "YSAXbwR2Mf3Z",
        "colab": {
          "base_uri": "https://localhost:8080/"
        },
        "outputId": "63ae4e7a-93f7-4ffe-a479-816850865603"
      },
      "execution_count": null,
      "outputs": [
        {
          "output_type": "stream",
          "name": "stdout",
          "text": [
            "\u001b[1m============================= test session starts ==============================\u001b[0m\n",
            "platform linux -- Python 3.7.14, pytest-3.6.4, py-1.11.0, pluggy-0.7.1\n",
            "rootdir: /content, inifile:\n",
            "plugins: typeguard-2.7.1\n",
            "\u001b[1m\rcollecting 0 items                                                             \u001b[0m\u001b[1m\rcollecting 1 item                                                              \u001b[0m\u001b[1m\rcollecting 2 items                                                             \u001b[0m\u001b[1m\rcollecting 3 items                                                             \u001b[0m\u001b[1m\rcollecting 4 items                                                             \u001b[0m\u001b[1m\rcollected 4 items                                                              \u001b[0m\n",
            "\n",
            "test_postfix.py .\u001b[36m                                                        [ 25%]\u001b[0m\n",
            "test_reordenar_stack.py .\u001b[36m                                                [ 50%]\u001b[0m\n",
            "test_stack.py .\u001b[36m                                                          [ 75%]\u001b[0m\n",
            "test_volcar_stack.py .\u001b[36m                                                   [100%]\u001b[0m\n",
            "\n",
            "\u001b[32m\u001b[1m=========================== 4 passed in 0.02 seconds ===========================\u001b[0m\n"
          ]
        }
      ]
    },
    {
      "cell_type": "markdown",
      "source": [
        "## Ejercicio 14: \n",
        "Verificar si una expresión tiene paréntesis válidos, es decir, no hay paréntesis sin cerrar en la expresión.\n",
        "\n",
        "***Adicional***: Extienda la implementación para verificar también corchetes y llaves.\n",
        "\n",
        "Ejemplos:\n",
        "\n",
        "`verificar_parentesis(\"((a+b))\") => True \\\n",
        "verificar_parentesis(\"(((3*x)\") => False`"
      ],
      "metadata": {
        "id": "32rrcL6yoEio"
      }
    },
    {
      "cell_type": "markdown",
      "source": [
        "**Hecho en Consulta**"
      ],
      "metadata": {
        "id": "Gw0oNCZXtMfk"
      }
    },
    {
      "cell_type": "code",
      "source": [
        "%%file test_verificar_parentesis.py\n",
        "\n",
        "def verificar_parentesis(expr):\n",
        "  stack = []\n",
        "  for caracter in expr:\n",
        "    if caracter == \"(\":\n",
        "      stack.append(caracter)\n",
        "      continue\n",
        "    if caracter == \")\":\n",
        "      if len(stack) > 0:\n",
        "        stack.pop()\n",
        "      else:   \n",
        "        return False\n",
        "  return len(stack)==0\n",
        "\n",
        "def test_parentesis():\n",
        "  assert verificar_parentesis(\"((a+b))\")\n",
        "  assert not verificar_parentesis(\"(((3*x)\") \n",
        "\n",
        "''' if len(stack)>0:\n",
        "  return False\n",
        "  else:\n",
        "    return True \n",
        "'''"
      ],
      "metadata": {
        "id": "vY1wDTXipq7Q",
        "colab": {
          "base_uri": "https://localhost:8080/"
        },
        "outputId": "b7112014-285e-4a8d-afc3-3561bc5e64ec"
      },
      "execution_count": null,
      "outputs": [
        {
          "output_type": "stream",
          "name": "stdout",
          "text": [
            "Writing test_verificar_parentesis.py\n"
          ]
        }
      ]
    },
    {
      "cell_type": "code",
      "source": [
        "! python -m pytest"
      ],
      "metadata": {
        "colab": {
          "base_uri": "https://localhost:8080/"
        },
        "id": "tZ5ScwJOxbbj",
        "outputId": "fae6bdeb-71ec-4d11-aacc-8122e96d9470"
      },
      "execution_count": null,
      "outputs": [
        {
          "output_type": "stream",
          "name": "stdout",
          "text": [
            "\u001b[1m============================= test session starts ==============================\u001b[0m\n",
            "platform linux -- Python 3.7.14, pytest-3.6.4, py-1.11.0, pluggy-0.7.1\n",
            "rootdir: /content, inifile:\n",
            "plugins: typeguard-2.7.1\n",
            "\u001b[1m\rcollecting 0 items                                                             \u001b[0m\u001b[1m\rcollecting 1 item                                                              \u001b[0m\u001b[1m\rcollecting 2 items                                                             \u001b[0m\u001b[1m\rcollecting 3 items                                                             \u001b[0m\u001b[1m\rcollecting 4 items                                                             \u001b[0m\u001b[1m\rcollecting 5 items                                                             \u001b[0m\u001b[1m\rcollected 5 items                                                              \u001b[0m\n",
            "\n",
            "test_postfix.py .\u001b[36m                                                        [ 20%]\u001b[0m\n",
            "test_reordenar_stack.py .\u001b[36m                                                [ 40%]\u001b[0m\n",
            "test_stack.py .\u001b[36m                                                          [ 60%]\u001b[0m\n",
            "test_verificar_parentesis.py .\u001b[36m                                           [ 80%]\u001b[0m\n",
            "test_volcar_stack.py .\u001b[36m                                                   [100%]\u001b[0m\n",
            "\n",
            "\u001b[32m\u001b[1m=========================== 5 passed in 0.03 seconds ===========================\u001b[0m\n"
          ]
        }
      ]
    },
    {
      "cell_type": "markdown",
      "source": [
        "**Hecho en clase**"
      ],
      "metadata": {
        "id": "7ZeHMobbtSKF"
      }
    },
    {
      "cell_type": "code",
      "source": [
        "%%file test_verificar_parentesis.py\n",
        "\n",
        "from test_stack import Stack\n",
        "\n",
        "\"\"\"\n",
        "Para resolver el problema de parentesis se proponen dos soluciones.\n",
        "\n",
        "La primera utiliza un Stack como es esperado. A medida que encuentra '(' los agrega al Stack.\n",
        "Cuando encuentra ')', verifica si hay simbolos en el Stack (parentesis que abren). En caso negativo,\n",
        "significa que la expresion tenia parentesis invalidos. Si todavia hay elementos en el stack, sacamos uno\n",
        "pero no quiere decir que la expresión es valida. Podemos asegurar tal cosa si solo si al final de recorrer\n",
        "toda la expresión no queda ninguno simbolo en el stack (parentensis abiertos sin cerrar).\n",
        "\n",
        "En la segunda solución se utiliza un contador en vez de una pila. Resulta interesante ver\n",
        "que el código es equivalente al primero. Cuando encontramos '(' sumamos 1 al contador (pusheamos a la pila).\n",
        "Cuando encontramos ')', si el contador está en cero (stack vacio) retornamos falso. Caso contrario,\n",
        "disminuimos el contador en uno (stack.pop()). Nuevamente, la expresión es validad\n",
        "si solo si el contador es 0 (stack vacio).\n",
        "\"\"\"\n",
        "\n",
        "def verificar_parentesis(expr):\n",
        "  stack = Stack()\n",
        "\n",
        "  for symbol in expr:\n",
        "    if symbol == \")\":\n",
        "      if stack.isEmpty():\n",
        "        return False\n",
        "      stack.pop()\n",
        "    if symbol == \"(\":\n",
        "      stack.push(symbol)\n",
        "\n",
        "  return stack.isEmpty()\n",
        "\n",
        "def verificar_parentesis_sin_stack(expr):\n",
        "  counter = 0\n",
        "\n",
        "  for symbol in expr:\n",
        "    if symbol == \")\":\n",
        "      if counter == 0:\n",
        "        return False\n",
        "      counter -= 1\n",
        "    if symbol == \"(\":\n",
        "      counter += 1\n",
        "  \n",
        "  return counter == 0\n",
        "\n",
        "\n",
        "\"\"\"\n",
        "Podemos extender el problema para que tambien verifique corchetes y llaves de dos maneras.\n",
        "La primera es recibiendo un argumento extra, el cual es un diccionario con pares\n",
        "simbolo que cierra: simbolo que abre (')','(').\n",
        "\n",
        "La segunda es definir una función auxiliar que dado un simbolo que cierra devuelve\n",
        "el simbolo que cierra correspondiente.\n",
        "\"\"\"\n",
        "\n",
        "\n",
        "def verificar_matchs(expr, matchs):\n",
        "  stack = Stack()\n",
        "  for symbol in expr:\n",
        "    if symbol in matchs.keys():\n",
        "      if stack.isEmpty() or stack.pop() != matchs[symbol]:\n",
        "        return False\n",
        "    if symbol in matchs.values():\n",
        "      stack.push(symbol)\n",
        "\n",
        "  return stack.isEmpty()\n",
        "\n",
        "def reverse(symbol):\n",
        "  if symbol == \")\":\n",
        "    return \"(\"\n",
        "  elif symbol == \"]\":\n",
        "    return \"[\"\n",
        "  elif symbol == \"}\":\n",
        "    return \"{\"\n",
        "\n",
        "def verificar_matching(expr):\n",
        "  stack = Stack()\n",
        "  \n",
        "  for symbol in expr:\n",
        "    if symbol in [ \")\", \"]\", \"}\"]:\n",
        "      if stack.isEmpty() or stack.pop() != reverse(symbol):\n",
        "        return False\n",
        "    if symbol in [\"(\", \"[\", \"{\"]:\n",
        "      stack.push(symbol)\n",
        "  \n",
        "  return stack.isEmpty()\n",
        "\n",
        "\n",
        "def test_verificar_parentesis():\n",
        "  assert verificar_parentesis(\"((a+b))\")\n",
        "  assert not verificar_parentesis(\"(((3*x)\")\n",
        "  assert verificar_parentesis(\"(a+b)*((3/9)*8)\")\n",
        "  assert not verificar_parentesis(\"))((\")\n",
        "  assert not verificar_parentesis(\"(((a+b)\")\n",
        "\n",
        "def test_verificar_parentesis_sin_stack():\n",
        "  assert verificar_parentesis_sin_stack(\"((a+b))\")\n",
        "  assert not verificar_parentesis_sin_stack(\"(((3*x)\")\n",
        "  assert verificar_parentesis_sin_stack(\"(a+b)*((3/9)*8)\")\n",
        "  assert not verificar_parentesis_sin_stack(\"))((\")\n",
        "  assert not verificar_parentesis_sin_stack(\"(((a+b)\")\n",
        "\n",
        "\n",
        "def test_verificar_matchs():\n",
        "  matchs = {\")\":\"(\", \"}\":\"{\", \"]\":\"[\"}\n",
        "  assert verificar_matchs(\"((a+b))\", matchs)\n",
        "  assert not verificar_matchs(\"(((3*x)\", matchs)\n",
        "  assert verificar_matchs(\"(a+b)*((3/9)*8)\", matchs)\n",
        "  assert not verificar_matchs(\"))((\", matchs)\n",
        "  assert verificar_matchs(\"[(a+b)*5]/2\", matchs)\n",
        "  assert not verificar_matchs(\"([)]\", matchs)\n",
        "  assert verificar_matchs(\"([{}])\", matchs)\n",
        "\n",
        "def test_verificar_matching():\n",
        "  assert verificar_matching(\"((a+b))\")\n",
        "  assert not verificar_matching(\"(((3*x)\")\n",
        "  assert verificar_matching(\"(a+b)*((3/9)*8)\")\n",
        "  assert not verificar_matching(\"))((\")\n",
        "  assert verificar_matching(\"[(a+b)*5]/2\")\n",
        "  assert not verificar_matching(\"([)]\")\n",
        "  assert verificar_matching(\"([{}])\")"
      ],
      "metadata": {
        "colab": {
          "base_uri": "https://localhost:8080/"
        },
        "id": "UHBP2U0ftUJp",
        "outputId": "b15a8b89-7eb6-4f97-badc-5a80f7dd9dcd"
      },
      "execution_count": null,
      "outputs": [
        {
          "output_type": "stream",
          "name": "stdout",
          "text": [
            "Overwriting test_verificar_parentesis.py\n"
          ]
        }
      ]
    },
    {
      "cell_type": "code",
      "source": [
        "!python -m pytest"
      ],
      "metadata": {
        "colab": {
          "base_uri": "https://localhost:8080/"
        },
        "id": "K0tTa59FteJ5",
        "outputId": "37567011-c75c-4af2-a5ac-ec704d559a90"
      },
      "execution_count": null,
      "outputs": [
        {
          "output_type": "stream",
          "name": "stdout",
          "text": [
            "\u001b[1m============================= test session starts ==============================\u001b[0m\n",
            "platform linux -- Python 3.7.14, pytest-3.6.4, py-1.11.0, pluggy-0.7.1\n",
            "rootdir: /content, inifile:\n",
            "plugins: typeguard-2.7.1\n",
            "\u001b[1m\rcollecting 0 items                                                             \u001b[0m\u001b[1m\rcollecting 1 item                                                              \u001b[0m\u001b[1m\rcollecting 2 items                                                             \u001b[0m\u001b[1m\rcollecting 3 items                                                             \u001b[0m\u001b[1m\rcollecting 7 items                                                             \u001b[0m\u001b[1m\rcollecting 8 items                                                             \u001b[0m\u001b[1m\rcollected 8 items                                                              \u001b[0m\n",
            "\n",
            "test_postfix.py .\u001b[36m                                                        [ 12%]\u001b[0m\n",
            "test_reordenar_stack.py .\u001b[36m                                                [ 25%]\u001b[0m\n",
            "test_stack.py .\u001b[36m                                                          [ 37%]\u001b[0m\n",
            "test_verificar_parentesis.py ....\u001b[36m                                        [ 87%]\u001b[0m\n",
            "test_volcar_stack.py .\u001b[36m                                                   [100%]\u001b[0m\n",
            "\n",
            "\u001b[32m\u001b[1m=========================== 8 passed in 0.04 seconds ===========================\u001b[0m\n"
          ]
        }
      ]
    },
    {
      "cell_type": "markdown",
      "source": [
        "# Cola"
      ],
      "metadata": {
        "id": "6xk74TCJVc_A"
      }
    },
    {
      "cell_type": "markdown",
      "source": [
        "## Ejercicio 15: \n",
        "Basándose en el TAD de cola, implementar una clase Queue con listas de Python."
      ],
      "metadata": {
        "id": "xepEZbyzUO1P"
      }
    },
    {
      "cell_type": "code",
      "source": [
        "%%file test_queue.py\n",
        "\n",
        "class Queue:\n",
        "  def __init__(self):\n",
        "    self.items = []\n",
        "\n",
        "  def push(self, item):\n",
        "    self.items.append(item)\n",
        "\n",
        "  def pop(self):\n",
        "    return self.items.pop(0) #Es lo punico que cambia con respecto a la pila\n",
        "\n",
        "  def isEmpty(self):\n",
        "    return self.items == []\n",
        "#TEST\n",
        "\n",
        "def test_queue():\n",
        "  queue = Queue()\n",
        "  queue.push(1)\n",
        "  queue.push(2)\n",
        "  queue.push(3)\n",
        "  assert queue.pop() == 1\n",
        "  assert queue.pop() == 2\n",
        "  assert queue.pop() == 3\n",
        "  assert queue.isEmpty() == True\n",
        "  "
      ],
      "metadata": {
        "id": "UpRPH6KlUO1R",
        "colab": {
          "base_uri": "https://localhost:8080/"
        },
        "outputId": "396f6e5a-cc40-4592-93d6-35770cd94fba"
      },
      "execution_count": null,
      "outputs": [
        {
          "output_type": "stream",
          "name": "stdout",
          "text": [
            "Overwriting test_queue.py\n"
          ]
        }
      ]
    },
    {
      "cell_type": "code",
      "source": [
        "!python -m pytest"
      ],
      "metadata": {
        "id": "9eK_tbG1UO1S",
        "colab": {
          "base_uri": "https://localhost:8080/"
        },
        "outputId": "57c2b0cd-d2b3-4738-a33a-1b46b57bd995"
      },
      "execution_count": null,
      "outputs": [
        {
          "output_type": "stream",
          "name": "stdout",
          "text": [
            "\u001b[1m============================= test session starts ==============================\u001b[0m\n",
            "platform linux -- Python 3.7.14, pytest-3.6.4, py-1.11.0, pluggy-0.7.1\n",
            "rootdir: /content, inifile:\n",
            "plugins: typeguard-2.7.1\n",
            "\u001b[1m\rcollecting 0 items                                                             \u001b[0m\u001b[1m\rcollecting 1 item                                                              \u001b[0m\u001b[1m\rcollecting 2 items                                                             \u001b[0m\u001b[1m\rcollecting 3 items                                                             \u001b[0m\u001b[1m\rcollecting 4 items                                                             \u001b[0m\u001b[1m\rcollecting 8 items                                                             \u001b[0m\u001b[1m\rcollecting 9 items                                                             \u001b[0m\u001b[1m\rcollected 9 items                                                              \u001b[0m\n",
            "\n",
            "test_postfix.py .\u001b[36m                                                        [ 11%]\u001b[0m\n",
            "test_queue.py .\u001b[36m                                                          [ 22%]\u001b[0m\n",
            "test_reordenar_stack.py .\u001b[36m                                                [ 33%]\u001b[0m\n",
            "test_stack.py .\u001b[36m                                                          [ 44%]\u001b[0m\n",
            "test_verificar_parentesis.py ....\u001b[36m                                        [ 88%]\u001b[0m\n",
            "test_volcar_stack.py .\u001b[36m                                                   [100%]\u001b[0m\n",
            "\n",
            "\u001b[32m\u001b[1m=========================== 9 passed in 0.04 seconds ===========================\u001b[0m\n"
          ]
        }
      ]
    },
    {
      "cell_type": "markdown",
      "source": [
        "## Ejercicio 16: \n",
        "Implementar FastQueue, una cola que internamente utiliza dos stacks de la siguiente manera:\n",
        "* Inserta por uno de los stacks\n",
        "* Remueve por el otro stack\n",
        "* Cuando queremos remover de stack vacío, primero volcamos el stack de inserción en este y seguimos normalmente\n",
        "Verificar que esta cola se comporta como tal usando tests."
      ],
      "metadata": {
        "id": "cmDPQ5ruUO1T"
      }
    },
    {
      "cell_type": "code",
      "source": [
        "%%file test_fast_queue.py\n",
        "\n",
        "class FastQueue:\n",
        "  def __init__(self):\n",
        "    self.stackInsert = Stack()\n",
        "    self.stackRemove = Stack()\n",
        "\n",
        "  def insert(self, elem):\n",
        "    self.stackInsert.push(elem)\n",
        "  \n",
        "  def remove(self):\n",
        "    if self.stackRemove.isEmpty():\n",
        "      self._volcar()\n",
        "    \n",
        "    return self.stackRemove.pop()\n",
        "\n",
        "  def _volcar(self):\n",
        "    while not self.stackInsert.isEmpty():\n",
        "      self.stackRemove.push(self.stackInsert.pop())\n",
        "\n",
        "  def isEmpty(self):\n",
        "    return self.stackInsert == [] and self.stackRemove == []\n"
      ],
      "metadata": {
        "id": "i7T1JaF4UO1T",
        "colab": {
          "base_uri": "https://localhost:8080/"
        },
        "outputId": "1b3124d9-5f7a-41a6-b8de-c5ae81afa82e"
      },
      "execution_count": null,
      "outputs": [
        {
          "output_type": "stream",
          "name": "stdout",
          "text": [
            "Writing test_fast_queue.py\n"
          ]
        }
      ]
    },
    {
      "cell_type": "code",
      "source": [
        "!python -m pytest"
      ],
      "metadata": {
        "id": "IQwEA-YlUO1U"
      },
      "execution_count": null,
      "outputs": []
    },
    {
      "cell_type": "markdown",
      "source": [
        "## Ejercicio 17: \n",
        "Implemente una PriorityQueue, una cola que, si bien tiene la misma interfaz que las colas normales, no se comporta de la misma manera. En este caso, estarán primeros los elementos con *mayor prioridad*, la mayor prioridad puede ser lo que sea, pero con números sería típicamente los números más pequeños o más grandes. Verifique que los tests de cola **no pasan** para la PriorityQueue, y si lo hacen, escriba un test que pase para colas normales y no para esta.\n",
        "\n",
        "Ejemplo: Metemos 5, 2, 6, 1. Sacamos 1, 2, 5, 6"
      ],
      "metadata": {
        "id": "ZIEVYUEzUO1U"
      }
    },
    {
      "cell_type": "code",
      "source": [
        "%%file test_priority_queue.py\n",
        "\n",
        "class PriorityQueue():\n",
        "  def __init__(self):\n",
        "    self.queue = []\n",
        "  \n",
        "  def push(self, element):\n",
        "    self.queue.append(element)\n",
        "\n",
        "  def remove(self):\n",
        "    menor = self.queue[0]\n",
        "    b = len(self.queue)\n",
        "    posicion = 0\n",
        "    for i in range(1,b):\n",
        "      if menor > self.queue[i]:\n",
        "        menor = self.queue[i]\n",
        "        posicion = i\n",
        "    return self.queue.pop(posicion)\n",
        "  \n",
        "  def isEmpty(self):\n",
        "    return self.queue == []\n",
        "  \n",
        "  def __str__(self):\n",
        "    return f\"{self.queue}\"\n",
        "\n",
        "cola = PriorityQueue()\n",
        "cola.push(5)\n",
        "cola.push(6)\n",
        "cola.push(2)  \n",
        "cola.push(1)\n",
        "\n",
        "print(cola)\n",
        "\n",
        "\n",
        "def test_queue():\n",
        "  \n",
        "  assert cola.remove() == 1      \n",
        "  assert cola.remove() == 2 \n",
        "  assert cola.remove() == 5\n",
        "  assert cola.remove() == 6     \n"
      ],
      "metadata": {
        "id": "OzN7PmFlUO1U",
        "colab": {
          "base_uri": "https://localhost:8080/"
        },
        "outputId": "917c817f-46a7-4dd2-809b-be2745a1354b"
      },
      "execution_count": null,
      "outputs": [
        {
          "output_type": "stream",
          "name": "stdout",
          "text": [
            "Overwriting test_priority_queue.py\n"
          ]
        }
      ]
    },
    {
      "cell_type": "code",
      "source": [
        "!python test_priority_queue.py"
      ],
      "metadata": {
        "colab": {
          "base_uri": "https://localhost:8080/"
        },
        "id": "XOiwPtxD_QLV",
        "outputId": "92f7f0fc-0e8e-48c3-f58c-0f112082d88e"
      },
      "execution_count": null,
      "outputs": [
        {
          "output_type": "stream",
          "name": "stdout",
          "text": [
            "[5, 6, 2, 1]\n"
          ]
        }
      ]
    },
    {
      "cell_type": "code",
      "source": [
        "for i in range(1,0):\n",
        "  print(i)"
      ],
      "metadata": {
        "id": "VgFZbxgv4B5P"
      },
      "execution_count": null,
      "outputs": []
    },
    {
      "cell_type": "code",
      "source": [
        "!python -m pytest"
      ],
      "metadata": {
        "id": "9JQiZfJ4UO1V",
        "colab": {
          "base_uri": "https://localhost:8080/"
        },
        "outputId": "196db730-6580-43f6-c308-7f8fc01d3017"
      },
      "execution_count": null,
      "outputs": [
        {
          "output_type": "stream",
          "name": "stdout",
          "text": [
            "\u001b[1m============================= test session starts ==============================\u001b[0m\n",
            "platform linux -- Python 3.7.14, pytest-3.6.4, py-1.11.0, pluggy-0.7.1\n",
            "rootdir: /content, inifile:\n",
            "plugins: typeguard-2.7.1\n",
            "\u001b[1m\rcollecting 0 items                                                             \u001b[0m\u001b[1m\rcollecting 0 items                                                             \u001b[0m\u001b[1m\rcollecting 1 item                                                              \u001b[0m\u001b[1m\rcollecting 2 items                                                             \u001b[0m\u001b[1m\rcollecting 3 items                                                             \u001b[0m\u001b[1m\rcollecting 4 items                                                             \u001b[0m\u001b[1m\rcollecting 5 items                                                             \u001b[0m\u001b[1m\rcollecting 9 items                                                             \u001b[0m\u001b[1m\rcollecting 10 items                                                            \u001b[0m\u001b[1m\rcollected 10 items                                                             \u001b[0m\n",
            "\n",
            "test_postfix.py .\u001b[36m                                                        [ 10%]\u001b[0m\n",
            "test_priority_queue.py .\u001b[36m                                                 [ 20%]\u001b[0m\n",
            "test_queue.py .\u001b[36m                                                          [ 30%]\u001b[0m\n",
            "test_reordenar_stack.py .\u001b[36m                                                [ 40%]\u001b[0m\n",
            "test_stack.py .\u001b[36m                                                          [ 50%]\u001b[0m\n",
            "test_verificar_parentesis.py ....\u001b[36m                                        [ 90%]\u001b[0m\n",
            "test_volcar_stack.py .\u001b[36m                                                   [100%]\u001b[0m\n",
            "\n",
            "\u001b[32m\u001b[1m========================== 10 passed in 0.05 seconds ===========================\u001b[0m\n"
          ]
        }
      ]
    },
    {
      "cell_type": "markdown",
      "source": [
        "## Ejercicio 18: \n",
        "Se tiene una cola del supermercado. Cada cliente tiene un carrito con los productos apilados, por lo que al ponerlos en la cinta salen el orden inverso en el que fueron puestos en el mismo.\n",
        "\n",
        "Dada una cola de carritos con productos, modele el problema con las estructuras vistas hasta ahora y escriba una clase Cinta que contenga una cola de carritos y tenga un método *historial* que muestre todos los productos que la lectora vería en el orden descrito."
      ],
      "metadata": {
        "id": "TGnFq9g4UO1V"
      }
    },
    {
      "cell_type": "code",
      "source": [
        "\"\"\"\n",
        "%%file test_supermarket.py\n",
        "\n",
        "from test_stack import stack\n",
        "\n",
        "class Cinta():\n",
        "  def __init__(self):\n",
        "  \n",
        "  def historial(self)\n",
        "\"\"\""
      ],
      "metadata": {
        "id": "LZgaBXe8UO1W"
      },
      "execution_count": null,
      "outputs": []
    },
    {
      "cell_type": "code",
      "source": [
        "!python -m pytest"
      ],
      "metadata": {
        "id": "Q9tLonFGUO1W"
      },
      "execution_count": null,
      "outputs": []
    },
    {
      "cell_type": "markdown",
      "source": [
        "# Árboles binarios"
      ],
      "metadata": {
        "id": "KSxMmelYVer0"
      }
    },
    {
      "cell_type": "markdown",
      "source": [
        "## Ejercicio 19: \n",
        "Utilizando la clase Tree presentada a continuación\n",
        "\n",
        "```python\n",
        "class Tree:\n",
        "  def __init__(self, value, left = None, right = None):\n",
        "    self.value = value\n",
        "    self.left = left\n",
        "    self.right = right\n",
        "```\n",
        "\n",
        "Implemente y verifique usando tests los siguientes métodos. *Ayuda: pensar que cada árbol tiene a su izquierda y derecha objetos árboles como sus hijos*.\n",
        "* **nodos**: devuelve la cantidad de nodos del árbol\n",
        "* **menor_mayor**: devuelve en una tupla el menor y el mayor elemento del árbol\n",
        "* **buscar**: busca si un elemento está o no en el árbol\n",
        "* **altura**: calcula la altura del árbol, la distancia desde la raíz hasta la hoja más lejana"
      ],
      "metadata": {
        "id": "ZUlsgVAEhPOz"
      }
    },
    {
      "cell_type": "code",
      "source": [
        "%%file test_tree_methods.py\n",
        "\n",
        "class Tree:\n",
        "\n",
        "  def __init__(self, value, left = None, right = None):\n",
        "    self.value = value\n",
        "    self.left = left\n",
        "    self.right = right\n",
        "\n",
        "  def nodos(self):\n",
        "    totales = 1\n",
        "    totales += self.left.nodos()  if self.left  is not None else 0\n",
        "    totales += self.right.nodos() if self.right is not None else 0\n",
        "    return totales\n",
        "\n",
        "  def menor_mayor(self):\n",
        "    minimo = maximo = self.value #le asigno el valor de la raíz?\n",
        "    \n",
        "    if self.left is not None:\n",
        "      (lminimo, lmaximo) = self.left.menor_mayor()\n",
        "      minimo = min(minimo, lminimo)\n",
        "      maximo = max(maximo, lmaximo)\n",
        "    \n",
        "    if self.right is not None:\n",
        "      (rminimo, rmaximo) = self.right.menor_mayor()\n",
        "      minimo = min(minimo, rminimo)\n",
        "      maximo = max(maximo, rmaximo)\n",
        "    \n",
        "    return (minimo, maximo)\n",
        "\n",
        "  def buscar(self, element):\n",
        "    if self.value == element:\n",
        "      return True\n",
        "    \n",
        "    if self.left is not None and self.left.buscar(element):\n",
        "      return True\n",
        "\n",
        "    if self.right is not None and self.right.buscar(element):\n",
        "      return True\n",
        "\n",
        "    return False\n",
        "\n",
        "  def altura(self):\n",
        "    altural = 0 if self.left is None else self.left.altura()\n",
        "    alturar = 0 if self.right is None else self.right.altura()\n",
        "    return 1 + max(altural, alturar) #Por qué 1 +?\n",
        "\n",
        "def test_arboles():\n",
        "  \"\"\"\n",
        "      4\n",
        "    /   \\\n",
        "  2       3\n",
        "    \\\n",
        "     1\n",
        "  \"\"\"\n",
        "  one = Tree(1)\n",
        "  two = Tree(2, None, one)\n",
        "  three = Tree(3)\n",
        "  four = Tree(4, two, three)\n",
        "\n",
        "  assert one.nodos() == 1\n",
        "  assert two.nodos() == 2\n",
        "  assert three.nodos() == 1\n",
        "  assert four.nodos() == 4\n",
        "\n",
        "  assert four.menor_mayor() == (1, 4)\n",
        "\n",
        "  assert four.buscar(1)\n",
        "  assert four.buscar(2)\n",
        "  assert four.buscar(3)\n",
        "  assert four.buscar(4)\n",
        "  assert not four.buscar(5)\n",
        "  assert not three.buscar(1)\n",
        "\n",
        "  assert one.altura() == 1\n",
        "  assert two.altura() == 2\n",
        "  assert four.altura() == 3"
      ],
      "metadata": {
        "id": "IEI_-fNMhPPG",
        "colab": {
          "base_uri": "https://localhost:8080/"
        },
        "outputId": "f706302d-b9a7-4a40-e591-6fa105c404c7"
      },
      "execution_count": 14,
      "outputs": [
        {
          "output_type": "stream",
          "name": "stdout",
          "text": [
            "Overwriting test_tree_methods.py\n"
          ]
        }
      ]
    },
    {
      "cell_type": "code",
      "source": [
        "!python -m pytest"
      ],
      "metadata": {
        "id": "-3LRvDrYhPPG",
        "colab": {
          "base_uri": "https://localhost:8080/"
        },
        "outputId": "dbfeca42-0d01-4658-d38c-15f93a01f964"
      },
      "execution_count": 15,
      "outputs": [
        {
          "output_type": "stream",
          "name": "stdout",
          "text": [
            "\u001b[1m============================= test session starts ==============================\u001b[0m\n",
            "platform linux -- Python 3.7.14, pytest-3.6.4, py-1.11.0, pluggy-0.7.1\n",
            "rootdir: /content, inifile:\n",
            "plugins: typeguard-2.7.1\n",
            "\u001b[1m\rcollecting 0 items                                                             \u001b[0m\u001b[1m\rcollecting 1 item                                                              \u001b[0m\u001b[1m\rcollecting 2 items                                                             \u001b[0m\u001b[1m\rcollecting 3 items                                                             \u001b[0m\u001b[1m\rcollected 3 items                                                              \u001b[0m\n",
            "\n",
            "test_stack.py .\u001b[36m                                                          [ 33%]\u001b[0m\n",
            "test_tree_methods.py .\u001b[36m                                                   [ 66%]\u001b[0m\n",
            "test_volcar_stack.py .\u001b[36m                                                   [100%]\u001b[0m\n",
            "\n",
            "\u001b[32m\u001b[1m=========================== 3 passed in 0.07 seconds ===========================\u001b[0m\n"
          ]
        }
      ]
    },
    {
      "cell_type": "markdown",
      "source": [
        "## Ejercicio 20: \n",
        "Implementar recorridos *preorden*, *inorden* y *postorden*.\n",
        "\n",
        "\n",
        "---\n",
        "\n",
        "\n",
        "**preorden:**"
      ],
      "metadata": {
        "id": "boWybkv6hPPG"
      }
    },
    {
      "cell_type": "code",
      "source": [
        "%%file test_tree_walks.py\n",
        "\n",
        "def pre_orden(value):\n",
        "  current node = self.value\n",
        "  for i in sel\n",
        "\n",
        "\n"
      ],
      "metadata": {
        "id": "0ZqUyj4FhPPG",
        "colab": {
          "base_uri": "https://localhost:8080/"
        },
        "outputId": "c98a9ceb-989c-4bd8-afc8-8b8c7b3e8b47"
      },
      "execution_count": null,
      "outputs": [
        {
          "output_type": "stream",
          "name": "stdout",
          "text": [
            "Writing test_tree_walks.py\n"
          ]
        }
      ]
    },
    {
      "cell_type": "code",
      "source": [
        "!python -m pytest"
      ],
      "metadata": {
        "id": "S2gX-jHyhPPH",
        "colab": {
          "base_uri": "https://localhost:8080/"
        },
        "outputId": "303dcb2e-f92e-4035-8ab3-3fcb6ff247a6"
      },
      "execution_count": null,
      "outputs": [
        {
          "output_type": "stream",
          "name": "stdout",
          "text": [
            "\u001b[1m============================= test session starts ==============================\u001b[0m\n",
            "platform linux -- Python 3.7.14, pytest-3.6.4, py-1.11.0, pluggy-0.7.1\n",
            "rootdir: /content, inifile:\n",
            "plugins: typeguard-2.7.1\n",
            "\u001b[1m\rcollecting 0 items                                                             \u001b[0m\u001b[1m\rcollecting 0 items                                                             \u001b[0m\u001b[1m\rcollecting 0 items                                                             \u001b[0m\u001b[1m\rcollected 0 items                                                              \u001b[0m\n",
            "\n",
            "\u001b[33m\u001b[1m========================= no tests ran in 0.02 seconds =========================\u001b[0m\n"
          ]
        }
      ]
    },
    {
      "cell_type": "markdown",
      "source": [
        "## Ejercicio 21: \n",
        "Antes mencionamos cómo utilizamos notación postfija de expresiones para evaluar en un Stack y sin usar paréntesis. Con árboles podemos representar expresiones infijas sin paréntesis. Cada nodo interno del árbol representa un operador, izquierda y derecha son subexpresiones, y las hojas son números. Implementar una clase Expression que herede de Tree, un árbol de expresiones infijas, con dos métodos.\n",
        "\n",
        "* **imprimir**: que imprime la expresión de forma infija con paréntesis.\n",
        "* **evaluar**: evalúa todo el árbol y lo reduce a un número.\n",
        "\n",
        "Ejemplo\n",
        "```\n",
        "     *\n",
        "   /   \\\n",
        "  +     -     ==>   ((1 + 2) * (3 - 4))   ==>   -2\n",
        " / \\   / \\\n",
        "1   2 3   4\n",
        "```"
      ],
      "metadata": {
        "id": "iyjalnPnhPPH"
      }
    },
    {
      "cell_type": "code",
      "source": [
        "%%file test_expression.py\n",
        "\n",
        "# Código..."
      ],
      "metadata": {
        "id": "BbQJzB43hPPH",
        "colab": {
          "base_uri": "https://localhost:8080/"
        },
        "outputId": "2ffcc123-6bff-430e-a0dd-f67908402fd4"
      },
      "execution_count": null,
      "outputs": [
        {
          "output_type": "stream",
          "name": "stdout",
          "text": [
            "Writing test_expression.py\n"
          ]
        }
      ]
    },
    {
      "cell_type": "code",
      "source": [
        "!python -m pytest"
      ],
      "metadata": {
        "id": "Rl029xZQhPPH",
        "colab": {
          "base_uri": "https://localhost:8080/"
        },
        "outputId": "82cb5258-5c72-4464-b4e7-669fa6634465"
      },
      "execution_count": null,
      "outputs": [
        {
          "output_type": "stream",
          "name": "stdout",
          "text": [
            "\u001b[1m============================= test session starts ==============================\u001b[0m\n",
            "platform linux -- Python 3.7.14, pytest-3.6.4, py-1.11.0, pluggy-0.7.1\n",
            "rootdir: /content, inifile:\n",
            "plugins: typeguard-2.7.1\n",
            "\u001b[1m\rcollecting 0 items                                                             \u001b[0m\u001b[1m\rcollecting 0 items                                                             \u001b[0m\u001b[1m\rcollecting 0 items                                                             \u001b[0m\u001b[1m\rcollecting 0 items                                                             \u001b[0m\u001b[1m\rcollected 0 items                                                              \u001b[0m\n",
            "\n",
            "\u001b[33m\u001b[1m========================= no tests ran in 0.02 seconds =========================\u001b[0m\n"
          ]
        }
      ]
    },
    {
      "cell_type": "markdown",
      "source": [
        "# Árboles Binarios de Búsqueda"
      ],
      "metadata": {
        "id": "vKpca6UAaDyp"
      }
    },
    {
      "cell_type": "markdown",
      "source": [
        "## Ejercicio 22: \n",
        "Utilizando la misma clase Tree de la sección anterior, implemente otra clase llamada BSTree que herede de esta, reimplemente los métodos **menor_mayor**, **buscar** e implemente un nuevo método llamado **insertar** que inserte un elemento."
      ],
      "metadata": {
        "id": "jcHTBLBdaDy7"
      }
    },
    {
      "cell_type": "code",
      "source": [
        "%%file test_binary_search_tree.py\n",
        "\n",
        "# Código..."
      ],
      "metadata": {
        "id": "ZlRN5ZT_aDy8"
      },
      "execution_count": null,
      "outputs": []
    },
    {
      "cell_type": "code",
      "source": [
        "!python -m pytest"
      ],
      "metadata": {
        "id": "pUU4K9c1aDy8"
      },
      "execution_count": null,
      "outputs": []
    },
    {
      "cell_type": "markdown",
      "source": [
        "## Ejercicio 23: \n",
        "Haga un test donde inserte los números del 1 al 100000 en orden creciente y luego los busque a todos. Luego haga otro, donde se inserten en orden aleatorio y luego los busque a todos. ¿Cuál de estos tests cree que será más rápido? ¿Por qué?"
      ],
      "metadata": {
        "id": "9hVIrj-FaDy8"
      }
    },
    {
      "cell_type": "code",
      "source": [
        "%%file test_list_degeneration.py\n"
      ],
      "metadata": {
        "id": "acHlNY23aDy8"
      },
      "execution_count": null,
      "outputs": []
    },
    {
      "cell_type": "code",
      "source": [
        "!python -m pytest"
      ],
      "metadata": {
        "id": "4EUKO66FaDy8"
      },
      "execution_count": null,
      "outputs": []
    },
    {
      "cell_type": "markdown",
      "source": [
        "## Ejercicio 24: \n",
        "Invente un método para borrar el nodo raíz de un árbol binario de búsqueda, de forma tal que el resultado sea un árbol binario de búsqueda válido. *Ayuda: piense primero en un método que combine dos árboles binarios de búsqueda. Tener en cuenta además que el resultado de borrar la raíz NO ES el nodo del árbol sobre el cuál estamos llamando al método, debería ser otro, así que este método retorna la nueva raíz del árbol.*"
      ],
      "metadata": {
        "id": "WPJxhCb7aDy8"
      }
    },
    {
      "cell_type": "code",
      "source": [
        "%%file test_remove_root.py\n",
        "\n",
        "# Código..."
      ],
      "metadata": {
        "id": "f0JulFuHaDy8"
      },
      "execution_count": null,
      "outputs": []
    },
    {
      "cell_type": "code",
      "source": [
        "!python -m pytest"
      ],
      "metadata": {
        "id": "csL3Cd-KaDy9"
      },
      "execution_count": null,
      "outputs": []
    },
    {
      "cell_type": "markdown",
      "source": [
        "## Ejercicio 25: \n",
        "Herede de BSTree una clase Diccionario, cuyos valores sean tuplas (clave, valor). Reimplemente los métodos **buscar** e **insertar** para que acepten estas tuplas, guarden de acuerdo a sus claves que son strings, y busquen el valor asociado a la clave pasada como argumento, como un diccionario.\n",
        "\n",
        "**Extra**: implementar borrar por clave, que borre un nodo arbitrario del árbol si encuentra uno con esa clave."
      ],
      "metadata": {
        "id": "e6jlYaqal6-J"
      }
    },
    {
      "cell_type": "code",
      "source": [
        "%%file test_map.py\n",
        "\n",
        "# Código..."
      ],
      "metadata": {
        "id": "M_AlHWtJl6-K"
      },
      "execution_count": null,
      "outputs": []
    },
    {
      "cell_type": "code",
      "source": [
        "!python -m pytest"
      ],
      "metadata": {
        "id": "fXqPnTcYl6-M"
      },
      "execution_count": null,
      "outputs": []
    }
  ]
}