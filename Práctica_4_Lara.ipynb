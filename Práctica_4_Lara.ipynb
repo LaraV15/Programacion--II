{
  "nbformat": 4,
  "nbformat_minor": 0,
  "metadata": {
    "colab": {
      "provenance": [],
      "include_colab_link": true
    },
    "kernelspec": {
      "name": "python3",
      "display_name": "Python 3"
    },
    "language_info": {
      "name": "python"
    }
  },
  "cells": [
    {
      "cell_type": "markdown",
      "metadata": {
        "id": "view-in-github",
        "colab_type": "text"
      },
      "source": [
        "<a href=\"https://colab.research.google.com/github/LaraV15/Programacion--II/blob/main/Pr%C3%A1ctica_4_Lara.ipynb\" target=\"_parent\"><img src=\"https://colab.research.google.com/assets/colab-badge.svg\" alt=\"Open In Colab\"/></a>"
      ]
    },
    {
      "cell_type": "markdown",
      "source": [
        "# Práctica 4: Estrategias"
      ],
      "metadata": {
        "id": "7u24cwGnQTGB"
      }
    },
    {
      "cell_type": "code",
      "source": [
        "!pip install pytest"
      ],
      "metadata": {
        "id": "U3JF-b9GQTGN",
        "colab": {
          "base_uri": "https://localhost:8080/"
        },
        "outputId": "b8362aa4-0530-49d0-bcd5-6b0cfd03ac81"
      },
      "execution_count": null,
      "outputs": [
        {
          "output_type": "stream",
          "name": "stdout",
          "text": [
            "Looking in indexes: https://pypi.org/simple, https://us-python.pkg.dev/colab-wheels/public/simple/\n",
            "Requirement already satisfied: pytest in /usr/local/lib/python3.8/dist-packages (3.6.4)\n",
            "Requirement already satisfied: setuptools in /usr/local/lib/python3.8/dist-packages (from pytest) (57.4.0)\n",
            "Requirement already satisfied: six>=1.10.0 in /usr/local/lib/python3.8/dist-packages (from pytest) (1.15.0)\n",
            "Requirement already satisfied: py>=1.5.0 in /usr/local/lib/python3.8/dist-packages (from pytest) (1.11.0)\n",
            "Requirement already satisfied: pluggy<0.8,>=0.5 in /usr/local/lib/python3.8/dist-packages (from pytest) (0.7.1)\n",
            "Requirement already satisfied: more-itertools>=4.0.0 in /usr/local/lib/python3.8/dist-packages (from pytest) (9.0.0)\n",
            "Requirement already satisfied: attrs>=17.4.0 in /usr/local/lib/python3.8/dist-packages (from pytest) (22.1.0)\n",
            "Requirement already satisfied: atomicwrites>=1.0 in /usr/local/lib/python3.8/dist-packages (from pytest) (1.4.1)\n"
          ]
        }
      ]
    },
    {
      "cell_type": "markdown",
      "source": [
        "## Fuerza Bruta"
      ],
      "metadata": {
        "id": "fL7PehvY7sbm"
      }
    },
    {
      "cell_type": "markdown",
      "source": [
        "Ejercicio 1\n",
        "¿Cómo se vería un algoritmo que resuelve el problema de ordenamiento por fuerza bruta?"
      ],
      "metadata": {
        "id": "3Sgj2ofbq133"
      }
    },
    {
      "cell_type": "code",
      "source": [
        "l=[5,4,1,2,6,3]\n",
        "l.sort()\n",
        "print(l)"
      ],
      "metadata": {
        "colab": {
          "base_uri": "https://localhost:8080/"
        },
        "id": "YvqKWSDJsiW6",
        "outputId": "e93e89a6-3e1d-46de-b115-04edb3a86e29"
      },
      "execution_count": null,
      "outputs": [
        {
          "output_type": "stream",
          "name": "stdout",
          "text": [
            "[1, 2, 3, 4, 5, 6]\n"
          ]
        }
      ]
    },
    {
      "cell_type": "code",
      "source": [
        "'''l=[5,4,1,2,6,3]\n",
        "\n",
        "def siguiente(elecccion_actual):\n",
        "  if len(lista)<2:\n",
        "    return lista\n",
        "  else:\n",
        "    eleccion_actual\n",
        "\n",
        "\n",
        "def es_solucion(lista_odenada):\n",
        "  return l.sort==lista_ordenada\n",
        "\n",
        "def fuerza_bruta(lista):\n",
        "  intento_actual=lista[0]\n",
        "  lista_ordenada=[]\n",
        "  while siguiente != None and not es_solucion(lista_ordenada):\n",
        "    intento_actual=siguiente(intento_actual)\n",
        "  \n",
        "  return intento_actual\n",
        "  '''"
      ],
      "metadata": {
        "id": "iDFAstXAq6J3"
      },
      "execution_count": null,
      "outputs": []
    },
    {
      "cell_type": "markdown",
      "source": [
        "Ejercicio 2 de teoría: Encuentre todos los divisiores de un número natural n utilizando un algoritmo de fuerza bruta."
      ],
      "metadata": {
        "id": "JNoOKGnl-ULT"
      }
    },
    {
      "cell_type": "code",
      "source": [
        "#Sin usar el bloque de código de Fuerza Bruta\n",
        "\n",
        "def divisores(num):\n",
        "  divisores = []\n",
        "  if num == 1:\n",
        "    divisores.append(1)\n",
        "    return divisores\n",
        "  else:\n",
        "    for i in range(1,num+1):\n",
        "      if num % i == 0:\n",
        "        divisores.append(i)\n",
        "  return divisores\n",
        "\n",
        "\n",
        "divisores(30)"
      ],
      "metadata": {
        "colab": {
          "base_uri": "https://localhost:8080/"
        },
        "id": "Y7nj2mGP-TIK",
        "outputId": "ef7e960d-6161-40ea-af94-5bc5798f2f6c"
      },
      "execution_count": null,
      "outputs": [
        {
          "output_type": "execute_result",
          "data": {
            "text/plain": [
              "[1, 2, 3, 5, 6, 10, 15, 30]"
            ]
          },
          "metadata": {},
          "execution_count": 8
        }
      ]
    },
    {
      "cell_type": "code",
      "source": [
        "#Usando el bloque de código de fuerza bruta\n",
        "\n",
        "i=0\n",
        "num =30\n",
        "\n",
        "def es_solucion(intento,num):\n",
        "  return num % intento == 0\n",
        "\n",
        "def siguiente(a):\n",
        "  return a+1\n",
        "\n",
        "soluciones = []\n",
        "intento_actual=1\n",
        "\n",
        "while intento_actual <= num:\n",
        "  if es_solucion(intento_actual,num):\n",
        "    soluciones.append(intento_actual)\n",
        "  intento_actual = siguiente(intento_actual)\n",
        "\n",
        "print(soluciones)\n"
      ],
      "metadata": {
        "colab": {
          "base_uri": "https://localhost:8080/"
        },
        "id": "BH2QZCJ2-9xC",
        "outputId": "bf76149b-2ed5-4b85-9717-9148898e8817"
      },
      "execution_count": null,
      "outputs": [
        {
          "output_type": "stream",
          "name": "stdout",
          "text": [
            "[1, 2, 3, 5, 6, 10, 15, 30]\n"
          ]
        }
      ]
    },
    {
      "cell_type": "markdown",
      "source": [
        "#Ejercicio 1:\n",
        "Dado un número entero compuesto, que es producto de dos números primos, hacer un algoritmo de fuerza bruta que encuentre su factorización. Analice la cantidad operaciones que este algoritmo requiere."
      ],
      "metadata": {
        "id": "DE49vwGLUvLr"
      }
    },
    {
      "cell_type": "code",
      "source": [
        "#%%file test_break_encryption.py\n",
        "from math import sqrt\n",
        "\n",
        "def findPrimos(n):\n",
        "  for i in range(2,round(sqrt(n))):\n",
        "    if n%i==0:\n",
        "      return (i,n/i)\n",
        "\n",
        "print(findPrimos(15))\n",
        "\n"
      ],
      "metadata": {
        "id": "-cEbjdRqUvLr",
        "colab": {
          "base_uri": "https://localhost:8080/"
        },
        "outputId": "14198e51-c178-41ce-b90f-39bb7b44f0e6"
      },
      "execution_count": null,
      "outputs": [
        {
          "output_type": "stream",
          "name": "stdout",
          "text": [
            "(3, 5.0)\n"
          ]
        }
      ]
    },
    {
      "cell_type": "code",
      "source": [
        "!python -m pytest"
      ],
      "metadata": {
        "id": "OrK_cNjnUvLs"
      },
      "execution_count": null,
      "outputs": []
    },
    {
      "cell_type": "code",
      "source": [
        "#SOLUCIÓN DAMIAN, utilizando la estructura de Fuerza Bruta\n",
        "\n",
        "n=71*73\n",
        "\n",
        "def es_solucion(tupla):\n",
        "  return tupla[0]*tupla[1] == n\n",
        "  \n",
        "def es_primo(n):\n",
        "  for d in  range(2,n):\n",
        "    if n%d==0:\n",
        "      return False\n",
        "  return True\n",
        "\n",
        "  primos = [x for x in range(n) if es_primo(x)]\n",
        "  tuplas = [ (x,y) for x in primos for y in primos]\n",
        "\n",
        "  def siguiente(intento = tuplas[0]):\n",
        "   if intento == tuplas[-1]: return\n",
        "   return tuplas[tuplas.index(intento)+1] "
      ],
      "metadata": {
        "id": "2UlC5tScrLZK"
      },
      "execution_count": null,
      "outputs": []
    },
    {
      "cell_type": "markdown",
      "source": [
        "#Ejercicio 2: \n",
        "Encuentre todas las soluciones naturales de la ecuación $a² + b² = c²$, donde $1\\leq a, b, c \\leq n$. Estime la cantidad de operaciones del algoritmo diseñado."
      ],
      "metadata": {
        "id": "OiqDgyg39tbZ"
      }
    },
    {
      "cell_type": "code",
      "source": [
        "#%%file test_natural_pythagoras.py\n",
        "#SIN UTILIZAR LA ESTRUCTURA FUERZA BRUTA\n",
        "\n",
        "def pitagoras(n):\n",
        "  soluciones = []\n",
        "  for a in range(1, n+1): # hago n a la 3 operaciones, o sea 3 loops de n\n",
        "    for b in range(1, n+1):\n",
        "      for c in range(1, n+1):\n",
        "        if a*a + b*b == c*c:\n",
        "          soluciones.append((a,b,c))\n",
        "  return soluciones\n",
        "\n",
        "print(pitagoras(15))\n"
      ],
      "metadata": {
        "id": "77fWmDdl9tbb",
        "colab": {
          "base_uri": "https://localhost:8080/"
        },
        "outputId": "cc245dc2-3ba9-4a5b-b67a-f98a8d18ae15"
      },
      "execution_count": null,
      "outputs": [
        {
          "output_type": "stream",
          "name": "stdout",
          "text": [
            "[(3, 4, 5), (4, 3, 5), (5, 12, 13), (6, 8, 10), (8, 6, 10), (9, 12, 15), (12, 5, 13), (12, 9, 15)]\n"
          ]
        }
      ]
    },
    {
      "cell_type": "code",
      "source": [
        "#Otra forma sin la estructura FB\n",
        "from itertools import product #product hace el producto cartesiano\n",
        "def pitagorasPRO(n):\n",
        "  return [(a,b,c) for a,b,c in product(range(1, n+1), range(1, n+1), range(1, n+1)) if a*a + b*b == c*c]\n",
        "\n",
        "print(pitagorasPRO(10))"
      ],
      "metadata": {
        "colab": {
          "base_uri": "https://localhost:8080/"
        },
        "id": "A3SoHuTye-CF",
        "outputId": "dde2fcbd-e340-45b0-c81c-487e6801d40e"
      },
      "execution_count": null,
      "outputs": [
        {
          "output_type": "stream",
          "name": "stdout",
          "text": [
            "[(3, 4, 5), (4, 3, 5), (6, 8, 10), (8, 6, 10)]\n"
          ]
        }
      ]
    },
    {
      "cell_type": "code",
      "source": [
        "#SOLUCIÓN DAMIAN CON FB\n",
        "\n",
        "n=10\n",
        "\n",
        "def siguiente (tupla=(1,1,0)): #es lo que toma si no le pasamos nada\n",
        "  a,b,c = tupla\n",
        "  if a==n and b==n and c==n:\n",
        "    return False   \n",
        "  if b>=n and c>=n:\n",
        "    b=1\n",
        "    c=1\n",
        "    a=a+1\n",
        "    return (a,b,c)\n",
        "  if c>=n:\n",
        "    c=1\n",
        "    b=b+1\n",
        "    return (a,b,c)\n",
        "  \n",
        "  return  (a,b,c+1)\n",
        "\n",
        "def es_solucion(tupla): #solo devuelve T o F\n",
        "  return tupla[0]**2 +tupla[1]**2 == tupla[2]**2\n",
        "\n",
        "intento_actual = siguiente() #toma la tupla(1,1,1) por defecto\n",
        "\n",
        "soluciones=[]\n",
        "\n",
        "#while intento_actual and not es_solucion(intento_actual):\n",
        "  #intento_actual = siguiente(intento_actual)\n",
        "#Sirve cuando queremos una única solución\n",
        "  \n",
        "while intento_actual :\n",
        "  if es_solucion(intento_actual):\n",
        "    soluciones.append(intento_actual)\n",
        "  intento_actual = siguiente(intento_actual)\n",
        "\n",
        "print(soluciones)    "
      ],
      "metadata": {
        "id": "NGWVXzCXsIv4",
        "colab": {
          "base_uri": "https://localhost:8080/"
        },
        "outputId": "8402c73c-3d4f-48c7-f985-c5343db2c7fe"
      },
      "execution_count": null,
      "outputs": [
        {
          "output_type": "stream",
          "name": "stdout",
          "text": [
            "[(3, 4, 5), (4, 3, 5), (6, 8, 10), (8, 6, 10)]\n"
          ]
        }
      ]
    },
    {
      "cell_type": "markdown",
      "source": [
        "#Ejercicio 3: \n",
        "Dada una lista de $n$ números y un número mágico, encontrar 3 números cuya suma sea el número mágico. Se pueden repetir números.\n",
        "\n",
        "¿Cuál es el peor caso? Determine la cantidad de operaciones en el peor caso, en función de $n$.\n",
        "\n",
        "¿Y si aumentamos la cantidad de números a sumar, de 3, a un número arbitrario $m$?\n",
        "\n",
        "Extra: programar este último algoritmo donde dejamos libre $m$\n",
        "\n",
        "_Ayuda: utilice itertools.product_"
      ],
      "metadata": {
        "id": "G5u4FQJVTFdz"
      }
    },
    {
      "cell_type": "code",
      "source": [
        "##%%file test_sum_of_m.py\n",
        "\n",
        "def encontrar_tres_numeros(lista_num, num_magico):\n",
        "  for i in lista_num:\n",
        "    for j in lista_num:\n",
        "      for k in lista_num:\n",
        "        if i+j+k == num_magico:\n",
        "          return i,j,k\n",
        "          break\n",
        "\n",
        "lista_prueba=[1,2,3,4,5]\n",
        "encontrar_tres_numeros(lista_prueba, 6)"
      ],
      "metadata": {
        "id": "hhyRPmrpTFd0",
        "colab": {
          "base_uri": "https://localhost:8080/"
        },
        "outputId": "f10b3fe8-047b-4650-f571-849ece7dd754"
      },
      "execution_count": null,
      "outputs": [
        {
          "output_type": "execute_result",
          "data": {
            "text/plain": [
              "(1, 1, 4)"
            ]
          },
          "metadata": {},
          "execution_count": 8
        }
      ]
    },
    {
      "cell_type": "code",
      "source": [
        "#RESOLUCIÓN DAMIAN\n",
        "lista = [1,2,3]\n",
        "num_magico=5\n",
        "\n",
        "tuplas = [(x,y,z) for x in lista for y in lista for z in lista]\n",
        "\n",
        "def siguiente(tupla=tuplas[0]):\n",
        "  if tupla == tuplas[-1]: return\n",
        "  return tuplas[tuplas.index(tupla)+1]\n",
        "\n",
        "def es_solucion(tupla):\n",
        "  return sum(tupla) == num_magico  "
      ],
      "metadata": {
        "id": "2GB5xMPwtVc5"
      },
      "execution_count": null,
      "outputs": []
    },
    {
      "cell_type": "markdown",
      "source": [
        "## Divide & Conquer"
      ],
      "metadata": {
        "id": "2XwU_IdQSVJC"
      }
    },
    {
      "cell_type": "markdown",
      "source": [
        "**Ejercicio 1 (diapositivas):** \n",
        "¿Cómo se vería un algoritmo que resuelve el problema de ordenamiento\n",
        "utilizando la técnica Divide y Vencerás?"
      ],
      "metadata": {
        "id": "Xqy4exFR64SN"
      }
    },
    {
      "cell_type": "code",
      "source": [
        "lista = [17,8,1,16,5]\n",
        "\n",
        "def es_caso_base(lista):\n",
        "  return len(lista) <= 1\n",
        "\n",
        "def resolver_caso_base(lista):\n",
        "  return lista #si la lista esta vacía o tiene un solo elemento esta ordenada\n",
        "\n",
        "def dividir(lista):\n",
        "  if len(lista)%=0:\n",
        "    a=len(lista)/2\n",
        "    return lista[0:a], lista[a,a*2]\n",
        "    \n",
        "def resolver (problema):\n",
        "  if es_caso_base(problema):\n",
        "    return resolver_caso_base(problema)\n",
        "  subproblema1 , subproblema2 = dividir (problema)\n",
        "  solucion1 = resolver(subproblema1)\n",
        "  solucion2 = resolver(subproblema2)\n",
        "\n",
        "  return combinar ( solucion1 , solucion2 )\n",
        "\n",
        "print ( resolver ( problema ))"
      ],
      "metadata": {
        "id": "A8Ai6w4R62hT"
      },
      "execution_count": null,
      "outputs": []
    },
    {
      "cell_type": "code",
      "source": [
        "#Probando cosas\n",
        "a = [1]\n",
        "len(a)\n",
        "len(a) <= 1\n",
        "lista = [1,2,3,4]\n",
        "print(lista[0:2])\n",
        "print(lista[2:4])"
      ],
      "metadata": {
        "colab": {
          "base_uri": "https://localhost:8080/"
        },
        "id": "sE2WQSzN7rr_",
        "outputId": "215d2d12-3cd9-460a-fea9-df6d155be39e"
      },
      "execution_count": null,
      "outputs": [
        {
          "output_type": "stream",
          "name": "stdout",
          "text": [
            "[1, 2]\n",
            "[3, 4]\n"
          ]
        }
      ]
    },
    {
      "cell_type": "markdown",
      "source": [
        "**Ejercicio 2 - Diapositivas:**\n",
        "Dada una lista ordenada de números enteros, determinar eficientemente si un número se encuentra en ella o no."
      ],
      "metadata": {
        "id": "8QK3Z0DjAlgU"
      }
    },
    {
      "cell_type": "code",
      "source": [
        "#Divide y vencerás\n",
        "\n",
        "l = [1,2,4,5,6]\n",
        "n = 6\n",
        "\n",
        "def es_caso_base(lista):\n",
        "  if len(lista)==1:\n",
        "    return True\n",
        "\n",
        "def resolver_caso_base(lista,num):\n",
        "  return lista[0] == num\n",
        "\n",
        "def dividir(lista):\n",
        "  a=int(len(lista)/2)\n",
        "  return lista[:a], lista[a:]\n",
        "\n",
        "def combinar(solucion1,solucion2):\n",
        "  return solucion1 or solucion2\n",
        "\n",
        "\n",
        "def resolver(lista,num):\n",
        "  if len(lista)==0:\n",
        "    return False\n",
        "  if es_caso_base(lista):\n",
        "    return resolver_caso_base(lista,num)\n",
        "  subproblema1 , subproblema2 = dividir(lista)\n",
        "  solucion1 = resolver(subproblema1,num)\n",
        "  solucion2 = resolver(subproblema2,num)\n",
        "\n",
        "  return combinar(solucion1 , solucion2)\n",
        "\n",
        "print(resolver(l,n))"
      ],
      "metadata": {
        "id": "a3XP81QnAk-A",
        "outputId": "dc515622-62b2-4cf7-cd0d-fa3fb644b4e0",
        "colab": {
          "base_uri": "https://localhost:8080/"
        }
      },
      "execution_count": null,
      "outputs": [
        {
          "output_type": "stream",
          "name": "stdout",
          "text": [
            "True\n"
          ]
        }
      ]
    },
    {
      "cell_type": "markdown",
      "source": [
        "#Ejercicio 4\n",
        " ¿Es quicksort un algoritmo Divide & Conquer? Justifique"
      ],
      "metadata": {
        "id": "5Aucyf6KSZFf"
      }
    },
    {
      "cell_type": "markdown",
      "source": [
        "#Ejercicio 5\n",
        "Sume una lista de números sin usar bucles. ¿Cómo cambia la cantidad de operaciones?"
      ],
      "metadata": {
        "id": "rG_h_vvsYwQd"
      }
    },
    {
      "cell_type": "code",
      "source": [
        "%%file test_dc_sum.py\n",
        "\n",
        "## Code here"
      ],
      "metadata": {
        "id": "kuK3F_OBYwQf"
      },
      "execution_count": null,
      "outputs": []
    },
    {
      "cell_type": "code",
      "source": [
        "#Forma corta\n",
        "\n",
        "def sumar(lista):\n",
        "  if len(lista) == 0 :\n",
        "    return 0\n",
        "  return lista[0] + sumar(lista[1:])\n",
        "\n",
        "lista = [1,2,3,4,5]\n",
        "print(sumar(lista))  "
      ],
      "metadata": {
        "colab": {
          "base_uri": "https://localhost:8080/"
        },
        "id": "w3Abyyegjx7u",
        "outputId": "5165e36b-aa18-4e3b-aede-639c21f1bfd2"
      },
      "execution_count": null,
      "outputs": [
        {
          "output_type": "stream",
          "name": "stdout",
          "text": [
            "15\n"
          ]
        }
      ]
    },
    {
      "cell_type": "code",
      "source": [
        "#Resolución Lara usando Divide and Conquer\n",
        "l=[5]\n",
        "\n",
        "\n",
        "def es_caso_base(lista):\n",
        "  return len(lista)==1\n",
        "\n",
        "def resolver_caso_base(problema):\n",
        "  return problema[0]\n",
        "\n",
        "def dividir(lista):\n",
        "  a=int(len(lista)/2)\n",
        "  return lista[:a], lista[a:]\n",
        "\n",
        "def combinar(sol1,sol2):\n",
        "  return sol1+sol2\n",
        "\n",
        "def resolver(problema):\n",
        "  if len(problema)==0:\n",
        "    return None\n",
        "  elif len(problema)==1:\n",
        "    return problema[0]\n",
        "  elif es_caso_base(problema):\n",
        "    return resolver_caso_base(problema)\n",
        "  \n",
        "  subproblema1 , subproblema2 = dividir(problema)\n",
        "  solucion1 = resolver(subproblema1)\n",
        "  solucion2 = resolver(subproblema2)\n",
        "\n",
        "  return combinar(solucion1 , solucion2)\n",
        "\n",
        "print(resolver(l))"
      ],
      "metadata": {
        "colab": {
          "base_uri": "https://localhost:8080/"
        },
        "id": "FohwPd4PVrZO",
        "outputId": "af7b8b13-4808-4d3a-fa8a-f8308c2c6958"
      },
      "execution_count": null,
      "outputs": [
        {
          "output_type": "stream",
          "name": "stdout",
          "text": [
            "5\n"
          ]
        }
      ]
    },
    {
      "cell_type": "code",
      "source": [
        "#Forma larga, usando la estructura de Divide and Conquer\n",
        "\n",
        "def es_caso_base(lista): \n",
        "  return len(lista) == 0\n",
        "\n",
        "def dividir(lista):\n",
        "  return lista[0], lista[1:]\n",
        " \n",
        "def combinar(sol1, sol2):\n",
        "  return sol1 + sol2\n",
        "\n",
        "def resolver(lista):\n",
        "  if es_caso_base(lista):\n",
        "    return 0\n",
        "\n",
        "  subproblema1, subproblema2 = dividir(lista)\n",
        "  #solucion1 = resolver(subproblema1)\n",
        "  solucion2 = resolver(subproblema2)\n",
        "  return combinar(subproblema1, solucion2)\n",
        "\n",
        "lista = [1,2,3,4,5]\n",
        "print(resolver(lista))"
      ],
      "metadata": {
        "colab": {
          "base_uri": "https://localhost:8080/"
        },
        "id": "Xh0NWG1hj0O2",
        "outputId": "9e894e84-67ff-44ed-995f-847aa93999a6"
      },
      "execution_count": null,
      "outputs": [
        {
          "output_type": "stream",
          "name": "stdout",
          "text": [
            "15\n"
          ]
        }
      ]
    },
    {
      "cell_type": "markdown",
      "source": [
        "#Ejercicio 6 \n",
        "Dada una grilla, modelada como una lista de listas, donde ```\".\"``` representa suelo caminable, y ```\"o\"``` representa suelo no caminable, determine si hay un camino desde la celda $(0, 0)$ a la celda $(n - 1, n - 1)$ donde solamente nos movamos hacia la derecha o hacia abajo.\n",
        "\n",
        "- La celda $(0, 0)$ la consideramos arriba a la izquierda y la $(n - 1, n - 1)$ la de abajo a la derecha.\n",
        "- Los valores en estas celdas son siempre caminables.\n",
        "- No nos movemos en ambas direcciones a la vez\n",
        "\n",
        "```python\n",
        ". o o . .\n",
        ". o . . .\n",
        ". . . o o\n",
        ". . . . o\n",
        "o o o . . # SI\n",
        "\n",
        ". o . . .\n",
        ". . . o .\n",
        ". o o . .\n",
        ". . o . o\n",
        "o . o . . # NO\n",
        "```\n",
        "\n",
        "_Ayuda: Haga una recursión donde prueba ir por derecha y por abajo, use la posición actual como parámetro de la recursión_\n",
        "\n",
        "Como un extra, haga el algoritmo para que retorne la lista de celdas que son el camino a seguir."
      ],
      "metadata": {
        "id": "NAW4D1IOCoQa"
      }
    },
    {
      "cell_type": "code",
      "source": [
        "%%file test_walkable_path.py\n",
        "\n",
        "from math import sqrt\n",
        "\n",
        "#Esto se deja para que lo usen\n",
        "class Grid:\n",
        "  def __init__(self, string):\n",
        "    raw_split = string.replace(\"\\n\", \" \").replace(\"\\t\", \" \").split(\" \")\n",
        "\n",
        "# split divide cuando hay espacios si no indico otra cosa y sino lo que indique\n",
        "\n",
        "    self.cells = [symbol for symbol in raw_split if symbol != \"\"]\n",
        "    \n",
        "  def at(self, x, y):\n",
        "    return self.cells[x + self.size() * y] #con esto busca el elemento en la lisra\n",
        "\n",
        "  def size(self):\n",
        "    return int(sqrt(len(self.cells)))\n",
        "\n",
        "# 2n * (2n)! / 2(n!)\n",
        "def path(grid, x = 0, y = 0):\n",
        "  n = grid.size()\n",
        "\n",
        "  if x == n-1 and y == n-1:\n",
        "    return True\n",
        "  \n",
        "  return (\n",
        "      x + 1 < n and grid.at(x + 1, y) == \".\" and path(grid, x + 1, y) or \n",
        "      y + 1 < n and grid.at(x, y + 1) == \".\" and path(grid, x, y + 1)\n",
        "  )\n",
        "\n",
        "# x+1<n si me puedo mover a la derecha and\n",
        "# grid.at(x+1,y) si la celda de la derecha es caminable, o sea .\n",
        "# path(grid, x+1,y) si hay una solucion a la derecha, recursa hasta ver si es por ahi\n",
        "\n",
        "def test_path():\n",
        "  grid = Grid(\"\"\"\n",
        "    . o o . .\n",
        "    . o . . .\n",
        "    . . . o o\n",
        "    . . . . o\n",
        "    o o o . .   \n",
        "  \"\"\")\n",
        "\n",
        "  assert path(grid)\n",
        "\n",
        "  def test_no_path():\n",
        "    grid = grid(\"\"\"\n",
        "      . o . . .\n",
        "      . . . o .\n",
        "      . o o . .   \n",
        "      . . o . o\n",
        "      o . o . .     \n",
        "    \"\"\")\n",
        "\n",
        "    assert not path(grid)\n",
        "\n",
        "# canal de youtube reducible tiene algoritmos\n",
        "\n"
      ],
      "metadata": {
        "id": "_-XxFjzkCoQc",
        "colab": {
          "base_uri": "https://localhost:8080/"
        },
        "outputId": "055fa09a-5c57-4619-f35c-8f2e768d5c04"
      },
      "execution_count": null,
      "outputs": [
        {
          "output_type": "stream",
          "name": "stdout",
          "text": [
            "Overwriting test_walkable_path.py\n"
          ]
        }
      ]
    },
    {
      "cell_type": "code",
      "source": [
        "!python -m pytest"
      ],
      "metadata": {
        "colab": {
          "base_uri": "https://localhost:8080/"
        },
        "id": "q9XJ6uaGE8eM",
        "outputId": "af4d0eb7-e8cb-4433-876a-0505984573a9"
      },
      "execution_count": null,
      "outputs": [
        {
          "output_type": "stream",
          "name": "stdout",
          "text": [
            "\u001b[1m============================= test session starts ==============================\u001b[0m\n",
            "platform linux -- Python 3.8.16, pytest-3.6.4, py-1.11.0, pluggy-0.7.1\n",
            "rootdir: /content, inifile:\n",
            "plugins: typeguard-2.7.1\n",
            "\u001b[1m\rcollecting 0 items                                                             \u001b[0m\u001b[1m\rcollecting 1 item                                                              \u001b[0m\u001b[1m\rcollected 1 item                                                               \u001b[0m\n",
            "\n",
            "test_walkable_path.py .\u001b[36m                                                  [100%]\u001b[0m\n",
            "\n",
            "\u001b[32m\u001b[1m=========================== 1 passed in 0.02 seconds ===========================\u001b[0m\n"
          ]
        }
      ]
    },
    {
      "cell_type": "markdown",
      "source": [
        "## Greedy"
      ],
      "metadata": {
        "id": "Mp75quWIanOS"
      }
    },
    {
      "cell_type": "markdown",
      "source": [
        "#Ejercicio 7 \n",
        "¿Es selection sort un algoritmo Greedy? Justifique"
      ],
      "metadata": {
        "id": "ncgZR2xaanOY"
      }
    },
    {
      "cell_type": "code",
      "source": [
        "#SOLUCIÓN DAMIAN\n",
        "\n",
        "from random import shuffle\n",
        "#from ordenamiento import esta_ordenada \n",
        "#esto es de la práctica anterior\n",
        "#esta_ordenada recorre la lista y se fija si esta ordenada, hacerlo por nuestra cuenta\n",
        "#porque su práctica anterior quizás nosotras no lo tenemos\n",
        "\n",
        "n=100\n",
        "candidatos = list(range(n))\n",
        "shuffle(candidatos)\n",
        "\n",
        "def elegir_candidatos():\n",
        "  return min(candidatos)\n",
        "\n",
        "def es_solucion(lista):\n",
        "  return esta_ordenada(lista) and len(lista) ==n\n",
        "\n",
        "def es_factible(lista):\n",
        "  return esta_ordenada(lista)"
      ],
      "metadata": {
        "id": "ALPQVNI3u3qU"
      },
      "execution_count": null,
      "outputs": []
    },
    {
      "cell_type": "markdown",
      "source": [
        "#Ejercicio 8\n",
        "Se tiene un árbol binario de números que cumple 3 propiedades:\n",
        "1. Cada nodo es menor a sus dos hijos\n",
        "2. Es completo\n",
        "3. Todas las hojas están a la misma distancia de la raíz\n",
        "\n",
        "Hayar el camino a una hoja cuya suma sea máxima.\n",
        "\n",
        "_Trivia: los árboles que cumplen la propiedad 1 se llaman montículos, o **heaps**_"
      ],
      "metadata": {
        "id": "wtblzp7Fa5MA"
      }
    },
    {
      "cell_type": "code",
      "source": [
        "#%%file test_largest_sum_path.py\n",
        "\n",
        "class BinaryTree:\n",
        "  def __init__(self,value,left=None, right=None):\n",
        "    self.value=value\n",
        "    self.right=right\n",
        "    self.left=left\n",
        "\n",
        "leaf1 = BinaryTree(10)\n",
        "leaf2 = BinaryTree(13)\n",
        "leaf3 = BinaryTree(7)\n",
        "leaf4 = BinaryTree(11)\n",
        "child1 = BinaryTree(4, leaf1, leaf2)\n",
        "child2 = BinaryTree(5, leaf3, leaf4)\n",
        "root = BinaryTree(1, child1, child2)\n",
        "\n",
        "def es_solucion(actual):\n",
        " return actual is None\n",
        "\n",
        "def elegir_candidato(actual):\n",
        "  if actual.left == None:\n",
        "    return None\n",
        "  if actual.right.value >= actual.right.value:\n",
        "    return actual.right\n",
        "  else:\n",
        "    return actual.left\n",
        "\n",
        "#def es_factible(): No me sirve en este acso\n",
        "\n",
        "\n",
        "def resolver():\n",
        "  eleccion_actual=root\n",
        "  camino =[] \n",
        "  while not es_solucion(eleccion_actual):\n",
        "    x=elegir_candidato(eleccion_actual)\n",
        "    #No es necesario eleminarlo pq no tenemos una lista de candidatos\n",
        "    camino.append(x.value)\n",
        "  return camino\n",
        "\n",
        "print(resolver())  \n",
        "\n",
        "    "
      ],
      "metadata": {
        "id": "CEbrZrZra5MB",
        "colab": {
          "base_uri": "https://localhost:8080/",
          "height": 356
        },
        "outputId": "71714b55-3091-4217-8123-4225f59c3331"
      },
      "execution_count": null,
      "outputs": [
        {
          "output_type": "error",
          "ename": "KeyboardInterrupt",
          "evalue": "ignored",
          "traceback": [
            "\u001b[0;31m---------------------------------------------------------------------------\u001b[0m",
            "\u001b[0;31mKeyboardInterrupt\u001b[0m                         Traceback (most recent call last)",
            "\u001b[0;32m<ipython-input-9-949736f4209e>\u001b[0m in \u001b[0;36m<module>\u001b[0;34m\u001b[0m\n\u001b[1;32m     38\u001b[0m   \u001b[0;32mreturn\u001b[0m \u001b[0mcamino\u001b[0m\u001b[0;34m\u001b[0m\u001b[0;34m\u001b[0m\u001b[0m\n\u001b[1;32m     39\u001b[0m \u001b[0;34m\u001b[0m\u001b[0m\n\u001b[0;32m---> 40\u001b[0;31m \u001b[0mprint\u001b[0m\u001b[0;34m(\u001b[0m\u001b[0mresolver\u001b[0m\u001b[0;34m(\u001b[0m\u001b[0;34m)\u001b[0m\u001b[0;34m)\u001b[0m\u001b[0;34m\u001b[0m\u001b[0;34m\u001b[0m\u001b[0m\n\u001b[0m\u001b[1;32m     41\u001b[0m \u001b[0;34m\u001b[0m\u001b[0m\n\u001b[1;32m     42\u001b[0m \u001b[0;34m\u001b[0m\u001b[0m\n",
            "\u001b[0;32m<ipython-input-9-949736f4209e>\u001b[0m in \u001b[0;36mresolver\u001b[0;34m()\u001b[0m\n\u001b[1;32m     33\u001b[0m   \u001b[0mcamino\u001b[0m \u001b[0;34m=\u001b[0m\u001b[0;34m[\u001b[0m\u001b[0;34m]\u001b[0m\u001b[0;34m\u001b[0m\u001b[0;34m\u001b[0m\u001b[0m\n\u001b[1;32m     34\u001b[0m   \u001b[0;32mwhile\u001b[0m \u001b[0;32mnot\u001b[0m \u001b[0mes_solucion\u001b[0m\u001b[0;34m(\u001b[0m\u001b[0meleccion_actual\u001b[0m\u001b[0;34m)\u001b[0m\u001b[0;34m:\u001b[0m\u001b[0;34m\u001b[0m\u001b[0;34m\u001b[0m\u001b[0m\n\u001b[0;32m---> 35\u001b[0;31m     \u001b[0mx\u001b[0m\u001b[0;34m=\u001b[0m\u001b[0melegir_candidato\u001b[0m\u001b[0;34m(\u001b[0m\u001b[0meleccion_actual\u001b[0m\u001b[0;34m)\u001b[0m\u001b[0;34m\u001b[0m\u001b[0;34m\u001b[0m\u001b[0m\n\u001b[0m\u001b[1;32m     36\u001b[0m     \u001b[0;31m#No es necesario eleminarlo pq no tenemos una lista de candidatos\u001b[0m\u001b[0;34m\u001b[0m\u001b[0;34m\u001b[0m\u001b[0;34m\u001b[0m\u001b[0m\n\u001b[1;32m     37\u001b[0m     \u001b[0mcamino\u001b[0m\u001b[0;34m.\u001b[0m\u001b[0mappend\u001b[0m\u001b[0;34m(\u001b[0m\u001b[0mx\u001b[0m\u001b[0;34m.\u001b[0m\u001b[0mvalue\u001b[0m\u001b[0;34m)\u001b[0m\u001b[0;34m\u001b[0m\u001b[0;34m\u001b[0m\u001b[0m\n",
            "\u001b[0;31mKeyboardInterrupt\u001b[0m: "
          ]
        }
      ]
    },
    {
      "cell_type": "code",
      "source": [
        "!python -m pytest"
      ],
      "metadata": {
        "id": "by8wzZIHa5MC"
      },
      "execution_count": null,
      "outputs": []
    },
    {
      "cell_type": "markdown",
      "source": [
        "#Ejercicio 9:\n",
        "Tenemos una lista de tareas, cada tarea se simboliza con el tiempo que toma completarla, pero tenemos un tiempo límite $T$ que probablemente no nos alcance para hacerlas todas.\n",
        "\n",
        "¿Cuál es la mayor cantidad de tareas que puedo completar en $T$ tiempo o menos?\n",
        "\n",
        "Ejemplo:\n",
        "```python\n",
        "numeros = [5, 9, 2, 6, 1]\n",
        "T = 10\n",
        "# Respuesta: 3\n",
        "```"
      ],
      "metadata": {
        "id": "E3KZzsxYiqTz"
      }
    },
    {
      "cell_type": "code",
      "source": [
        "#Probando cosas\n",
        "numeros = [5, 9, 2, 6, 1]\n",
        "print(min(numeros))\n",
        "\n",
        "print(sum(numeros))\n"
      ],
      "metadata": {
        "colab": {
          "base_uri": "https://localhost:8080/"
        },
        "id": "Tuabhkxtcol3",
        "outputId": "3fde902d-b7a6-416c-81e7-f51e79910f90"
      },
      "execution_count": null,
      "outputs": [
        {
          "output_type": "stream",
          "name": "stdout",
          "text": [
            "1\n",
            "23\n"
          ]
        }
      ]
    },
    {
      "cell_type": "code",
      "source": [
        "#Usando estructura de Greedy (Voraz) ---> Versión Lara\n",
        "candidatos = [5, 9, 2, 6, 1]\n",
        "T = 10\n",
        "# Respuesta: 3\n",
        "\n",
        "def es_solucion(eleccion_actual,T):\n",
        "  if len(candidatos)==0:\n",
        "    return True #porque ya no me quedan más para probar\n",
        "  elif len(eleccion_actual)!= 0 and sum(eleccion_actual)==T:\n",
        "    return True\n",
        "  else:\n",
        "    return False\n",
        "\n",
        "def elegir_candidato(candidatos):\n",
        "  return min(candidatos)\n",
        "\n",
        "def es_factible(eleccion_actual,T):\n",
        "  return sum(eleccion_actual)<=T\n",
        "\n",
        "\n",
        "def resolver_greedy(candidadtos,T):\n",
        "  eleccion_actual = []\n",
        "\n",
        "  while not es_solucion(eleccion_actual,T):\n",
        "    x = elegir_candidato(candidatos)\n",
        "    candidatos.remove(x)\n",
        "    if es_factible(eleccion_actual + [x],T):\n",
        "      eleccion_actual.append(x)\n",
        "  return eleccion_actual\n",
        "\n",
        "print(resolver_greedy(candidatos,10))"
      ],
      "metadata": {
        "colab": {
          "base_uri": "https://localhost:8080/"
        },
        "id": "i3g8oBqBb-dS",
        "outputId": "e1853b1c-581a-4709-c7b7-846e7de23718"
      },
      "execution_count": null,
      "outputs": [
        {
          "output_type": "stream",
          "name": "stdout",
          "text": [
            "[1, 2, 5]\n"
          ]
        }
      ]
    },
    {
      "cell_type": "code",
      "source": [
        "#Forma corta\n",
        "tareas = [5, 9, 2, 6, 1]\n",
        "t=10\n",
        "\n",
        "\n",
        "def tareas(tareas, t):\n",
        "  for i in len(tareas):\n",
        "    for j in range[i:]:\n",
        "      if tareas[i]+tareas[j] < t:\n",
        "        for k in range[j:]:\n",
        "          if tareas[i]+tareas[j] + tareas[j]< t:"
      ],
      "metadata": {
        "id": "sCnctxgglTk-"
      },
      "execution_count": null,
      "outputs": []
    },
    {
      "cell_type": "code",
      "source": [
        "%%file test_maximizing_tasks.py\n",
        "\n",
        "## Code here"
      ],
      "metadata": {
        "id": "k5cF5rjaiqUF"
      },
      "execution_count": null,
      "outputs": []
    },
    {
      "cell_type": "code",
      "source": [
        "!python -m pytest"
      ],
      "metadata": {
        "id": "AUouY-_eiqUF"
      },
      "execution_count": null,
      "outputs": []
    },
    {
      "cell_type": "markdown",
      "source": [
        "#Ejercicio Extra\n",
        "La codificación de Huffman es un algoritmo de compresión de datos. A los elementos más frecuentes se les asigna cadenas de bits más cortas.\n",
        "\n",
        "Se emplea un árbol para la codificación, donde los nodos internos no tienen datos, la rama izquierda representa leer un 0, la rama derecha representa leer un 1, y al llegar a la hoja interpretamos el dato que allí se encuentra.\n",
        "\n",
        "Ejemplo:\n",
        "\n",
        "Dado el siguiente árbol de codificación de Huffman\n",
        "```\n",
        "   .\n",
        " 0/ \\1\n",
        " /   \\\n",
        "a  0/ \\1\n",
        "   b   c\n",
        "```\n",
        "y la cadena de bits\n",
        "```\n",
        "10101001\n",
        "```\n",
        "interpretaríamos\n",
        "```\n",
        "1 -> a\n",
        "01 -> b\n",
        "01 -> b\n",
        "00 -> c\n",
        "1 -> a\n",
        "```\n",
        "Está garantizado que, si la cadena de bits salió de ese árbol, entonces la interpretación siempre se puede realizar sin errores.\n",
        "\n",
        "El algoritmo para construir el árbol toma siempre los dos nodos con menor frecuencia y los une en un nodo interno, cuyo valor es la suma de las frecuencias, el menor de los dos hijos va a la rama del 0, y el mayor a la del 1, e itera este proceso Greedy hasta que nos quede un solo nodo, la raíz del árbol entero.\n",
        "\n",
        "Implementar el algoritmo que transforma un string en un Árbol de Huffman para crear el árbol. Como extra, además escribir el algoritmo de interpretación de secuencias de 1s y 0s. El algoritmo toma los 2 nodos con menor frecuencia y crea un nuevo nodo interno."
      ],
      "metadata": {
        "id": "OqF-LaU2eN0J"
      }
    },
    {
      "cell_type": "code",
      "source": [
        "%%file test_huffman.py\n",
        "\n",
        "# Me gustaría mostrar este en clase pero quizás no hagamos tiempo"
      ],
      "metadata": {
        "id": "7rk8PQtFeN0L"
      },
      "execution_count": null,
      "outputs": []
    },
    {
      "cell_type": "code",
      "source": [
        "!python -m pytest"
      ],
      "metadata": {
        "id": "eaND0cdZeN0M"
      },
      "execution_count": null,
      "outputs": []
    }
  ]
}