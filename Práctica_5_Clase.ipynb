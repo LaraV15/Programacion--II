{
  "nbformat": 4,
  "nbformat_minor": 0,
  "metadata": {
    "colab": {
      "provenance": [],
      "include_colab_link": true
    },
    "kernelspec": {
      "name": "python3",
      "display_name": "Python 3"
    },
    "language_info": {
      "name": "python"
    }
  },
  "cells": [
    {
      "cell_type": "markdown",
      "metadata": {
        "id": "view-in-github",
        "colab_type": "text"
      },
      "source": [
        "<a href=\"https://colab.research.google.com/github/LaraV15/Programacion--II/blob/main/Pr%C3%A1ctica_5_Clase.ipynb\" target=\"_parent\"><img src=\"https://colab.research.google.com/assets/colab-badge.svg\" alt=\"Open In Colab\"/></a>"
      ]
    },
    {
      "cell_type": "markdown",
      "source": [
        "# Práctica 5: Grafos\n",
        "\n",
        "Para ayudarse a resolver, leer la documentación del paquete [networkx](https://networkx.org/documentation/stable/reference/index.html)\n",
        "\n",
        "Los ejercicios están inspirados de la sección de grafos de [CSES](https://cses.fi/problemset/list/)"
      ],
      "metadata": {
        "id": "7u24cwGnQTGB"
      }
    },
    {
      "cell_type": "code",
      "source": [
        "!pip install pytest\n",
        "!pip install networkx"
      ],
      "metadata": {
        "id": "U3JF-b9GQTGN",
        "colab": {
          "base_uri": "https://localhost:8080/"
        },
        "outputId": "4bd87bfe-525b-4cf3-a16a-8e58bcc08bc5"
      },
      "execution_count": null,
      "outputs": [
        {
          "output_type": "stream",
          "name": "stdout",
          "text": [
            "Looking in indexes: https://pypi.org/simple, https://us-python.pkg.dev/colab-wheels/public/simple/\n",
            "Requirement already satisfied: pytest in /usr/local/lib/python3.7/dist-packages (3.6.4)\n",
            "Requirement already satisfied: atomicwrites>=1.0 in /usr/local/lib/python3.7/dist-packages (from pytest) (1.4.1)\n",
            "Requirement already satisfied: setuptools in /usr/local/lib/python3.7/dist-packages (from pytest) (57.4.0)\n",
            "Requirement already satisfied: py>=1.5.0 in /usr/local/lib/python3.7/dist-packages (from pytest) (1.11.0)\n",
            "Requirement already satisfied: attrs>=17.4.0 in /usr/local/lib/python3.7/dist-packages (from pytest) (22.1.0)\n",
            "Requirement already satisfied: six>=1.10.0 in /usr/local/lib/python3.7/dist-packages (from pytest) (1.15.0)\n",
            "Requirement already satisfied: more-itertools>=4.0.0 in /usr/local/lib/python3.7/dist-packages (from pytest) (9.0.0)\n",
            "Requirement already satisfied: pluggy<0.8,>=0.5 in /usr/local/lib/python3.7/dist-packages (from pytest) (0.7.1)\n",
            "Looking in indexes: https://pypi.org/simple, https://us-python.pkg.dev/colab-wheels/public/simple/\n",
            "Requirement already satisfied: networkx in /usr/local/lib/python3.7/dist-packages (2.6.3)\n"
          ]
        }
      ]
    },
    {
      "cell_type": "code",
      "source": [
        "%%file grid.py\n",
        "\n",
        "from math import sqrt\n",
        "\n",
        "class Grid:\n",
        "  def __init__(self, string, ancho, alto):\n",
        "    raw_split = string.replace(\"\\n\", \" \").replace(\"\\t\", \" \").split(\" \")\n",
        "\n",
        "    self.cells = [symbol for symbol in raw_split if symbol != \"\"]\n",
        "    self.ancho = ancho\n",
        "    self.alto = alto\n",
        "    \n",
        "  def at(self, x, y):\n",
        "    assert 0 <= x < self.ancho\n",
        "    assert 0 <= y < self.alto\n",
        "    return self.cells[x + self.ancho * y]"
      ],
      "metadata": {
        "id": "WLeTk7pmk8IM",
        "colab": {
          "base_uri": "https://localhost:8080/"
        },
        "outputId": "18f7df66-acaa-4eff-e51c-ec89915f268a"
      },
      "execution_count": null,
      "outputs": [
        {
          "output_type": "stream",
          "name": "stdout",
          "text": [
            "Overwriting grid.py\n"
          ]
        }
      ]
    },
    {
      "cell_type": "code",
      "source": [
        "!python -m pytest"
      ],
      "metadata": {
        "colab": {
          "base_uri": "https://localhost:8080/"
        },
        "id": "6PtOrFG0f6f2",
        "outputId": "359e513d-a72d-4038-a448-5917143b4f2c"
      },
      "execution_count": null,
      "outputs": [
        {
          "output_type": "stream",
          "name": "stdout",
          "text": [
            "\u001b[1m============================= test session starts ==============================\u001b[0m\n",
            "platform linux -- Python 3.7.15, pytest-3.6.4, py-1.11.0, pluggy-0.7.1\n",
            "rootdir: /content, inifile:\n",
            "plugins: typeguard-2.7.1\n",
            "\u001b[1m\rcollecting 0 items                                                             \u001b[0m\u001b[1m\rcollected 0 items                                                              \u001b[0m\n",
            "\n",
            "\u001b[33m\u001b[1m========================= no tests ran in 0.00 seconds =========================\u001b[0m\n"
          ]
        }
      ]
    },
    {
      "cell_type": "markdown",
      "source": [
        "**Ejercicio 1**: Construir los grafos $P_4, C_4, W_5, K_5, K_{2,3}$ programáticamente con el módulo `networkx`, y pedirle la construcción de sus matrices de adyacencia e incidencia donde:\n",
        "\n",
        "- $P_n$ es el grafo camino $n$ vértices\n",
        "- $C_n$ es el grafo ciclo de $n$ vértices\n",
        "- $W_n$ es el grafo rueda de $n$ vértices\n",
        "- $K_n$ es el grafo completo $n$ vértices\n",
        "- $K_{n,m}$ es el grafo bipartito completo $n$ y $m$ vértices"
      ],
      "metadata": {
        "id": "d3wX4oGm42Cc"
      }
    },
    {
      "cell_type": "code",
      "source": [
        "import networkx as nx\n",
        "import matplotlib.pyplot as plt\n",
        "P_4=nx.Graph()\n",
        "P_4.add_nodes_from([1,2,3,4])\n",
        "P_4.add_edges_from([(1,2),(2,3),(3,4)])\n",
        "\n",
        "nx.draw(P_4, with_labels = True , font_weight ='bold')"
      ],
      "metadata": {
        "id": "T_TrEyu-42Ce",
        "colab": {
          "base_uri": "https://localhost:8080/",
          "height": 319
        },
        "outputId": "9a304982-7a8a-40f3-ef3a-b8b1c6676f36"
      },
      "execution_count": null,
      "outputs": [
        {
          "output_type": "display_data",
          "data": {
            "text/plain": [
              "<Figure size 432x288 with 1 Axes>"
            ],
            "image/png": "[encoded data removed]"
          },
          "metadata": {}
        }
      ]
    },
    {
      "cell_type": "code",
      "source": [
        "#FORMA CLASE\n",
        "\n",
        "P_4 = nx.Graph()\n",
        "for v in [1,2,3]:\n",
        "  P_4.add_edge(v, v+1)\n",
        "\n",
        "print('Matriz de adyacencia')\n",
        "print(nx.adjacency_matrix(P_4, [1,2,3,4]).todense())\n",
        "print('Matriz de incidencia')\n",
        "print(nx.incidence_matrix(P_4, [1,2,3,4]).todense())"
      ],
      "metadata": {
        "colab": {
          "base_uri": "https://localhost:8080/"
        },
        "id": "zVTOrfpdmasl",
        "outputId": "005e52ef-da41-4e95-c85e-574b79b36fe4"
      },
      "execution_count": null,
      "outputs": [
        {
          "output_type": "stream",
          "name": "stdout",
          "text": [
            "Matriz de adyacencia\n",
            "[[0 1 0 0]\n",
            " [1 0 1 0]\n",
            " [0 1 0 1]\n",
            " [0 0 1 0]]\n",
            "Matriz de incidencia\n",
            "[[1. 0. 0.]\n",
            " [1. 1. 0.]\n",
            " [0. 1. 1.]\n",
            " [0. 0. 1.]]\n"
          ]
        }
      ]
    },
    {
      "cell_type": "code",
      "source": [
        "C_4 = nx.Graph()\n",
        "C_4.add_nodes_from([1,2,3,4])\n",
        "C_4.add_edges_from([(1,2),(2,3),(3,4),(4,1)])\n",
        "\n",
        "nx.draw(C_4, with_labels = True , font_weight ='bold')\n",
        "\n",
        "print('Matriz de adyacencia')\n",
        "print(nx.adjacency_matrix(C_4).todense())\n",
        "print('Matriz de incidencia')\n",
        "print(nx.incidence_matrix(C_4).todense())"
      ],
      "metadata": {
        "colab": {
          "base_uri": "https://localhost:8080/",
          "height": 502
        },
        "id": "q_nAqz7MluOd",
        "outputId": "10525ee2-d7c8-4548-ca11-0b3d4296a5e5"
      },
      "execution_count": null,
      "outputs": [
        {
          "output_type": "stream",
          "name": "stdout",
          "text": [
            "Matriz de adyacencia\n",
            "[[0 1 0 1]\n",
            " [1 0 1 0]\n",
            " [0 1 0 1]\n",
            " [1 0 1 0]]\n",
            "Matriz de incidencia\n",
            "[[1. 1. 0. 0.]\n",
            " [1. 0. 1. 0.]\n",
            " [0. 0. 1. 1.]\n",
            " [0. 1. 0. 1.]]\n"
          ]
        },
        {
          "output_type": "display_data",
          "data": {
            "text/plain": [
              "<Figure size 432x288 with 1 Axes>"
            ],
            "image/png": "[encoded data removed]"
          },
          "metadata": {}
        }
      ]
    },
    {
      "cell_type": "code",
      "source": [
        "W_5= nx.Graph()\n",
        "W_5.add_nodes_from([1,2,3,4,5])\n",
        "W_5.add_edges_from([(1,2),(2,3),(3,4),(4,1),(1,5),(2,5),(3,5),(4,5)])\n",
        "\n",
        "nx.draw(W_5, with_labels = True , font_weight ='bold')\n",
        "\n",
        "print('Matriz de adyacencia')\n",
        "print(nx.adjacency_matrix(W_5).todense())\n",
        "print('Matriz de incidencia')\n",
        "print(nx.incidence_matrix(W_5).todense())\n"
      ],
      "metadata": {
        "colab": {
          "base_uri": "https://localhost:8080/",
          "height": 538
        },
        "id": "9CAPJALzl3Yd",
        "outputId": "3cae8ee4-9f30-4699-af10-6aaf152c6d2c"
      },
      "execution_count": null,
      "outputs": [
        {
          "output_type": "stream",
          "name": "stdout",
          "text": [
            "Matriz de adyacencia\n",
            "[[0 1 0 1 1]\n",
            " [1 0 1 0 1]\n",
            " [0 1 0 1 1]\n",
            " [1 0 1 0 1]\n",
            " [1 1 1 1 0]]\n",
            "Matriz de incidencia\n",
            "[[1. 1. 1. 0. 0. 0. 0. 0.]\n",
            " [1. 0. 0. 1. 1. 0. 0. 0.]\n",
            " [0. 0. 0. 1. 0. 1. 1. 0.]\n",
            " [0. 1. 0. 0. 0. 1. 0. 1.]\n",
            " [0. 0. 1. 0. 1. 0. 1. 1.]]\n"
          ]
        },
        {
          "output_type": "display_data",
          "data": {
            "text/plain": [
              "<Figure size 432x288 with 1 Axes>"
            ],
            "image/png": "[encoded data removed]"
          },
          "metadata": {}
        }
      ]
    },
    {
      "cell_type": "code",
      "source": [
        "K_5 = nx.Graph()\n",
        "K_5.add_nodes_from([1,2,3,4,5])\n",
        "K_5.add_edges_from([(1,2),(1,3),(2,3),(2,4),(3,4),(4,1),(1,5),(2,5),(3,5),(4,5)])\n",
        "\n",
        "nx.draw(K_5, with_labels = True , font_weight ='bold')\n",
        "\n",
        "print('Matriz de adyacencia')\n",
        "print(nx.adjacency_matrix(K_5).todense())\n",
        "print('Matriz de incidencia')\n",
        "print(nx.incidence_matrix(K_5).todense())\n",
        "\n"
      ],
      "metadata": {
        "colab": {
          "base_uri": "https://localhost:8080/",
          "height": 538
        },
        "id": "en1yRftKl5M1",
        "outputId": "686d990a-9385-4f79-f9f1-f7fc981602e6"
      },
      "execution_count": null,
      "outputs": [
        {
          "output_type": "stream",
          "name": "stdout",
          "text": [
            "Matriz de adyacencia\n",
            "[[0 1 1 1 1]\n",
            " [1 0 1 1 1]\n",
            " [1 1 0 1 1]\n",
            " [1 1 1 0 1]\n",
            " [1 1 1 1 0]]\n",
            "Matriz de incidencia\n",
            "[[1. 1. 1. 1. 0. 0. 0. 0. 0. 0.]\n",
            " [1. 0. 0. 0. 1. 1. 1. 0. 0. 0.]\n",
            " [0. 1. 0. 0. 1. 0. 0. 1. 1. 0.]\n",
            " [0. 0. 1. 0. 0. 1. 0. 1. 0. 1.]\n",
            " [0. 0. 0. 1. 0. 0. 1. 0. 1. 1.]]\n"
          ]
        },
        {
          "output_type": "display_data",
          "data": {
            "text/plain": [
              "<Figure size 432x288 with 1 Axes>"
            ],
            "image/png": "[encoded data removed]"
          },
          "metadata": {}
        }
      ]
    },
    {
      "cell_type": "code",
      "source": [
        "K_23= nx.Graph()\n",
        "K_23.add_nodes_from([1,2,3,4,5])\n",
        "K_23.add_edges_from([(1,3),(1,4),(1,5),(2,3),(2,4),(2,5)])\n",
        "\n",
        "nx.draw(K_23, with_labels = True , font_weight ='bold')\n",
        "\n",
        "print('Matriz de adyacencia')\n",
        "print(nx.adjacency_matrix(K_23).todense())\n",
        "print('Matriz de incidencia')\n",
        "print(nx.incidence_matrix(K_23).todense())"
      ],
      "metadata": {
        "colab": {
          "base_uri": "https://localhost:8080/",
          "height": 538
        },
        "id": "jVwJ1xxMl6at",
        "outputId": "cd357d17-f76c-45d6-9644-62c9a4aac36c"
      },
      "execution_count": null,
      "outputs": [
        {
          "output_type": "stream",
          "name": "stdout",
          "text": [
            "Matriz de adyacencia\n",
            "[[0 0 1 1 1]\n",
            " [0 0 1 1 1]\n",
            " [1 1 0 0 0]\n",
            " [1 1 0 0 0]\n",
            " [1 1 0 0 0]]\n",
            "Matriz de incidencia\n",
            "[[1. 1. 1. 0. 0. 0.]\n",
            " [0. 0. 0. 1. 1. 1.]\n",
            " [1. 0. 0. 1. 0. 0.]\n",
            " [0. 1. 0. 0. 1. 0.]\n",
            " [0. 0. 1. 0. 0. 1.]]\n"
          ]
        },
        {
          "output_type": "display_data",
          "data": {
            "text/plain": [
              "<Figure size 432x288 with 1 Axes>"
            ],
            "image/png": "[encoded data removed]"
          },
          "metadata": {}
        }
      ]
    },
    {
      "cell_type": "code",
      "source": [
        "!python -m pytest"
      ],
      "metadata": {
        "id": "FkZ8XVHc42Cf",
        "colab": {
          "base_uri": "https://localhost:8080/"
        },
        "outputId": "9b744611-6f86-4ec9-f844-2d76a55c25b2"
      },
      "execution_count": null,
      "outputs": [
        {
          "output_type": "stream",
          "name": "stdout",
          "text": [
            "\u001b[1m============================= test session starts ==============================\u001b[0m\n",
            "platform linux -- Python 3.7.15, pytest-3.6.4, py-1.11.0, pluggy-0.7.1\n",
            "rootdir: /content, inifile:\n",
            "plugins: typeguard-2.7.1\n",
            "\u001b[1m\rcollecting 0 items                                                             \u001b[0m\u001b[1m\rcollected 0 items                                                              \u001b[0m\n",
            "\n",
            "\u001b[33m\u001b[1m========================= no tests ran in 0.00 seconds =========================\u001b[0m\n"
          ]
        }
      ]
    },
    {
      "cell_type": "markdown",
      "source": [
        "**Ejercicio 2**: Se le da un mapa de un edificio y su tarea es contar el número de habitaciones. El tamaño del mapa es de $n \\times m$ cuadrados, y cada cuadrado es piso o pared. Puede caminar hacia la izquierda, derecha, arriba y abajo a través de los cuadrados del piso. Los pisos serán ' . ' y las paredes ' * '.\n",
        "\n",
        "En el siguiente ejemplo hay 3 habitaciones:\n",
        "```\n",
        "# # # # # # # #\n",
        "# . . # . . . #\n",
        "# # # # . # . #\n",
        "# . . # . . . #\n",
        "# # # # # # # #\n",
        "```\n",
        "\n",
        "_Inspirado en [Counting Rooms](https://cses.fi/problemset/task/1192)_\n"
      ],
      "metadata": {
        "id": "DE49vwGLUvLr"
      }
    },
    {
      "cell_type": "code",
      "source": [
        "#%%file test_counting_rooms.py\n",
        "\n",
        "import networkx as nx\n",
        "from itertools import product\n",
        "from grid import Grid\n",
        "\n",
        "grid = Grid('''# # # # # # # #\n",
        "# . . # . . . #\n",
        "# # # # . # . #\n",
        "# . . # . . . #\n",
        "# # # # # # # #''', 8, 5)\n",
        "\n",
        "pisos = [(x,y) for (x,y) in product(range(0,grid.ancho), range(0,grid.alto)) if grid.at(x,y) == '.']\n",
        "\n",
        "G = nx.Graph()\n",
        "\n",
        "for (x,y) in pisos:\n",
        "  if (x + 1 < grid.ancho) and (grid.at(x+1, y) == '.'):\n",
        "    G.add_edge((x, y), (x+1, y))\n",
        "  if (y + 1 < grid.alto) and (grid.at(x, y+1) == '.'):\n",
        "    G.add_edge((x, y), (x, y+1))\n",
        "\n",
        "nx.draw(G)\n",
        "print(nx.number_connected_components(G))"
      ],
      "metadata": {
        "id": "M9BOxZKIbnQE",
        "colab": {
          "base_uri": "https://localhost:8080/",
          "height": 337
        },
        "outputId": "aba08257-d4a8-4b57-d68c-cdcf76ca1cc3"
      },
      "execution_count": null,
      "outputs": [
        {
          "output_type": "stream",
          "name": "stdout",
          "text": [
            "3\n"
          ]
        },
        {
          "output_type": "display_data",
          "data": {
            "text/plain": [
              "<Figure size 432x288 with 1 Axes>"
            ],
            "image/png": "[encoded data removed]"
          },
          "metadata": {}
        }
      ]
    },
    {
      "cell_type": "code",
      "source": [
        "!python -m pytest"
      ],
      "metadata": {
        "id": "AUouY-_eiqUF"
      },
      "execution_count": null,
      "outputs": []
    },
    {
      "cell_type": "markdown",
      "source": [
        "**Ejercicio 3**: Se nos da un mapa de un laberinto, donde hay que encontrar un camino de principio a fin. Se puede caminar hacia la izquierda, derecha, arriba y abajo. A es el inicio y B es el final.\n",
        "\n",
        "Imprima la ruta más corta. Puede imprimir cualquier solución válida.\n",
        "\n",
        "En el siguiente ejemplo el camino va izquierda, abajo, derecha al fondo y arriba:\n",
        "```\n",
        "# # # # # # # #\n",
        "# . A # . . . #\n",
        "# . # # . # B #\n",
        "# . . . . . . #\n",
        "# # # # # # # #\n",
        "```\n",
        "\n",
        "_Inspirado en [Labyrinth](https://cses.fi/problemset/task/1193)_\n"
      ],
      "metadata": {
        "id": "Axe39E88pah1"
      }
    },
    {
      "cell_type": "code",
      "source": [
        "%%file test_labyrinth.py\n",
        "\n",
        "import networkx as nx\n",
        "from grid import Grid\n",
        "\n",
        "### Código"
      ],
      "metadata": {
        "id": "fdY0BGk_pah2"
      },
      "execution_count": null,
      "outputs": []
    },
    {
      "cell_type": "code",
      "source": [
        "!python -m pytest"
      ],
      "metadata": {
        "id": "r_tejl8Qpah2"
      },
      "execution_count": null,
      "outputs": []
    },
    {
      "cell_type": "markdown",
      "source": [
        "**Ejercicio 4**: Hay ciudades numeradas con conexiones de vuelos entre ellas. Determine la longitud de la ruta más corta desde la ciudad 1 a todas las ciudades.\n",
        "\n",
        "Cada conexión de vuelo cuenta con ciudad origen, ciudad destino y longitud de la ruta. Puede haber más de una conexión entre un par de ciudades, y las conexiones no son bidireccionales.\n",
        "\n",
        "Puede suponer que se puede llegar a todas las ciudades.\n",
        "\n",
        "En el siguiente ejemplo, los caminos más cortos son: 0 para la ciudad 1, 5 para la ciudad 2 y 2 para la ciudad 3:\n",
        "```\n",
        "1 2 6\n",
        "1 3 2\n",
        "3 2 3\n",
        "1 3 4\n",
        "```\n",
        "\n",
        "_Inspirado en [Shortest Routes I](https://cses.fi/problemset/task/1671)_\n"
      ],
      "metadata": {
        "id": "rBa2fWTIu2DN"
      }
    },
    {
      "cell_type": "code",
      "source": [
        "%%file test_shortest_routes.py\n",
        "\n",
        "import networkx as nx\n",
        "\n",
        "### Código"
      ],
      "metadata": {
        "id": "fiSANuHIv03L"
      },
      "execution_count": null,
      "outputs": []
    },
    {
      "cell_type": "code",
      "source": [
        "!python -m pytest"
      ],
      "metadata": {
        "id": "qvNnkNHjv03N"
      },
      "execution_count": null,
      "outputs": []
    },
    {
      "cell_type": "markdown",
      "source": [
        "**Ejercicio 5**: Hay ciudades conectadas por caminos. Desafortunadamente, el estado de las carreteras es tan malo que no se pueden utilizar. Tu tarea es reparar algunas de las carreteras para que haya una ruta decente entre dos ciudades.\n",
        "\n",
        "Para cada camino, se conoce su costo de reparación. Encuentre una solución donde el costo total sea lo más pequeño posible.\n",
        "\n",
        "Todos los caminos son de doble sentido. Todo camino esta entre dos ciudades diferentes, y como máximo hay un camino entre dos ciudades.\n",
        "\n",
        "En el siguiente ejemplo, la solución es 14:\n",
        "```\n",
        "1 2 3\n",
        "2 3 5\n",
        "2 4 2\n",
        "3 4 8\n",
        "5 1 7\n",
        "5 4 4\n",
        "```\n",
        "\n",
        "_Inspirado en [Road Reparation](https://cses.fi/problemset/task/1675)_"
      ],
      "metadata": {
        "id": "txrp21jd1eoK"
      }
    },
    {
      "cell_type": "code",
      "source": [
        "%%file test_road_reparation.py\n",
        "\n",
        "import networkx as nx\n",
        "\n",
        "### Código"
      ],
      "metadata": {
        "id": "e1ZGy0Re2HEu"
      },
      "execution_count": null,
      "outputs": []
    },
    {
      "cell_type": "code",
      "source": [
        "!python -m pytest"
      ],
      "metadata": {
        "id": "ZFUkvNSa2HEv"
      },
      "execution_count": null,
      "outputs": []
    }
  ]
}