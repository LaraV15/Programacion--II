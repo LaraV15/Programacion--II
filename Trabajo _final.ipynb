{
  "cells": [
    {
      "cell_type": "markdown",
      "metadata": {
        "id": "view-in-github",
        "colab_type": "text"
      },
      "source": [
        "<a href=\"https://colab.research.google.com/github/LaraV15/Programacion--II/blob/main/Trabajo%20_final.ipynb\" target=\"_parent\"><img src=\"https://colab.research.google.com/assets/colab-badge.svg\" alt=\"Open In Colab\"/></a>"
      ]
    },
    {
      "cell_type": "markdown",
      "metadata": {
        "id": "ZJyYDsky9XF8"
      },
      "source": [
        "# 🖥️ **TP - Progamación II - Grupo 14**\n",
        "\n",
        "## 👥 **Integrantes:** \n",
        "### · García, Timoteo\n",
        "### · Mangiante, Guillermo\n",
        "### · Valeri, Lara\n",
        "\n",
        "##**Comisión 2**\n"
      ]
    },
    {
      "cell_type": "markdown",
      "metadata": {
        "id": "4rfEa2RC7ua5"
      },
      "source": [
        "Utilizamos los siguientes datasets:\n",
        "\n",
        "\n",
        "\n",
        "*   Estadísticas criminales en la República Argentina por Provincias: [snic-provincias.csv](https://https://datos.gob.ar/dataset/seguridad-estadisticas-criminales-republica-argentina-por-provincias-departamentos/archivo/seguridad_2.1)\n",
        "*   Cantidad de Habitantes de las Provincias Argentinas según el censo del 2010: [Pobliación.csv](https://www.ign.gob.ar/NuestrasActividades/Geografia/DatosArgentina/Poblacion2)\n",
        "\n",
        "\n",
        "\n"
      ]
    },
    {
      "cell_type": "markdown",
      "metadata": {
        "id": "iZoC5kOkEiDp"
      },
      "source": [
        "---\n"
      ]
    },
    {
      "cell_type": "markdown",
      "metadata": {
        "id": "TVxZ4RnZ9SE6"
      },
      "source": [
        "# ➡️ ¿Cuál es la provincia más insegura del país? En relación a la cantidad de habitantes y de delitos ocurridos durante el período 2014 - 2021"
      ]
    },
    {
      "cell_type": "markdown",
      "metadata": {
        "id": "uHNuBikJ9l6n"
      },
      "source": [
        "Obtenida la provincia realizaremos un análisis profundo de ella, como por ejemplo, tipo de crímen más frecuente/ menos frecuente, crímenes con más victimas, año con más victimas.\n",
        "Acompañando estos resultados con gráficos que representen la información.\n"
      ]
    },
    {
      "cell_type": "markdown",
      "metadata": {
        "id": "bKUiSRyo7m-o"
      },
      "source": [
        "\n",
        "\n",
        "---\n",
        "\n"
      ]
    },
    {
      "cell_type": "markdown",
      "metadata": {
        "id": "MW5pQRfz_N37"
      },
      "source": [
        "# 1️⃣ Importamos los módulos que vamos a utilizar"
      ]
    },
    {
      "cell_type": "code",
      "execution_count": null,
      "metadata": {
        "id": "90_699c50RO2"
      },
      "outputs": [],
      "source": [
        "import pandas as pd\n",
        "import numpy as np\n",
        "import matplotlib.pyplot as plt\n"
      ]
    },
    {
      "cell_type": "code",
      "execution_count": null,
      "metadata": {
        "colab": {
          "base_uri": "https://localhost:8080/"
        },
        "id": "p9F-1tjM_3Hd",
        "outputId": "764ebce8-8d1a-40ab-b6f3-b7673d9689b0"
      },
      "outputs": [
        {
          "output_type": "stream",
          "name": "stdout",
          "text": [
            "Drive already mounted at /content/drive; to attempt to forcibly remount, call drive.mount(\"/content/drive\", force_remount=True).\n"
          ]
        }
      ],
      "source": [
        "from google.colab import drive\n",
        "drive.mount('/content/drive')"
      ]
    },
    {
      "cell_type": "markdown",
      "metadata": {
        "id": "tkqMcxRR_Qok"
      },
      "source": [
        "# 2️⃣ Leemos los archivos que necesitamos"
      ]
    },
    {
      "cell_type": "code",
      "execution_count": null,
      "metadata": {
        "id": "gWLxRLuy0tNc"
      },
      "outputs": [],
      "source": [
        "#Si los datos están en en Drive, utilizar las siguientes líneas de código:\n",
        "data = \"/content/drive/MyDrive/TP Programación II/snic-provincias.csv\"\n",
        "pob = '/content/drive/MyDrive/TP Programación II/Poblacion.csv'\n",
        "\n",
        "df = pd.read_csv(data)\n",
        "poblacion = pd.read_csv(pob, delimiter=';')"
      ]
    },
    {
      "cell_type": "code",
      "source": [
        "#Si los datos no están en drive y se cargan al Colab usar las siguientes líneas de código:\n",
        "data=\"snic-provincias.csv\"\n",
        "pob = \"Poblacion.csv\"\n",
        "df=pd.read_csv(data)\n",
        "poblacion = pd.read_csv(pob, delimiter=';')"
      ],
      "metadata": {
        "id": "d-Jrut_Z2EUp"
      },
      "execution_count": null,
      "outputs": []
    },
    {
      "cell_type": "markdown",
      "metadata": {
        "id": "h8oqnkfh4VGV"
      },
      "source": [
        "# 3️⃣ Exploramos y analizamos los archivos"
      ]
    },
    {
      "cell_type": "markdown",
      "metadata": {
        "id": "fVSPFVJv9kpb"
      },
      "source": [
        "**Comenzamos analizando y \n",
        "limpiando los datos del dataset**"
      ]
    },
    {
      "cell_type": "code",
      "execution_count": null,
      "metadata": {
        "colab": {
          "base_uri": "https://localhost:8080/",
          "height": 357
        },
        "id": "2iyhI2bw85GM",
        "outputId": "66379def-903b-42a4-c532-ee36cd34b71b"
      },
      "outputs": [
        {
          "output_type": "execute_result",
          "data": {
            "text/plain": [
              "   anio  provincia_id                 provincia_nombre codigo_delito_snic_id  \\\n",
              "0  2014             2  Ciudad Autónoma de Buenos Aires                     1   \n",
              "1  2014             2  Ciudad Autónoma de Buenos Aires                     2   \n",
              "2  2014             2  Ciudad Autónoma de Buenos Aires                     3   \n",
              "3  2014             2  Ciudad Autónoma de Buenos Aires                     4   \n",
              "4  2014             2  Ciudad Autónoma de Buenos Aires                     5   \n",
              "\n",
              "                  codigo_delito_snic_nombre  cantidad_hechos  \\\n",
              "0                        Homicidios dolosos              185   \n",
              "1  Homicidios dolosos en grado de tentativa               54   \n",
              "2              Muertes en Accidentes Viales               82   \n",
              "3      Homicidios culposos por otros hechos               23   \n",
              "4                          Lesiones dolosas            18679   \n",
              "\n",
              "   cantidad_victimas  \n",
              "0              200.0  \n",
              "1               68.0  \n",
              "2              102.0  \n",
              "3               24.0  \n",
              "4            21175.0  "
            ],
            "text/html": [
              "\n",
              "  <div id=\"df-c048b4b3-a59e-4dfa-bed3-059d4348be7f\">\n",
              "    <div class=\"colab-df-container\">\n",
              "      <div>\n",
              "<style scoped>\n",
              "    .dataframe tbody tr th:only-of-type {\n",
              "        vertical-align: middle;\n",
              "    }\n",
              "\n",
              "    .dataframe tbody tr th {\n",
              "        vertical-align: top;\n",
              "    }\n",
              "\n",
              "    .dataframe thead th {\n",
              "        text-align: right;\n",
              "    }\n",
              "</style>\n",
              "<table border=\"1\" class=\"dataframe\">\n",
              "  <thead>\n",
              "    <tr style=\"text-align: right;\">\n",
              "      <th></th>\n",
              "      <th>anio</th>\n",
              "      <th>provincia_id</th>\n",
              "      <th>provincia_nombre</th>\n",
              "      <th>codigo_delito_snic_id</th>\n",
              "      <th>codigo_delito_snic_nombre</th>\n",
              "      <th>cantidad_hechos</th>\n",
              "      <th>cantidad_victimas</th>\n",
              "    </tr>\n",
              "  </thead>\n",
              "  <tbody>\n",
              "    <tr>\n",
              "      <th>0</th>\n",
              "      <td>2014</td>\n",
              "      <td>2</td>\n",
              "      <td>Ciudad Autónoma de Buenos Aires</td>\n",
              "      <td>1</td>\n",
              "      <td>Homicidios dolosos</td>\n",
              "      <td>185</td>\n",
              "      <td>200.0</td>\n",
              "    </tr>\n",
              "    <tr>\n",
              "      <th>1</th>\n",
              "      <td>2014</td>\n",
              "      <td>2</td>\n",
              "      <td>Ciudad Autónoma de Buenos Aires</td>\n",
              "      <td>2</td>\n",
              "      <td>Homicidios dolosos en grado de tentativa</td>\n",
              "      <td>54</td>\n",
              "      <td>68.0</td>\n",
              "    </tr>\n",
              "    <tr>\n",
              "      <th>2</th>\n",
              "      <td>2014</td>\n",
              "      <td>2</td>\n",
              "      <td>Ciudad Autónoma de Buenos Aires</td>\n",
              "      <td>3</td>\n",
              "      <td>Muertes en Accidentes Viales</td>\n",
              "      <td>82</td>\n",
              "      <td>102.0</td>\n",
              "    </tr>\n",
              "    <tr>\n",
              "      <th>3</th>\n",
              "      <td>2014</td>\n",
              "      <td>2</td>\n",
              "      <td>Ciudad Autónoma de Buenos Aires</td>\n",
              "      <td>4</td>\n",
              "      <td>Homicidios culposos por otros hechos</td>\n",
              "      <td>23</td>\n",
              "      <td>24.0</td>\n",
              "    </tr>\n",
              "    <tr>\n",
              "      <th>4</th>\n",
              "      <td>2014</td>\n",
              "      <td>2</td>\n",
              "      <td>Ciudad Autónoma de Buenos Aires</td>\n",
              "      <td>5</td>\n",
              "      <td>Lesiones dolosas</td>\n",
              "      <td>18679</td>\n",
              "      <td>21175.0</td>\n",
              "    </tr>\n",
              "  </tbody>\n",
              "</table>\n",
              "</div>\n",
              "      <button class=\"colab-df-convert\" onclick=\"convertToInteractive('df-c048b4b3-a59e-4dfa-bed3-059d4348be7f')\"\n",
              "              title=\"Convert this dataframe to an interactive table.\"\n",
              "              style=\"display:none;\">\n",
              "        \n",
              "  <svg xmlns=\"http://www.w3.org/2000/svg\" height=\"24px\"viewBox=\"0 0 24 24\"\n",
              "       width=\"24px\">\n",
              "    <path d=\"M0 0h24v24H0V0z\" fill=\"none\"/>\n",
              "    <path d=\"M18.56 5.44l.94 2.06.94-2.06 2.06-.94-2.06-.94-.94-2.06-.94 2.06-2.06.94zm-11 1L8.5 8.5l.94-2.06 2.06-.94-2.06-.94L8.5 2.5l-.94 2.06-2.06.94zm10 10l.94 2.06.94-2.06 2.06-.94-2.06-.94-.94-2.06-.94 2.06-2.06.94z\"/><path d=\"M17.41 7.96l-1.37-1.37c-.4-.4-.92-.59-1.43-.59-.52 0-1.04.2-1.43.59L10.3 9.45l-7.72 7.72c-.78.78-.78 2.05 0 2.83L4 21.41c.39.39.9.59 1.41.59.51 0 1.02-.2 1.41-.59l7.78-7.78 2.81-2.81c.8-.78.8-2.07 0-2.86zM5.41 20L4 18.59l7.72-7.72 1.47 1.35L5.41 20z\"/>\n",
              "  </svg>\n",
              "      </button>\n",
              "      \n",
              "  <style>\n",
              "    .colab-df-container {\n",
              "      display:flex;\n",
              "      flex-wrap:wrap;\n",
              "      gap: 12px;\n",
              "    }\n",
              "\n",
              "    .colab-df-convert {\n",
              "      background-color: #E8F0FE;\n",
              "      border: none;\n",
              "      border-radius: 50%;\n",
              "      cursor: pointer;\n",
              "      display: none;\n",
              "      fill: #1967D2;\n",
              "      height: 32px;\n",
              "      padding: 0 0 0 0;\n",
              "      width: 32px;\n",
              "    }\n",
              "\n",
              "    .colab-df-convert:hover {\n",
              "      background-color: #E2EBFA;\n",
              "      box-shadow: 0px 1px 2px rgba(60, 64, 67, 0.3), 0px 1px 3px 1px rgba(60, 64, 67, 0.15);\n",
              "      fill: #174EA6;\n",
              "    }\n",
              "\n",
              "    [theme=dark] .colab-df-convert {\n",
              "      background-color: #3B4455;\n",
              "      fill: #D2E3FC;\n",
              "    }\n",
              "\n",
              "    [theme=dark] .colab-df-convert:hover {\n",
              "      background-color: #434B5C;\n",
              "      box-shadow: 0px 1px 3px 1px rgba(0, 0, 0, 0.15);\n",
              "      filter: drop-shadow(0px 1px 2px rgba(0, 0, 0, 0.3));\n",
              "      fill: #FFFFFF;\n",
              "    }\n",
              "  </style>\n",
              "\n",
              "      <script>\n",
              "        const buttonEl =\n",
              "          document.querySelector('#df-c048b4b3-a59e-4dfa-bed3-059d4348be7f button.colab-df-convert');\n",
              "        buttonEl.style.display =\n",
              "          google.colab.kernel.accessAllowed ? 'block' : 'none';\n",
              "\n",
              "        async function convertToInteractive(key) {\n",
              "          const element = document.querySelector('#df-c048b4b3-a59e-4dfa-bed3-059d4348be7f');\n",
              "          const dataTable =\n",
              "            await google.colab.kernel.invokeFunction('convertToInteractive',\n",
              "                                                     [key], {});\n",
              "          if (!dataTable) return;\n",
              "\n",
              "          const docLinkHtml = 'Like what you see? Visit the ' +\n",
              "            '<a target=\"_blank\" href=https://colab.research.google.com/notebooks/data_table.ipynb>data table notebook</a>'\n",
              "            + ' to learn more about interactive tables.';\n",
              "          element.innerHTML = '';\n",
              "          dataTable['output_type'] = 'display_data';\n",
              "          await google.colab.output.renderOutput(dataTable, element);\n",
              "          const docLink = document.createElement('div');\n",
              "          docLink.innerHTML = docLinkHtml;\n",
              "          element.appendChild(docLink);\n",
              "        }\n",
              "      </script>\n",
              "    </div>\n",
              "  </div>\n",
              "  "
            ]
          },
          "metadata": {},
          "execution_count": 98
        }
      ],
      "source": [
        "#Visualizamos las primeras 5 filas para ver con qué datos contamos\n",
        "\n",
        "df.head()"
      ]
    },
    {
      "cell_type": "code",
      "execution_count": null,
      "metadata": {
        "colab": {
          "base_uri": "https://localhost:8080/"
        },
        "id": "8Lny68OsBsns",
        "outputId": "98e61fdb-30c4-4cca-e3fe-10d7e0115f33"
      },
      "outputs": [
        {
          "output_type": "execute_result",
          "data": {
            "text/plain": [
              "(8880, 7)"
            ]
          },
          "metadata": {},
          "execution_count": 99
        }
      ],
      "source": [
        "#Vemos cuantas filas y columnas tiene el dataset \"sobre delitos\"\n",
        "\n",
        "df.shape"
      ]
    },
    {
      "cell_type": "code",
      "execution_count": null,
      "metadata": {
        "colab": {
          "base_uri": "https://localhost:8080/",
          "height": 531
        },
        "id": "GLPhMij74a-9",
        "outputId": "db3d95d3-7761-44df-d45b-0800ba82ee98"
      },
      "outputs": [
        {
          "output_type": "execute_result",
          "data": {
            "text/plain": [
              "   anio  provincia_id                        Provincia codigo_delito_snic_id  \\\n",
              "0  2014             2  Ciudad Autónoma de Buenos Aires                     1   \n",
              "1  2014             2  Ciudad Autónoma de Buenos Aires                     2   \n",
              "2  2014             2  Ciudad Autónoma de Buenos Aires                     3   \n",
              "3  2014             2  Ciudad Autónoma de Buenos Aires                     4   \n",
              "4  2014             2  Ciudad Autónoma de Buenos Aires                     5   \n",
              "\n",
              "                  codigo_delito_snic_nombre  cantidad_hechos  \\\n",
              "0                        Homicidios dolosos              185   \n",
              "1  Homicidios dolosos en grado de tentativa               54   \n",
              "2              Muertes en Accidentes Viales               82   \n",
              "3      Homicidios culposos por otros hechos               23   \n",
              "4                          Lesiones dolosas            18679   \n",
              "\n",
              "   cantidad_victimas  \n",
              "0              200.0  \n",
              "1               68.0  \n",
              "2              102.0  \n",
              "3               24.0  \n",
              "4            21175.0  "
            ],
            "text/html": [
              "\n",
              "  <div id=\"df-9a25dd10-3679-4dad-948e-ad87da6a0a82\">\n",
              "    <div class=\"colab-df-container\">\n",
              "      <div>\n",
              "<style scoped>\n",
              "    .dataframe tbody tr th:only-of-type {\n",
              "        vertical-align: middle;\n",
              "    }\n",
              "\n",
              "    .dataframe tbody tr th {\n",
              "        vertical-align: top;\n",
              "    }\n",
              "\n",
              "    .dataframe thead th {\n",
              "        text-align: right;\n",
              "    }\n",
              "</style>\n",
              "<table border=\"1\" class=\"dataframe\">\n",
              "  <thead>\n",
              "    <tr style=\"text-align: right;\">\n",
              "      <th></th>\n",
              "      <th>anio</th>\n",
              "      <th>provincia_id</th>\n",
              "      <th>Provincia</th>\n",
              "      <th>codigo_delito_snic_id</th>\n",
              "      <th>codigo_delito_snic_nombre</th>\n",
              "      <th>cantidad_hechos</th>\n",
              "      <th>cantidad_victimas</th>\n",
              "    </tr>\n",
              "  </thead>\n",
              "  <tbody>\n",
              "    <tr>\n",
              "      <th>0</th>\n",
              "      <td>2014</td>\n",
              "      <td>2</td>\n",
              "      <td>Ciudad Autónoma de Buenos Aires</td>\n",
              "      <td>1</td>\n",
              "      <td>Homicidios dolosos</td>\n",
              "      <td>185</td>\n",
              "      <td>200.0</td>\n",
              "    </tr>\n",
              "    <tr>\n",
              "      <th>1</th>\n",
              "      <td>2014</td>\n",
              "      <td>2</td>\n",
              "      <td>Ciudad Autónoma de Buenos Aires</td>\n",
              "      <td>2</td>\n",
              "      <td>Homicidios dolosos en grado de tentativa</td>\n",
              "      <td>54</td>\n",
              "      <td>68.0</td>\n",
              "    </tr>\n",
              "    <tr>\n",
              "      <th>2</th>\n",
              "      <td>2014</td>\n",
              "      <td>2</td>\n",
              "      <td>Ciudad Autónoma de Buenos Aires</td>\n",
              "      <td>3</td>\n",
              "      <td>Muertes en Accidentes Viales</td>\n",
              "      <td>82</td>\n",
              "      <td>102.0</td>\n",
              "    </tr>\n",
              "    <tr>\n",
              "      <th>3</th>\n",
              "      <td>2014</td>\n",
              "      <td>2</td>\n",
              "      <td>Ciudad Autónoma de Buenos Aires</td>\n",
              "      <td>4</td>\n",
              "      <td>Homicidios culposos por otros hechos</td>\n",
              "      <td>23</td>\n",
              "      <td>24.0</td>\n",
              "    </tr>\n",
              "    <tr>\n",
              "      <th>4</th>\n",
              "      <td>2014</td>\n",
              "      <td>2</td>\n",
              "      <td>Ciudad Autónoma de Buenos Aires</td>\n",
              "      <td>5</td>\n",
              "      <td>Lesiones dolosas</td>\n",
              "      <td>18679</td>\n",
              "      <td>21175.0</td>\n",
              "    </tr>\n",
              "  </tbody>\n",
              "</table>\n",
              "</div>\n",
              "      <button class=\"colab-df-convert\" onclick=\"convertToInteractive('df-9a25dd10-3679-4dad-948e-ad87da6a0a82')\"\n",
              "              title=\"Convert this dataframe to an interactive table.\"\n",
              "              style=\"display:none;\">\n",
              "        \n",
              "  <svg xmlns=\"http://www.w3.org/2000/svg\" height=\"24px\"viewBox=\"0 0 24 24\"\n",
              "       width=\"24px\">\n",
              "    <path d=\"M0 0h24v24H0V0z\" fill=\"none\"/>\n",
              "    <path d=\"M18.56 5.44l.94 2.06.94-2.06 2.06-.94-2.06-.94-.94-2.06-.94 2.06-2.06.94zm-11 1L8.5 8.5l.94-2.06 2.06-.94-2.06-.94L8.5 2.5l-.94 2.06-2.06.94zm10 10l.94 2.06.94-2.06 2.06-.94-2.06-.94-.94-2.06-.94 2.06-2.06.94z\"/><path d=\"M17.41 7.96l-1.37-1.37c-.4-.4-.92-.59-1.43-.59-.52 0-1.04.2-1.43.59L10.3 9.45l-7.72 7.72c-.78.78-.78 2.05 0 2.83L4 21.41c.39.39.9.59 1.41.59.51 0 1.02-.2 1.41-.59l7.78-7.78 2.81-2.81c.8-.78.8-2.07 0-2.86zM5.41 20L4 18.59l7.72-7.72 1.47 1.35L5.41 20z\"/>\n",
              "  </svg>\n",
              "      </button>\n",
              "      \n",
              "  <style>\n",
              "    .colab-df-container {\n",
              "      display:flex;\n",
              "      flex-wrap:wrap;\n",
              "      gap: 12px;\n",
              "    }\n",
              "\n",
              "    .colab-df-convert {\n",
              "      background-color: #E8F0FE;\n",
              "      border: none;\n",
              "      border-radius: 50%;\n",
              "      cursor: pointer;\n",
              "      display: none;\n",
              "      fill: #1967D2;\n",
              "      height: 32px;\n",
              "      padding: 0 0 0 0;\n",
              "      width: 32px;\n",
              "    }\n",
              "\n",
              "    .colab-df-convert:hover {\n",
              "      background-color: #E2EBFA;\n",
              "      box-shadow: 0px 1px 2px rgba(60, 64, 67, 0.3), 0px 1px 3px 1px rgba(60, 64, 67, 0.15);\n",
              "      fill: #174EA6;\n",
              "    }\n",
              "\n",
              "    [theme=dark] .colab-df-convert {\n",
              "      background-color: #3B4455;\n",
              "      fill: #D2E3FC;\n",
              "    }\n",
              "\n",
              "    [theme=dark] .colab-df-convert:hover {\n",
              "      background-color: #434B5C;\n",
              "      box-shadow: 0px 1px 3px 1px rgba(0, 0, 0, 0.15);\n",
              "      filter: drop-shadow(0px 1px 2px rgba(0, 0, 0, 0.3));\n",
              "      fill: #FFFFFF;\n",
              "    }\n",
              "  </style>\n",
              "\n",
              "      <script>\n",
              "        const buttonEl =\n",
              "          document.querySelector('#df-9a25dd10-3679-4dad-948e-ad87da6a0a82 button.colab-df-convert');\n",
              "        buttonEl.style.display =\n",
              "          google.colab.kernel.accessAllowed ? 'block' : 'none';\n",
              "\n",
              "        async function convertToInteractive(key) {\n",
              "          const element = document.querySelector('#df-9a25dd10-3679-4dad-948e-ad87da6a0a82');\n",
              "          const dataTable =\n",
              "            await google.colab.kernel.invokeFunction('convertToInteractive',\n",
              "                                                     [key], {});\n",
              "          if (!dataTable) return;\n",
              "\n",
              "          const docLinkHtml = 'Like what you see? Visit the ' +\n",
              "            '<a target=\"_blank\" href=https://colab.research.google.com/notebooks/data_table.ipynb>data table notebook</a>'\n",
              "            + ' to learn more about interactive tables.';\n",
              "          element.innerHTML = '';\n",
              "          dataTable['output_type'] = 'display_data';\n",
              "          await google.colab.output.renderOutput(dataTable, element);\n",
              "          const docLink = document.createElement('div');\n",
              "          docLink.innerHTML = docLinkHtml;\n",
              "          element.appendChild(docLink);\n",
              "        }\n",
              "      </script>\n",
              "    </div>\n",
              "  </div>\n",
              "  "
            ]
          },
          "metadata": {},
          "execution_count": 100
        }
      ],
      "source": [
        "#Le cambiamos el nombre a una de las columnas\n",
        "\n",
        "df.rename(columns={'provincia_nombre': 'Provincia'}, inplace=True)\n",
        "df.head()\n"
      ]
    },
    {
      "cell_type": "code",
      "execution_count": null,
      "metadata": {
        "colab": {
          "base_uri": "https://localhost:8080/",
          "height": 357
        },
        "id": "yOJf0oHc3y6p",
        "outputId": "76a16094-8b81-4b87-b050-8dd3de4cbc8a"
      },
      "outputs": [
        {
          "output_type": "execute_result",
          "data": {
            "text/plain": [
              "                         Provincia Estimada 2020\n",
              "0                     Buenos Aires    17.541.141\n",
              "1                        Catamarca       415.438\n",
              "2                            Chaco     1.204.541\n",
              "3                           Chubut       618.994\n",
              "4  Ciudad Autónoma de Buenos Aires     3.075.646"
            ],
            "text/html": [
              "\n",
              "  <div id=\"df-79e849c2-542a-401d-923d-4f218359cae7\">\n",
              "    <div class=\"colab-df-container\">\n",
              "      <div>\n",
              "<style scoped>\n",
              "    .dataframe tbody tr th:only-of-type {\n",
              "        vertical-align: middle;\n",
              "    }\n",
              "\n",
              "    .dataframe tbody tr th {\n",
              "        vertical-align: top;\n",
              "    }\n",
              "\n",
              "    .dataframe thead th {\n",
              "        text-align: right;\n",
              "    }\n",
              "</style>\n",
              "<table border=\"1\" class=\"dataframe\">\n",
              "  <thead>\n",
              "    <tr style=\"text-align: right;\">\n",
              "      <th></th>\n",
              "      <th>Provincia</th>\n",
              "      <th>Estimada 2020</th>\n",
              "    </tr>\n",
              "  </thead>\n",
              "  <tbody>\n",
              "    <tr>\n",
              "      <th>0</th>\n",
              "      <td>Buenos Aires</td>\n",
              "      <td>17.541.141</td>\n",
              "    </tr>\n",
              "    <tr>\n",
              "      <th>1</th>\n",
              "      <td>Catamarca</td>\n",
              "      <td>415.438</td>\n",
              "    </tr>\n",
              "    <tr>\n",
              "      <th>2</th>\n",
              "      <td>Chaco</td>\n",
              "      <td>1.204.541</td>\n",
              "    </tr>\n",
              "    <tr>\n",
              "      <th>3</th>\n",
              "      <td>Chubut</td>\n",
              "      <td>618.994</td>\n",
              "    </tr>\n",
              "    <tr>\n",
              "      <th>4</th>\n",
              "      <td>Ciudad Autónoma de Buenos Aires</td>\n",
              "      <td>3.075.646</td>\n",
              "    </tr>\n",
              "  </tbody>\n",
              "</table>\n",
              "</div>\n",
              "      <button class=\"colab-df-convert\" onclick=\"convertToInteractive('df-79e849c2-542a-401d-923d-4f218359cae7')\"\n",
              "              title=\"Convert this dataframe to an interactive table.\"\n",
              "              style=\"display:none;\">\n",
              "        \n",
              "  <svg xmlns=\"http://www.w3.org/2000/svg\" height=\"24px\"viewBox=\"0 0 24 24\"\n",
              "       width=\"24px\">\n",
              "    <path d=\"M0 0h24v24H0V0z\" fill=\"none\"/>\n",
              "    <path d=\"M18.56 5.44l.94 2.06.94-2.06 2.06-.94-2.06-.94-.94-2.06-.94 2.06-2.06.94zm-11 1L8.5 8.5l.94-2.06 2.06-.94-2.06-.94L8.5 2.5l-.94 2.06-2.06.94zm10 10l.94 2.06.94-2.06 2.06-.94-2.06-.94-.94-2.06-.94 2.06-2.06.94z\"/><path d=\"M17.41 7.96l-1.37-1.37c-.4-.4-.92-.59-1.43-.59-.52 0-1.04.2-1.43.59L10.3 9.45l-7.72 7.72c-.78.78-.78 2.05 0 2.83L4 21.41c.39.39.9.59 1.41.59.51 0 1.02-.2 1.41-.59l7.78-7.78 2.81-2.81c.8-.78.8-2.07 0-2.86zM5.41 20L4 18.59l7.72-7.72 1.47 1.35L5.41 20z\"/>\n",
              "  </svg>\n",
              "      </button>\n",
              "      \n",
              "  <style>\n",
              "    .colab-df-container {\n",
              "      display:flex;\n",
              "      flex-wrap:wrap;\n",
              "      gap: 12px;\n",
              "    }\n",
              "\n",
              "    .colab-df-convert {\n",
              "      background-color: #E8F0FE;\n",
              "      border: none;\n",
              "      border-radius: 50%;\n",
              "      cursor: pointer;\n",
              "      display: none;\n",
              "      fill: #1967D2;\n",
              "      height: 32px;\n",
              "      padding: 0 0 0 0;\n",
              "      width: 32px;\n",
              "    }\n",
              "\n",
              "    .colab-df-convert:hover {\n",
              "      background-color: #E2EBFA;\n",
              "      box-shadow: 0px 1px 2px rgba(60, 64, 67, 0.3), 0px 1px 3px 1px rgba(60, 64, 67, 0.15);\n",
              "      fill: #174EA6;\n",
              "    }\n",
              "\n",
              "    [theme=dark] .colab-df-convert {\n",
              "      background-color: #3B4455;\n",
              "      fill: #D2E3FC;\n",
              "    }\n",
              "\n",
              "    [theme=dark] .colab-df-convert:hover {\n",
              "      background-color: #434B5C;\n",
              "      box-shadow: 0px 1px 3px 1px rgba(0, 0, 0, 0.15);\n",
              "      filter: drop-shadow(0px 1px 2px rgba(0, 0, 0, 0.3));\n",
              "      fill: #FFFFFF;\n",
              "    }\n",
              "  </style>\n",
              "\n",
              "      <script>\n",
              "        const buttonEl =\n",
              "          document.querySelector('#df-79e849c2-542a-401d-923d-4f218359cae7 button.colab-df-convert');\n",
              "        buttonEl.style.display =\n",
              "          google.colab.kernel.accessAllowed ? 'block' : 'none';\n",
              "\n",
              "        async function convertToInteractive(key) {\n",
              "          const element = document.querySelector('#df-79e849c2-542a-401d-923d-4f218359cae7');\n",
              "          const dataTable =\n",
              "            await google.colab.kernel.invokeFunction('convertToInteractive',\n",
              "                                                     [key], {});\n",
              "          if (!dataTable) return;\n",
              "\n",
              "          const docLinkHtml = 'Like what you see? Visit the ' +\n",
              "            '<a target=\"_blank\" href=https://colab.research.google.com/notebooks/data_table.ipynb>data table notebook</a>'\n",
              "            + ' to learn more about interactive tables.';\n",
              "          element.innerHTML = '';\n",
              "          dataTable['output_type'] = 'display_data';\n",
              "          await google.colab.output.renderOutput(dataTable, element);\n",
              "          const docLink = document.createElement('div');\n",
              "          docLink.innerHTML = docLinkHtml;\n",
              "          element.appendChild(docLink);\n",
              "        }\n",
              "      </script>\n",
              "    </div>\n",
              "  </div>\n",
              "  "
            ]
          },
          "metadata": {},
          "execution_count": 101
        }
      ],
      "source": [
        "# Ahora vemos qué datos hay en el archivo pobliacion\n",
        "\n",
        "poblacion.head()"
      ]
    },
    {
      "cell_type": "code",
      "execution_count": null,
      "metadata": {
        "colab": {
          "base_uri": "https://localhost:8080/"
        },
        "id": "zbSWV8uSCGd9",
        "outputId": "fd4f7e07-234f-4e90-8aca-231d767d14a7"
      },
      "outputs": [
        {
          "output_type": "execute_result",
          "data": {
            "text/plain": [
              "(24, 2)"
            ]
          },
          "metadata": {},
          "execution_count": 102
        }
      ],
      "source": [
        "#Contramos las filas y columnas del archivo población\n",
        "\n",
        "poblacion.shape"
      ]
    },
    {
      "cell_type": "markdown",
      "metadata": {
        "id": "ALiCdjjb3y6q"
      },
      "source": [
        "\n",
        "Vamos a proceder a Merger los Dataframes, asi tenemos la poblacion en el mismo que tenemos los datos"
      ]
    },
    {
      "cell_type": "code",
      "execution_count": null,
      "metadata": {
        "colab": {
          "base_uri": "https://localhost:8080/"
        },
        "id": "uFrDwMUi7Whd",
        "outputId": "7c663ebe-d0ed-49b7-b64f-1a5a3c725390"
      },
      "outputs": [
        {
          "output_type": "stream",
          "name": "stdout",
          "text": [
            "Columnas del Dataframe de delitos por provincia:\n",
            "Index(['anio', 'provincia_id', 'Provincia', 'codigo_delito_snic_id',\n",
            "       'codigo_delito_snic_nombre', 'cantidad_hechos', 'cantidad_victimas'],\n",
            "      dtype='object')\n",
            "\n",
            "Columnas del Dataframe de población:\n",
            "Index(['Provincia', 'Estimada 2020'], dtype='object')\n"
          ]
        }
      ],
      "source": [
        "# Vamos a ver que columnas tiene cada dataset\n",
        "\n",
        "print(\"Columnas del Dataframe de delitos por provincia:\")\n",
        "print(df.columns)\n",
        "print()\n",
        "print(\"Columnas del Dataframe de población:\")\n",
        "print(poblacion.columns)"
      ]
    },
    {
      "cell_type": "markdown",
      "metadata": {
        "id": "sVw9Y_5iDM_k"
      },
      "source": [
        "# 4️⃣ Detección de nulos en cada DataFrame"
      ]
    },
    {
      "cell_type": "markdown",
      "metadata": {
        "id": "oR5qItBvDfz8"
      },
      "source": [
        "Analizamos cuántos nulos tiene cada columna de cada DataFrame, primero comenzamos con delitos por provincia y luego población."
      ]
    },
    {
      "cell_type": "markdown",
      "metadata": {
        "id": "tSd8zKtU-4t8"
      },
      "source": [
        "**Delitos por provincia**"
      ]
    },
    {
      "cell_type": "code",
      "execution_count": null,
      "metadata": {
        "colab": {
          "base_uri": "https://localhost:8080/"
        },
        "id": "sQyiQVHntzR6",
        "outputId": "ff376eac-1452-4cce-c2ee-c6eaf7d22516"
      },
      "outputs": [
        {
          "output_type": "execute_result",
          "data": {
            "text/plain": [
              "anio                            0\n",
              "provincia_id                    0\n",
              "Provincia                       0\n",
              "codigo_delito_snic_id           0\n",
              "codigo_delito_snic_nombre       0\n",
              "cantidad_hechos                 0\n",
              "cantidad_victimas            6288\n",
              "dtype: int64"
            ]
          },
          "metadata": {},
          "execution_count": 104
        }
      ],
      "source": [
        "# Vemos si existen nulos\n",
        "\n",
        "df.isnull().sum()"
      ]
    },
    {
      "cell_type": "markdown",
      "metadata": {
        "id": "IyiOkH3L_fiu"
      },
      "source": [
        "A partir de lo anterior podemos observar que las primeras 6 columnas no tienen ningún dato nulo, mientras que la última tiene muchos. Que la columna 'cantidad_victimas' tenga datos nulos no es incorrecto, ya que esto implica que hay algunos delitos que no contaron con victimas."
      ]
    },
    {
      "cell_type": "code",
      "execution_count": null,
      "metadata": {
        "colab": {
          "base_uri": "https://localhost:8080/"
        },
        "id": "KfQITg8ft5V5",
        "outputId": "52ba9dcb-0730-45f7-ba22-b725a59aa60d"
      },
      "outputs": [
        {
          "output_type": "execute_result",
          "data": {
            "text/plain": [
              "anio                          0.000000\n",
              "provincia_id                  0.000000\n",
              "Provincia                     0.000000\n",
              "codigo_delito_snic_id         0.000000\n",
              "codigo_delito_snic_nombre     0.000000\n",
              "cantidad_hechos               0.000000\n",
              "cantidad_victimas            70.810811\n",
              "dtype: float64"
            ]
          },
          "metadata": {},
          "execution_count": 105
        }
      ],
      "source": [
        "#Cuánto representa del total\n",
        "\n",
        "df.isnull().sum() / df.shape[0] * 100"
      ]
    },
    {
      "cell_type": "code",
      "execution_count": null,
      "metadata": {
        "id": "YWD6JQmh3y6r"
      },
      "outputs": [],
      "source": [
        "# Reemplazamos los nulls de cantidad de victimas por 0\n",
        "\n",
        "df.replace(to_replace=' ', value= np.NaN, inplace=True)\n",
        "df.fillna(0, inplace=True)\n"
      ]
    },
    {
      "cell_type": "code",
      "execution_count": null,
      "metadata": {
        "colab": {
          "base_uri": "https://localhost:8080/"
        },
        "id": "VfCPrxA_3y6r",
        "outputId": "15b33fa7-e048-4c18-c322-0b3f5b3fdaf6"
      },
      "outputs": [
        {
          "output_type": "execute_result",
          "data": {
            "text/plain": [
              "anio                         0\n",
              "provincia_id                 0\n",
              "Provincia                    0\n",
              "codigo_delito_snic_id        0\n",
              "codigo_delito_snic_nombre    0\n",
              "cantidad_hechos              0\n",
              "cantidad_victimas            0\n",
              "dtype: int64"
            ]
          },
          "metadata": {},
          "execution_count": 107
        }
      ],
      "source": [
        "# Contralamos que sean 0\n",
        "\n",
        "df.isnull().sum()"
      ]
    },
    {
      "cell_type": "code",
      "execution_count": null,
      "metadata": {
        "colab": {
          "base_uri": "https://localhost:8080/"
        },
        "id": "KbRlp5lj3y6s",
        "outputId": "4db03061-e2ad-44e5-af13-5c5ad4398ae9"
      },
      "outputs": [
        {
          "output_type": "execute_result",
          "data": {
            "text/plain": [
              "0         200\n",
              "1          68\n",
              "2         102\n",
              "3          24\n",
              "4       21175\n",
              "        ...  \n",
              "8875        0\n",
              "8876        0\n",
              "8877        0\n",
              "8878       21\n",
              "8879        0\n",
              "Name: cantidad_victimas, Length: 8880, dtype: int64"
            ]
          },
          "metadata": {},
          "execution_count": 108
        }
      ],
      "source": [
        "#Convertimos los datos a enteros\n",
        "\n",
        "df.cantidad_victimas.astype(int)"
      ]
    },
    {
      "cell_type": "markdown",
      "metadata": {
        "id": "oExzfkEQ_Ct5"
      },
      "source": [
        "**Población**"
      ]
    },
    {
      "cell_type": "code",
      "execution_count": null,
      "metadata": {
        "colab": {
          "base_uri": "https://localhost:8080/"
        },
        "id": "e8SOF2Sj_GxD",
        "outputId": "b7a2e862-7d36-476d-8cf3-6730ddecd67d"
      },
      "outputs": [
        {
          "output_type": "execute_result",
          "data": {
            "text/plain": [
              "Provincia        0\n",
              "Estimada 2020    0\n",
              "dtype: int64"
            ]
          },
          "metadata": {},
          "execution_count": 109
        }
      ],
      "source": [
        "# Vemos si existen nulos\n",
        "\n",
        "poblacion.isnull().sum()"
      ]
    },
    {
      "cell_type": "markdown",
      "metadata": {
        "id": "buALF393_Rm3"
      },
      "source": [
        "Era la respuesta esperada, ya que no hay ninguna pronvincia del país que no tenga habitantes"
      ]
    },
    {
      "cell_type": "markdown",
      "metadata": {
        "id": "WMYwhgLREaBd"
      },
      "source": [
        "# 5️⃣ Comenzamos a realizar preguntas sobre nuestros datos"
      ]
    },
    {
      "cell_type": "markdown",
      "metadata": {
        "id": "gZZXNehm01bT"
      },
      "source": [
        "**A partir de observar que hay delitos que no tienen victimas, cabe preguntarnos. ¿Cuáles son los delitos que no cuentan con ninguna victima?**"
      ]
    },
    {
      "cell_type": "code",
      "execution_count": null,
      "metadata": {
        "colab": {
          "base_uri": "https://localhost:8080/"
        },
        "id": "cgJlnmjyuWx3",
        "outputId": "f8d653aa-0b6f-48cd-e8d1-d2152bc5ac20"
      },
      "outputs": [
        {
          "output_type": "execute_result",
          "data": {
            "text/plain": [
              "Otros delitos previstos en leyes especiales                                                     192\n",
              "Robos (excluye los agravados por el resultado de lesiones y/o muertes)                          192\n",
              "Hurtos                                                                                          192\n",
              "Otros delitos contra la propiedad                                                               192\n",
              "Delitos contra la administración pública                                                        192\n",
              "Delitos contra la fe pública                                                                    192\n",
              "Amenazas                                                                                        192\n",
              "Tentativas de robo (excluye las agravadas por el res. de lesiones y/o muerte)                   190\n",
              "Tentativas de hurto                                                                             188\n",
              "Delitos contra el orden público                                                                 181\n",
              "Robos agravados por el resultado de lesiones y/o muertes                                        145\n",
              "Tentativas de robo agravado por el resultado de lesiones y/o muertes                            129\n",
              "Tenencia simple de estupefacientes                                                              120\n",
              "Otros delitos previstos en la ley 23.737                                                        119\n",
              "Comercialización y entrega de estupefacientes                                                   118\n",
              "Otros delitos contra la seguridad pública                                                       118\n",
              "Tenencia simple atenuada para uso personal de estupefacientes                                   117\n",
              "Tenencia ilegal de armas de fuego                                                               114\n",
              "Contrabando Simple                                                                              109\n",
              "Ley de fauna                                                                                    107\n",
              "Siembra y producción de estupefacientes                                                         106\n",
              "Delitos contra el orden económico y financiero                                                  104\n",
              "Delitos contra los poderes públicos y el orden constitucional                                   103\n",
              "Portación ilegal de armas de fuego                                                              103\n",
              "Delitos contra el estado civil                                                                  101\n",
              "Contravenciones                                                                                 100\n",
              "Contrabando de estupefacientes                                                                   90\n",
              "Delitos migratorios                                                                              90\n",
              "Delitos contra la seguridad de la nación                                                         87\n",
              "Tenencia o entrega atenuada de estupefacientes                                                   81\n",
              "Obstrucción del código aduanero                                                                  80\n",
              "Fabricación adquisición transferencia y tenencia de explosivos y otros materiales peligrosos     79\n",
              "Contrabando Agravado                                                                             76\n",
              "Suicidios (consumados)                                                                           72\n",
              "Ley 23.737 (estupefacientes)                                                                     72\n",
              "Otros delitos contra la libertad                                                                 72\n",
              "Delitos contra la seguridad pública                                                              70\n",
              "Ley de residuos peligrosos                                                                       58\n",
              "Acopio y fabricación ilegal de armas piezas y municiones                                         57\n",
              "Omisión adulteración y supresión de marcaje                                                      49\n",
              "Organización y financiación de estupefacientes                                                   46\n",
              "Confabulación de estupefacientes                                                                 45\n",
              "Desvío de Importación de estupefacientes                                                         27\n",
              "Contrabando de elementos nucleares agresivos químicos armas y municiones                         22\n",
              "Entrega y comercialización ilegal de armas de fuego                                              16\n",
              "Name: codigo_delito_snic_nombre, dtype: int64"
            ]
          },
          "metadata": {},
          "execution_count": 110
        }
      ],
      "source": [
        "# ¿Que delitos no tienen victimas? - Generamos un filtro que nos permite seleccionar solamente los hechos que NO TIENE VICTIMAS\n",
        "\n",
        "mask = np.logical_and(df['cantidad_hechos'] != 0,np.logical_or(df['cantidad_victimas'].isnull(), df['cantidad_victimas'] == 0))\n",
        "vict=df[mask]\n",
        "vict['codigo_delito_snic_nombre'].value_counts()"
      ]
    },
    {
      "cell_type": "markdown",
      "metadata": {
        "id": "fJe2a3fY0xcr"
      },
      "source": [
        "**¿Todas las provincias tienen la misma cantidad de datos?**"
      ]
    },
    {
      "cell_type": "code",
      "execution_count": null,
      "metadata": {
        "colab": {
          "base_uri": "https://localhost:8080/"
        },
        "id": "jPnP0LO-i0FU",
        "outputId": "13c8b020-6525-401e-cc62-5bc6da72977c"
      },
      "outputs": [
        {
          "output_type": "execute_result",
          "data": {
            "text/plain": [
              "Ciudad Autónoma de Buenos Aires                          370\n",
              "Buenos Aires                                             370\n",
              "Tucumán                                                  370\n",
              "Santiago del Estero                                      370\n",
              "Santa Fe                                                 370\n",
              "Santa Cruz                                               370\n",
              "San Luis                                                 370\n",
              "San Juan                                                 370\n",
              "Salta                                                    370\n",
              "Río Negro                                                370\n",
              "Neuquén                                                  370\n",
              "Misiones                                                 370\n",
              "Mendoza                                                  370\n",
              "La Rioja                                                 370\n",
              "La Pampa                                                 370\n",
              "Jujuy                                                    370\n",
              "Formosa                                                  370\n",
              "Entre Ríos                                               370\n",
              "Chubut                                                   370\n",
              "Chaco                                                    370\n",
              "Corrientes                                               370\n",
              "Córdoba                                                  370\n",
              "Catamarca                                                370\n",
              "Tierra del Fuego, Antártida e Islas del Atlántico Sur    370\n",
              "Name: Provincia, dtype: int64"
            ]
          },
          "metadata": {},
          "execution_count": 111
        }
      ],
      "source": [
        "# ¿Todas las provincias tienen la misma cantidad de datos?\n",
        "\n",
        "df['Provincia'].value_counts()"
      ]
    },
    {
      "cell_type": "markdown",
      "metadata": {
        "id": "L_1TNlpi0krc"
      },
      "source": [
        "**¿Qué año hubo más crímenes?**"
      ]
    },
    {
      "cell_type": "code",
      "execution_count": null,
      "metadata": {
        "colab": {
          "base_uri": "https://localhost:8080/",
          "height": 544
        },
        "id": "pgjm8R2JluwA",
        "outputId": "99162f5d-47fa-4bbd-c5df-8238676f9b10"
      },
      "outputs": [
        {
          "output_type": "display_data",
          "data": {
            "text/plain": [
              "<Figure size 1080x648 with 1 Axes>"
            ],
            "image/png": "[encoded data removed]"
          },
          "metadata": {
            "needs_background": "light"
          }
        }
      ],
      "source": [
        "# ¿Que año hubo mas crimenes?\"\n",
        "\n",
        "plt.figure(figsize=(15,9))\n",
        "ax = plt.bar(df['anio'], df['cantidad_hechos'],color= \"red\")\n",
        "plt.xlabel(\"Años\", fontsize = 20)\n",
        "plt.ylabel(\"Crimenes\", fontsize = 20)\n",
        "plt.xticks(fontsize = 20)\n",
        "plt.yticks(fontsize = 20)\n",
        "plt.show()"
      ]
    },
    {
      "cell_type": "code",
      "execution_count": null,
      "metadata": {
        "id": "isHGbriA2QbD"
      },
      "outputs": [],
      "source": [
        "# Creamos un DataFrame ordenado por cantidad de hechos\n",
        "\n",
        "data_ordenada = df.sort_values(by = 'cantidad_hechos',ascending = False)\n"
      ]
    },
    {
      "cell_type": "code",
      "execution_count": null,
      "metadata": {
        "colab": {
          "base_uri": "https://localhost:8080/",
          "height": 646
        },
        "id": "YJUOj-YJwgyP",
        "outputId": "52ea3330-0487-42cd-8a29-da0fff9a65e0"
      },
      "outputs": [
        {
          "output_type": "display_data",
          "data": {
            "text/plain": [
              "<Figure size 1800x648 with 1 Axes>"
            ],
            "image/png": "[encoded data removed]"
          },
          "metadata": {
            "needs_background": "light"
          }
        }
      ],
      "source": [
        "# ¿En que provincia hubo mas crimenes?\n",
        "\n",
        "plt.figure(figsize=(25,9))\n",
        "ax = plt.bar(data_ordenada['Provincia'],data_ordenada['cantidad_hechos'],color= \"red\")\n",
        "plt.xlabel(\"Provincia\",fontsize = 20)\n",
        "plt.ylabel(\"Crimenes\", fontsize = 20)\n",
        "plt.xticks(fontsize = 20,rotation=90)\n",
        "plt.yticks(fontsize = 20)\n",
        "plt.show()"
      ]
    },
    {
      "cell_type": "markdown",
      "metadata": {
        "id": "RburC2vnHmdV"
      },
      "source": [
        "# 6️⃣ Combinamos los DataFrame"
      ]
    },
    {
      "cell_type": "code",
      "execution_count": null,
      "metadata": {
        "colab": {
          "base_uri": "https://localhost:8080/",
          "height": 357
        },
        "id": "6wPw2N493y6t",
        "outputId": "2cfd7ce5-82ca-44bd-dfbb-8ef23ab864b5"
      },
      "outputs": [
        {
          "output_type": "execute_result",
          "data": {
            "text/plain": [
              "         Provincia  cantidad_hechos\n",
              "4920  Buenos Aires           143840\n",
              "6264  Buenos Aires           105756\n",
              "7608  Buenos Aires           104520\n",
              "4924  Buenos Aires            98805\n",
              "3576  Buenos Aires            93590"
            ],
            "text/html": [
              "\n",
              "  <div id=\"df-e16532c3-2973-4a47-a949-b7ede72036c4\">\n",
              "    <div class=\"colab-df-container\">\n",
              "      <div>\n",
              "<style scoped>\n",
              "    .dataframe tbody tr th:only-of-type {\n",
              "        vertical-align: middle;\n",
              "    }\n",
              "\n",
              "    .dataframe tbody tr th {\n",
              "        vertical-align: top;\n",
              "    }\n",
              "\n",
              "    .dataframe thead th {\n",
              "        text-align: right;\n",
              "    }\n",
              "</style>\n",
              "<table border=\"1\" class=\"dataframe\">\n",
              "  <thead>\n",
              "    <tr style=\"text-align: right;\">\n",
              "      <th></th>\n",
              "      <th>Provincia</th>\n",
              "      <th>cantidad_hechos</th>\n",
              "    </tr>\n",
              "  </thead>\n",
              "  <tbody>\n",
              "    <tr>\n",
              "      <th>4920</th>\n",
              "      <td>Buenos Aires</td>\n",
              "      <td>143840</td>\n",
              "    </tr>\n",
              "    <tr>\n",
              "      <th>6264</th>\n",
              "      <td>Buenos Aires</td>\n",
              "      <td>105756</td>\n",
              "    </tr>\n",
              "    <tr>\n",
              "      <th>7608</th>\n",
              "      <td>Buenos Aires</td>\n",
              "      <td>104520</td>\n",
              "    </tr>\n",
              "    <tr>\n",
              "      <th>4924</th>\n",
              "      <td>Buenos Aires</td>\n",
              "      <td>98805</td>\n",
              "    </tr>\n",
              "    <tr>\n",
              "      <th>3576</th>\n",
              "      <td>Buenos Aires</td>\n",
              "      <td>93590</td>\n",
              "    </tr>\n",
              "  </tbody>\n",
              "</table>\n",
              "</div>\n",
              "      <button class=\"colab-df-convert\" onclick=\"convertToInteractive('df-e16532c3-2973-4a47-a949-b7ede72036c4')\"\n",
              "              title=\"Convert this dataframe to an interactive table.\"\n",
              "              style=\"display:none;\">\n",
              "        \n",
              "  <svg xmlns=\"http://www.w3.org/2000/svg\" height=\"24px\"viewBox=\"0 0 24 24\"\n",
              "       width=\"24px\">\n",
              "    <path d=\"M0 0h24v24H0V0z\" fill=\"none\"/>\n",
              "    <path d=\"M18.56 5.44l.94 2.06.94-2.06 2.06-.94-2.06-.94-.94-2.06-.94 2.06-2.06.94zm-11 1L8.5 8.5l.94-2.06 2.06-.94-2.06-.94L8.5 2.5l-.94 2.06-2.06.94zm10 10l.94 2.06.94-2.06 2.06-.94-2.06-.94-.94-2.06-.94 2.06-2.06.94z\"/><path d=\"M17.41 7.96l-1.37-1.37c-.4-.4-.92-.59-1.43-.59-.52 0-1.04.2-1.43.59L10.3 9.45l-7.72 7.72c-.78.78-.78 2.05 0 2.83L4 21.41c.39.39.9.59 1.41.59.51 0 1.02-.2 1.41-.59l7.78-7.78 2.81-2.81c.8-.78.8-2.07 0-2.86zM5.41 20L4 18.59l7.72-7.72 1.47 1.35L5.41 20z\"/>\n",
              "  </svg>\n",
              "      </button>\n",
              "      \n",
              "  <style>\n",
              "    .colab-df-container {\n",
              "      display:flex;\n",
              "      flex-wrap:wrap;\n",
              "      gap: 12px;\n",
              "    }\n",
              "\n",
              "    .colab-df-convert {\n",
              "      background-color: #E8F0FE;\n",
              "      border: none;\n",
              "      border-radius: 50%;\n",
              "      cursor: pointer;\n",
              "      display: none;\n",
              "      fill: #1967D2;\n",
              "      height: 32px;\n",
              "      padding: 0 0 0 0;\n",
              "      width: 32px;\n",
              "    }\n",
              "\n",
              "    .colab-df-convert:hover {\n",
              "      background-color: #E2EBFA;\n",
              "      box-shadow: 0px 1px 2px rgba(60, 64, 67, 0.3), 0px 1px 3px 1px rgba(60, 64, 67, 0.15);\n",
              "      fill: #174EA6;\n",
              "    }\n",
              "\n",
              "    [theme=dark] .colab-df-convert {\n",
              "      background-color: #3B4455;\n",
              "      fill: #D2E3FC;\n",
              "    }\n",
              "\n",
              "    [theme=dark] .colab-df-convert:hover {\n",
              "      background-color: #434B5C;\n",
              "      box-shadow: 0px 1px 3px 1px rgba(0, 0, 0, 0.15);\n",
              "      filter: drop-shadow(0px 1px 2px rgba(0, 0, 0, 0.3));\n",
              "      fill: #FFFFFF;\n",
              "    }\n",
              "  </style>\n",
              "\n",
              "      <script>\n",
              "        const buttonEl =\n",
              "          document.querySelector('#df-e16532c3-2973-4a47-a949-b7ede72036c4 button.colab-df-convert');\n",
              "        buttonEl.style.display =\n",
              "          google.colab.kernel.accessAllowed ? 'block' : 'none';\n",
              "\n",
              "        async function convertToInteractive(key) {\n",
              "          const element = document.querySelector('#df-e16532c3-2973-4a47-a949-b7ede72036c4');\n",
              "          const dataTable =\n",
              "            await google.colab.kernel.invokeFunction('convertToInteractive',\n",
              "                                                     [key], {});\n",
              "          if (!dataTable) return;\n",
              "\n",
              "          const docLinkHtml = 'Like what you see? Visit the ' +\n",
              "            '<a target=\"_blank\" href=https://colab.research.google.com/notebooks/data_table.ipynb>data table notebook</a>'\n",
              "            + ' to learn more about interactive tables.';\n",
              "          element.innerHTML = '';\n",
              "          dataTable['output_type'] = 'display_data';\n",
              "          await google.colab.output.renderOutput(dataTable, element);\n",
              "          const docLink = document.createElement('div');\n",
              "          docLink.innerHTML = docLinkHtml;\n",
              "          element.appendChild(docLink);\n",
              "        }\n",
              "      </script>\n",
              "    </div>\n",
              "  </div>\n",
              "  "
            ]
          },
          "metadata": {},
          "execution_count": 115
        }
      ],
      "source": [
        "data_ordenada[['Provincia', 'cantidad_hechos']].head()"
      ]
    },
    {
      "cell_type": "code",
      "execution_count": null,
      "metadata": {
        "colab": {
          "base_uri": "https://localhost:8080/",
          "height": 357
        },
        "id": "fYAxPDhM3y6u",
        "outputId": "feb3669a-00ff-4db1-cb02-3f9686308151"
      },
      "outputs": [
        {
          "output_type": "execute_result",
          "data": {
            "text/plain": [
              "         Provincia  cantidad_hechos\n",
              "4920  Buenos Aires           143840\n",
              "6264  Buenos Aires           105756\n",
              "7608  Buenos Aires           104520\n",
              "4924  Buenos Aires            98805\n",
              "3576  Buenos Aires            93590"
            ],
            "text/html": [
              "\n",
              "  <div id=\"df-6c00116f-a043-4d02-a99f-a44451897eb7\">\n",
              "    <div class=\"colab-df-container\">\n",
              "      <div>\n",
              "<style scoped>\n",
              "    .dataframe tbody tr th:only-of-type {\n",
              "        vertical-align: middle;\n",
              "    }\n",
              "\n",
              "    .dataframe tbody tr th {\n",
              "        vertical-align: top;\n",
              "    }\n",
              "\n",
              "    .dataframe thead th {\n",
              "        text-align: right;\n",
              "    }\n",
              "</style>\n",
              "<table border=\"1\" class=\"dataframe\">\n",
              "  <thead>\n",
              "    <tr style=\"text-align: right;\">\n",
              "      <th></th>\n",
              "      <th>Provincia</th>\n",
              "      <th>cantidad_hechos</th>\n",
              "    </tr>\n",
              "  </thead>\n",
              "  <tbody>\n",
              "    <tr>\n",
              "      <th>4920</th>\n",
              "      <td>Buenos Aires</td>\n",
              "      <td>143840</td>\n",
              "    </tr>\n",
              "    <tr>\n",
              "      <th>6264</th>\n",
              "      <td>Buenos Aires</td>\n",
              "      <td>105756</td>\n",
              "    </tr>\n",
              "    <tr>\n",
              "      <th>7608</th>\n",
              "      <td>Buenos Aires</td>\n",
              "      <td>104520</td>\n",
              "    </tr>\n",
              "    <tr>\n",
              "      <th>4924</th>\n",
              "      <td>Buenos Aires</td>\n",
              "      <td>98805</td>\n",
              "    </tr>\n",
              "    <tr>\n",
              "      <th>3576</th>\n",
              "      <td>Buenos Aires</td>\n",
              "      <td>93590</td>\n",
              "    </tr>\n",
              "  </tbody>\n",
              "</table>\n",
              "</div>\n",
              "      <button class=\"colab-df-convert\" onclick=\"convertToInteractive('df-6c00116f-a043-4d02-a99f-a44451897eb7')\"\n",
              "              title=\"Convert this dataframe to an interactive table.\"\n",
              "              style=\"display:none;\">\n",
              "        \n",
              "  <svg xmlns=\"http://www.w3.org/2000/svg\" height=\"24px\"viewBox=\"0 0 24 24\"\n",
              "       width=\"24px\">\n",
              "    <path d=\"M0 0h24v24H0V0z\" fill=\"none\"/>\n",
              "    <path d=\"M18.56 5.44l.94 2.06.94-2.06 2.06-.94-2.06-.94-.94-2.06-.94 2.06-2.06.94zm-11 1L8.5 8.5l.94-2.06 2.06-.94-2.06-.94L8.5 2.5l-.94 2.06-2.06.94zm10 10l.94 2.06.94-2.06 2.06-.94-2.06-.94-.94-2.06-.94 2.06-2.06.94z\"/><path d=\"M17.41 7.96l-1.37-1.37c-.4-.4-.92-.59-1.43-.59-.52 0-1.04.2-1.43.59L10.3 9.45l-7.72 7.72c-.78.78-.78 2.05 0 2.83L4 21.41c.39.39.9.59 1.41.59.51 0 1.02-.2 1.41-.59l7.78-7.78 2.81-2.81c.8-.78.8-2.07 0-2.86zM5.41 20L4 18.59l7.72-7.72 1.47 1.35L5.41 20z\"/>\n",
              "  </svg>\n",
              "      </button>\n",
              "      \n",
              "  <style>\n",
              "    .colab-df-container {\n",
              "      display:flex;\n",
              "      flex-wrap:wrap;\n",
              "      gap: 12px;\n",
              "    }\n",
              "\n",
              "    .colab-df-convert {\n",
              "      background-color: #E8F0FE;\n",
              "      border: none;\n",
              "      border-radius: 50%;\n",
              "      cursor: pointer;\n",
              "      display: none;\n",
              "      fill: #1967D2;\n",
              "      height: 32px;\n",
              "      padding: 0 0 0 0;\n",
              "      width: 32px;\n",
              "    }\n",
              "\n",
              "    .colab-df-convert:hover {\n",
              "      background-color: #E2EBFA;\n",
              "      box-shadow: 0px 1px 2px rgba(60, 64, 67, 0.3), 0px 1px 3px 1px rgba(60, 64, 67, 0.15);\n",
              "      fill: #174EA6;\n",
              "    }\n",
              "\n",
              "    [theme=dark] .colab-df-convert {\n",
              "      background-color: #3B4455;\n",
              "      fill: #D2E3FC;\n",
              "    }\n",
              "\n",
              "    [theme=dark] .colab-df-convert:hover {\n",
              "      background-color: #434B5C;\n",
              "      box-shadow: 0px 1px 3px 1px rgba(0, 0, 0, 0.15);\n",
              "      filter: drop-shadow(0px 1px 2px rgba(0, 0, 0, 0.3));\n",
              "      fill: #FFFFFF;\n",
              "    }\n",
              "  </style>\n",
              "\n",
              "      <script>\n",
              "        const buttonEl =\n",
              "          document.querySelector('#df-6c00116f-a043-4d02-a99f-a44451897eb7 button.colab-df-convert');\n",
              "        buttonEl.style.display =\n",
              "          google.colab.kernel.accessAllowed ? 'block' : 'none';\n",
              "\n",
              "        async function convertToInteractive(key) {\n",
              "          const element = document.querySelector('#df-6c00116f-a043-4d02-a99f-a44451897eb7');\n",
              "          const dataTable =\n",
              "            await google.colab.kernel.invokeFunction('convertToInteractive',\n",
              "                                                     [key], {});\n",
              "          if (!dataTable) return;\n",
              "\n",
              "          const docLinkHtml = 'Like what you see? Visit the ' +\n",
              "            '<a target=\"_blank\" href=https://colab.research.google.com/notebooks/data_table.ipynb>data table notebook</a>'\n",
              "            + ' to learn more about interactive tables.';\n",
              "          element.innerHTML = '';\n",
              "          dataTable['output_type'] = 'display_data';\n",
              "          await google.colab.output.renderOutput(dataTable, element);\n",
              "          const docLink = document.createElement('div');\n",
              "          docLink.innerHTML = docLinkHtml;\n",
              "          element.appendChild(docLink);\n",
              "        }\n",
              "      </script>\n",
              "    </div>\n",
              "  </div>\n",
              "  "
            ]
          },
          "metadata": {},
          "execution_count": 116
        }
      ],
      "source": [
        "# Nos quedamos solamente con la provincia y la cantidad de hechos en cada año\n",
        "\n",
        "hechos_por_prov= pd.DataFrame(data_ordenada[['Provincia', 'cantidad_hechos']])\n",
        "hechos_por_prov.head()\n"
      ]
    },
    {
      "cell_type": "code",
      "execution_count": null,
      "metadata": {
        "colab": {
          "base_uri": "https://localhost:8080/",
          "height": 371
        },
        "id": "3HazluAa3y6u",
        "outputId": "8f6ee3b3-1463-4f87-c32e-0595150574a7"
      },
      "outputs": [
        {
          "output_type": "execute_result",
          "data": {
            "text/plain": [
              "                                 cantidad_hechos\n",
              "Provincia                                       \n",
              "Buenos Aires                             3554801\n",
              "Catamarca                                 204378\n",
              "Chaco                                     241477\n",
              "Chubut                                    177390\n",
              "Ciudad Autónoma de Buenos Aires          1488644"
            ],
            "text/html": [
              "\n",
              "  <div id=\"df-895df0ff-e4f6-4c52-a05d-c648d04e5863\">\n",
              "    <div class=\"colab-df-container\">\n",
              "      <div>\n",
              "<style scoped>\n",
              "    .dataframe tbody tr th:only-of-type {\n",
              "        vertical-align: middle;\n",
              "    }\n",
              "\n",
              "    .dataframe tbody tr th {\n",
              "        vertical-align: top;\n",
              "    }\n",
              "\n",
              "    .dataframe thead th {\n",
              "        text-align: right;\n",
              "    }\n",
              "</style>\n",
              "<table border=\"1\" class=\"dataframe\">\n",
              "  <thead>\n",
              "    <tr style=\"text-align: right;\">\n",
              "      <th></th>\n",
              "      <th>cantidad_hechos</th>\n",
              "    </tr>\n",
              "    <tr>\n",
              "      <th>Provincia</th>\n",
              "      <th></th>\n",
              "    </tr>\n",
              "  </thead>\n",
              "  <tbody>\n",
              "    <tr>\n",
              "      <th>Buenos Aires</th>\n",
              "      <td>3554801</td>\n",
              "    </tr>\n",
              "    <tr>\n",
              "      <th>Catamarca</th>\n",
              "      <td>204378</td>\n",
              "    </tr>\n",
              "    <tr>\n",
              "      <th>Chaco</th>\n",
              "      <td>241477</td>\n",
              "    </tr>\n",
              "    <tr>\n",
              "      <th>Chubut</th>\n",
              "      <td>177390</td>\n",
              "    </tr>\n",
              "    <tr>\n",
              "      <th>Ciudad Autónoma de Buenos Aires</th>\n",
              "      <td>1488644</td>\n",
              "    </tr>\n",
              "  </tbody>\n",
              "</table>\n",
              "</div>\n",
              "      <button class=\"colab-df-convert\" onclick=\"convertToInteractive('df-895df0ff-e4f6-4c52-a05d-c648d04e5863')\"\n",
              "              title=\"Convert this dataframe to an interactive table.\"\n",
              "              style=\"display:none;\">\n",
              "        \n",
              "  <svg xmlns=\"http://www.w3.org/2000/svg\" height=\"24px\"viewBox=\"0 0 24 24\"\n",
              "       width=\"24px\">\n",
              "    <path d=\"M0 0h24v24H0V0z\" fill=\"none\"/>\n",
              "    <path d=\"M18.56 5.44l.94 2.06.94-2.06 2.06-.94-2.06-.94-.94-2.06-.94 2.06-2.06.94zm-11 1L8.5 8.5l.94-2.06 2.06-.94-2.06-.94L8.5 2.5l-.94 2.06-2.06.94zm10 10l.94 2.06.94-2.06 2.06-.94-2.06-.94-.94-2.06-.94 2.06-2.06.94z\"/><path d=\"M17.41 7.96l-1.37-1.37c-.4-.4-.92-.59-1.43-.59-.52 0-1.04.2-1.43.59L10.3 9.45l-7.72 7.72c-.78.78-.78 2.05 0 2.83L4 21.41c.39.39.9.59 1.41.59.51 0 1.02-.2 1.41-.59l7.78-7.78 2.81-2.81c.8-.78.8-2.07 0-2.86zM5.41 20L4 18.59l7.72-7.72 1.47 1.35L5.41 20z\"/>\n",
              "  </svg>\n",
              "      </button>\n",
              "      \n",
              "  <style>\n",
              "    .colab-df-container {\n",
              "      display:flex;\n",
              "      flex-wrap:wrap;\n",
              "      gap: 12px;\n",
              "    }\n",
              "\n",
              "    .colab-df-convert {\n",
              "      background-color: #E8F0FE;\n",
              "      border: none;\n",
              "      border-radius: 50%;\n",
              "      cursor: pointer;\n",
              "      display: none;\n",
              "      fill: #1967D2;\n",
              "      height: 32px;\n",
              "      padding: 0 0 0 0;\n",
              "      width: 32px;\n",
              "    }\n",
              "\n",
              "    .colab-df-convert:hover {\n",
              "      background-color: #E2EBFA;\n",
              "      box-shadow: 0px 1px 2px rgba(60, 64, 67, 0.3), 0px 1px 3px 1px rgba(60, 64, 67, 0.15);\n",
              "      fill: #174EA6;\n",
              "    }\n",
              "\n",
              "    [theme=dark] .colab-df-convert {\n",
              "      background-color: #3B4455;\n",
              "      fill: #D2E3FC;\n",
              "    }\n",
              "\n",
              "    [theme=dark] .colab-df-convert:hover {\n",
              "      background-color: #434B5C;\n",
              "      box-shadow: 0px 1px 3px 1px rgba(0, 0, 0, 0.15);\n",
              "      filter: drop-shadow(0px 1px 2px rgba(0, 0, 0, 0.3));\n",
              "      fill: #FFFFFF;\n",
              "    }\n",
              "  </style>\n",
              "\n",
              "      <script>\n",
              "        const buttonEl =\n",
              "          document.querySelector('#df-895df0ff-e4f6-4c52-a05d-c648d04e5863 button.colab-df-convert');\n",
              "        buttonEl.style.display =\n",
              "          google.colab.kernel.accessAllowed ? 'block' : 'none';\n",
              "\n",
              "        async function convertToInteractive(key) {\n",
              "          const element = document.querySelector('#df-895df0ff-e4f6-4c52-a05d-c648d04e5863');\n",
              "          const dataTable =\n",
              "            await google.colab.kernel.invokeFunction('convertToInteractive',\n",
              "                                                     [key], {});\n",
              "          if (!dataTable) return;\n",
              "\n",
              "          const docLinkHtml = 'Like what you see? Visit the ' +\n",
              "            '<a target=\"_blank\" href=https://colab.research.google.com/notebooks/data_table.ipynb>data table notebook</a>'\n",
              "            + ' to learn more about interactive tables.';\n",
              "          element.innerHTML = '';\n",
              "          dataTable['output_type'] = 'display_data';\n",
              "          await google.colab.output.renderOutput(dataTable, element);\n",
              "          const docLink = document.createElement('div');\n",
              "          docLink.innerHTML = docLinkHtml;\n",
              "          element.appendChild(docLink);\n",
              "        }\n",
              "      </script>\n",
              "    </div>\n",
              "  </div>\n",
              "  "
            ]
          },
          "metadata": {},
          "execution_count": 117
        }
      ],
      "source": [
        "# Agrupamos las distintas cantidades de hechos por año en relación a cada pronvicia\n",
        "\n",
        "df_group= hechos_por_prov.groupby('Provincia').sum()\n",
        "df_group.head()"
      ]
    },
    {
      "cell_type": "code",
      "execution_count": null,
      "metadata": {
        "colab": {
          "base_uri": "https://localhost:8080/",
          "height": 357
        },
        "id": "fqFjMAH33y6u",
        "outputId": "f5170c21-cd33-45a8-c04a-b9eac7f2e286"
      },
      "outputs": [
        {
          "output_type": "execute_result",
          "data": {
            "text/plain": [
              "                         Provincia Estimada 2020\n",
              "0                     Buenos Aires    17.541.141\n",
              "1                        Catamarca       415.438\n",
              "2                            Chaco     1.204.541\n",
              "3                           Chubut       618.994\n",
              "4  Ciudad Autónoma de Buenos Aires     3.075.646"
            ],
            "text/html": [
              "\n",
              "  <div id=\"df-c0eeedaf-60ea-4c10-a232-ddadcdbe9616\">\n",
              "    <div class=\"colab-df-container\">\n",
              "      <div>\n",
              "<style scoped>\n",
              "    .dataframe tbody tr th:only-of-type {\n",
              "        vertical-align: middle;\n",
              "    }\n",
              "\n",
              "    .dataframe tbody tr th {\n",
              "        vertical-align: top;\n",
              "    }\n",
              "\n",
              "    .dataframe thead th {\n",
              "        text-align: right;\n",
              "    }\n",
              "</style>\n",
              "<table border=\"1\" class=\"dataframe\">\n",
              "  <thead>\n",
              "    <tr style=\"text-align: right;\">\n",
              "      <th></th>\n",
              "      <th>Provincia</th>\n",
              "      <th>Estimada 2020</th>\n",
              "    </tr>\n",
              "  </thead>\n",
              "  <tbody>\n",
              "    <tr>\n",
              "      <th>0</th>\n",
              "      <td>Buenos Aires</td>\n",
              "      <td>17.541.141</td>\n",
              "    </tr>\n",
              "    <tr>\n",
              "      <th>1</th>\n",
              "      <td>Catamarca</td>\n",
              "      <td>415.438</td>\n",
              "    </tr>\n",
              "    <tr>\n",
              "      <th>2</th>\n",
              "      <td>Chaco</td>\n",
              "      <td>1.204.541</td>\n",
              "    </tr>\n",
              "    <tr>\n",
              "      <th>3</th>\n",
              "      <td>Chubut</td>\n",
              "      <td>618.994</td>\n",
              "    </tr>\n",
              "    <tr>\n",
              "      <th>4</th>\n",
              "      <td>Ciudad Autónoma de Buenos Aires</td>\n",
              "      <td>3.075.646</td>\n",
              "    </tr>\n",
              "  </tbody>\n",
              "</table>\n",
              "</div>\n",
              "      <button class=\"colab-df-convert\" onclick=\"convertToInteractive('df-c0eeedaf-60ea-4c10-a232-ddadcdbe9616')\"\n",
              "              title=\"Convert this dataframe to an interactive table.\"\n",
              "              style=\"display:none;\">\n",
              "        \n",
              "  <svg xmlns=\"http://www.w3.org/2000/svg\" height=\"24px\"viewBox=\"0 0 24 24\"\n",
              "       width=\"24px\">\n",
              "    <path d=\"M0 0h24v24H0V0z\" fill=\"none\"/>\n",
              "    <path d=\"M18.56 5.44l.94 2.06.94-2.06 2.06-.94-2.06-.94-.94-2.06-.94 2.06-2.06.94zm-11 1L8.5 8.5l.94-2.06 2.06-.94-2.06-.94L8.5 2.5l-.94 2.06-2.06.94zm10 10l.94 2.06.94-2.06 2.06-.94-2.06-.94-.94-2.06-.94 2.06-2.06.94z\"/><path d=\"M17.41 7.96l-1.37-1.37c-.4-.4-.92-.59-1.43-.59-.52 0-1.04.2-1.43.59L10.3 9.45l-7.72 7.72c-.78.78-.78 2.05 0 2.83L4 21.41c.39.39.9.59 1.41.59.51 0 1.02-.2 1.41-.59l7.78-7.78 2.81-2.81c.8-.78.8-2.07 0-2.86zM5.41 20L4 18.59l7.72-7.72 1.47 1.35L5.41 20z\"/>\n",
              "  </svg>\n",
              "      </button>\n",
              "      \n",
              "  <style>\n",
              "    .colab-df-container {\n",
              "      display:flex;\n",
              "      flex-wrap:wrap;\n",
              "      gap: 12px;\n",
              "    }\n",
              "\n",
              "    .colab-df-convert {\n",
              "      background-color: #E8F0FE;\n",
              "      border: none;\n",
              "      border-radius: 50%;\n",
              "      cursor: pointer;\n",
              "      display: none;\n",
              "      fill: #1967D2;\n",
              "      height: 32px;\n",
              "      padding: 0 0 0 0;\n",
              "      width: 32px;\n",
              "    }\n",
              "\n",
              "    .colab-df-convert:hover {\n",
              "      background-color: #E2EBFA;\n",
              "      box-shadow: 0px 1px 2px rgba(60, 64, 67, 0.3), 0px 1px 3px 1px rgba(60, 64, 67, 0.15);\n",
              "      fill: #174EA6;\n",
              "    }\n",
              "\n",
              "    [theme=dark] .colab-df-convert {\n",
              "      background-color: #3B4455;\n",
              "      fill: #D2E3FC;\n",
              "    }\n",
              "\n",
              "    [theme=dark] .colab-df-convert:hover {\n",
              "      background-color: #434B5C;\n",
              "      box-shadow: 0px 1px 3px 1px rgba(0, 0, 0, 0.15);\n",
              "      filter: drop-shadow(0px 1px 2px rgba(0, 0, 0, 0.3));\n",
              "      fill: #FFFFFF;\n",
              "    }\n",
              "  </style>\n",
              "\n",
              "      <script>\n",
              "        const buttonEl =\n",
              "          document.querySelector('#df-c0eeedaf-60ea-4c10-a232-ddadcdbe9616 button.colab-df-convert');\n",
              "        buttonEl.style.display =\n",
              "          google.colab.kernel.accessAllowed ? 'block' : 'none';\n",
              "\n",
              "        async function convertToInteractive(key) {\n",
              "          const element = document.querySelector('#df-c0eeedaf-60ea-4c10-a232-ddadcdbe9616');\n",
              "          const dataTable =\n",
              "            await google.colab.kernel.invokeFunction('convertToInteractive',\n",
              "                                                     [key], {});\n",
              "          if (!dataTable) return;\n",
              "\n",
              "          const docLinkHtml = 'Like what you see? Visit the ' +\n",
              "            '<a target=\"_blank\" href=https://colab.research.google.com/notebooks/data_table.ipynb>data table notebook</a>'\n",
              "            + ' to learn more about interactive tables.';\n",
              "          element.innerHTML = '';\n",
              "          dataTable['output_type'] = 'display_data';\n",
              "          await google.colab.output.renderOutput(dataTable, element);\n",
              "          const docLink = document.createElement('div');\n",
              "          docLink.innerHTML = docLinkHtml;\n",
              "          element.appendChild(docLink);\n",
              "        }\n",
              "      </script>\n",
              "    </div>\n",
              "  </div>\n",
              "  "
            ]
          },
          "metadata": {},
          "execution_count": 118
        }
      ],
      "source": [
        "poblacion.head()"
      ]
    },
    {
      "cell_type": "code",
      "execution_count": null,
      "metadata": {
        "colab": {
          "base_uri": "https://localhost:8080/"
        },
        "id": "mFfjGJQM3y6u",
        "outputId": "040c78bc-f487-49cf-abe6-548b71ac9948"
      },
      "outputs": [
        {
          "output_type": "stream",
          "name": "stdout",
          "text": [
            "<class 'pandas.core.frame.DataFrame'>\n",
            "Int64Index: 24 entries, 0 to 23\n",
            "Data columns (total 3 columns):\n",
            " #   Column           Non-Null Count  Dtype \n",
            "---  ------           --------------  ----- \n",
            " 0   Provincia        24 non-null     object\n",
            " 1   cantidad_hechos  24 non-null     int64 \n",
            " 2   Poblacion        24 non-null     int64 \n",
            "dtypes: int64(2), object(1)\n",
            "memory usage: 768.0+ bytes\n"
          ]
        },
        {
          "output_type": "stream",
          "name": "stderr",
          "text": [
            "<ipython-input-119-8eba9cbaaa52>:6: FutureWarning: The default value of regex will change from True to False in a future version. In addition, single character regular expressions will *not* be treated as literal strings when regex=True.\n",
            "  result['Poblacion']=result['Poblacion'].str.replace('.', '').astype(int)\n"
          ]
        }
      ],
      "source": [
        "# Combinamos los DataFrame\n",
        "\n",
        "result = pd.merge(df_group, poblacion, on='Provincia')\n",
        "result.rename(columns={'Estimada 2020': 'Poblacion'}, inplace=True)\n",
        "\n",
        "result['Poblacion']=result['Poblacion'].str.replace('.', '').astype(int)\n",
        "\n",
        "result.info()\n"
      ]
    },
    {
      "cell_type": "code",
      "execution_count": null,
      "metadata": {
        "colab": {
          "base_uri": "https://localhost:8080/",
          "height": 1000
        },
        "id": "06AG0I143y6u",
        "outputId": "3528e4d8-7502-4cd0-ce85-92609f83f1a4"
      },
      "outputs": [
        {
          "output_type": "execute_result",
          "data": {
            "text/plain": [
              "                                            Provincia  cantidad_hechos  \\\n",
              "0                                        Buenos Aires          3554801   \n",
              "1                                           Catamarca           204378   \n",
              "2                                               Chaco           241477   \n",
              "3                                              Chubut           177390   \n",
              "4                     Ciudad Autónoma de Buenos Aires          1488644   \n",
              "5                                          Corrientes           179430   \n",
              "6                                             Córdoba          1437623   \n",
              "7                                          Entre Ríos           377315   \n",
              "8                                             Formosa           182334   \n",
              "9                                               Jujuy           213122   \n",
              "10                                           La Pampa            81804   \n",
              "11                                           La Rioja            90732   \n",
              "12                                            Mendoza          1028539   \n",
              "13                                           Misiones           294412   \n",
              "14                                            Neuquén           290877   \n",
              "15                                          Río Negro           233278   \n",
              "16                                              Salta           942312   \n",
              "17                                           San Juan           367391   \n",
              "18                                           San Luis           123119   \n",
              "19                                         Santa Cruz           103683   \n",
              "20                                           Santa Fe          1017308   \n",
              "21                                Santiago del Estero           255537   \n",
              "22  Tierra del Fuego, Antártida e Islas del Atlánt...            74310   \n",
              "23                                            Tucumán           455802   \n",
              "\n",
              "    Poblacion  indicador  \n",
              "0    17541141   0.202655  \n",
              "1      415438   0.491958  \n",
              "2     1204541   0.200472  \n",
              "3      618994   0.286578  \n",
              "4     3075646   0.484010  \n",
              "5     1120801   0.160091  \n",
              "6     3760450   0.382301  \n",
              "7     1385961   0.272241  \n",
              "8      605193   0.301282  \n",
              "9      770881   0.276465  \n",
              "10     358428   0.228230  \n",
              "11     393531   0.230559  \n",
              "12    1990338   0.516766  \n",
              "13    1261294   0.233421  \n",
              "14     664057   0.438030  \n",
              "15     747610   0.312032  \n",
              "16    1424397   0.661552  \n",
              "17     781217   0.470280  \n",
              "18     508328   0.242204  \n",
              "19     365698   0.283521  \n",
              "20    3536418   0.287666  \n",
              "21     978313   0.261202  \n",
              "22     173432   0.428468  \n",
              "23    1694656   0.268964  "
            ],
            "text/html": [
              "\n",
              "  <div id=\"df-21b84d9e-ebf1-42bb-b835-79e81c0d28fc\">\n",
              "    <div class=\"colab-df-container\">\n",
              "      <div>\n",
              "<style scoped>\n",
              "    .dataframe tbody tr th:only-of-type {\n",
              "        vertical-align: middle;\n",
              "    }\n",
              "\n",
              "    .dataframe tbody tr th {\n",
              "        vertical-align: top;\n",
              "    }\n",
              "\n",
              "    .dataframe thead th {\n",
              "        text-align: right;\n",
              "    }\n",
              "</style>\n",
              "<table border=\"1\" class=\"dataframe\">\n",
              "  <thead>\n",
              "    <tr style=\"text-align: right;\">\n",
              "      <th></th>\n",
              "      <th>Provincia</th>\n",
              "      <th>cantidad_hechos</th>\n",
              "      <th>Poblacion</th>\n",
              "      <th>indicador</th>\n",
              "    </tr>\n",
              "  </thead>\n",
              "  <tbody>\n",
              "    <tr>\n",
              "      <th>0</th>\n",
              "      <td>Buenos Aires</td>\n",
              "      <td>3554801</td>\n",
              "      <td>17541141</td>\n",
              "      <td>0.202655</td>\n",
              "    </tr>\n",
              "    <tr>\n",
              "      <th>1</th>\n",
              "      <td>Catamarca</td>\n",
              "      <td>204378</td>\n",
              "      <td>415438</td>\n",
              "      <td>0.491958</td>\n",
              "    </tr>\n",
              "    <tr>\n",
              "      <th>2</th>\n",
              "      <td>Chaco</td>\n",
              "      <td>241477</td>\n",
              "      <td>1204541</td>\n",
              "      <td>0.200472</td>\n",
              "    </tr>\n",
              "    <tr>\n",
              "      <th>3</th>\n",
              "      <td>Chubut</td>\n",
              "      <td>177390</td>\n",
              "      <td>618994</td>\n",
              "      <td>0.286578</td>\n",
              "    </tr>\n",
              "    <tr>\n",
              "      <th>4</th>\n",
              "      <td>Ciudad Autónoma de Buenos Aires</td>\n",
              "      <td>1488644</td>\n",
              "      <td>3075646</td>\n",
              "      <td>0.484010</td>\n",
              "    </tr>\n",
              "    <tr>\n",
              "      <th>5</th>\n",
              "      <td>Corrientes</td>\n",
              "      <td>179430</td>\n",
              "      <td>1120801</td>\n",
              "      <td>0.160091</td>\n",
              "    </tr>\n",
              "    <tr>\n",
              "      <th>6</th>\n",
              "      <td>Córdoba</td>\n",
              "      <td>1437623</td>\n",
              "      <td>3760450</td>\n",
              "      <td>0.382301</td>\n",
              "    </tr>\n",
              "    <tr>\n",
              "      <th>7</th>\n",
              "      <td>Entre Ríos</td>\n",
              "      <td>377315</td>\n",
              "      <td>1385961</td>\n",
              "      <td>0.272241</td>\n",
              "    </tr>\n",
              "    <tr>\n",
              "      <th>8</th>\n",
              "      <td>Formosa</td>\n",
              "      <td>182334</td>\n",
              "      <td>605193</td>\n",
              "      <td>0.301282</td>\n",
              "    </tr>\n",
              "    <tr>\n",
              "      <th>9</th>\n",
              "      <td>Jujuy</td>\n",
              "      <td>213122</td>\n",
              "      <td>770881</td>\n",
              "      <td>0.276465</td>\n",
              "    </tr>\n",
              "    <tr>\n",
              "      <th>10</th>\n",
              "      <td>La Pampa</td>\n",
              "      <td>81804</td>\n",
              "      <td>358428</td>\n",
              "      <td>0.228230</td>\n",
              "    </tr>\n",
              "    <tr>\n",
              "      <th>11</th>\n",
              "      <td>La Rioja</td>\n",
              "      <td>90732</td>\n",
              "      <td>393531</td>\n",
              "      <td>0.230559</td>\n",
              "    </tr>\n",
              "    <tr>\n",
              "      <th>12</th>\n",
              "      <td>Mendoza</td>\n",
              "      <td>1028539</td>\n",
              "      <td>1990338</td>\n",
              "      <td>0.516766</td>\n",
              "    </tr>\n",
              "    <tr>\n",
              "      <th>13</th>\n",
              "      <td>Misiones</td>\n",
              "      <td>294412</td>\n",
              "      <td>1261294</td>\n",
              "      <td>0.233421</td>\n",
              "    </tr>\n",
              "    <tr>\n",
              "      <th>14</th>\n",
              "      <td>Neuquén</td>\n",
              "      <td>290877</td>\n",
              "      <td>664057</td>\n",
              "      <td>0.438030</td>\n",
              "    </tr>\n",
              "    <tr>\n",
              "      <th>15</th>\n",
              "      <td>Río Negro</td>\n",
              "      <td>233278</td>\n",
              "      <td>747610</td>\n",
              "      <td>0.312032</td>\n",
              "    </tr>\n",
              "    <tr>\n",
              "      <th>16</th>\n",
              "      <td>Salta</td>\n",
              "      <td>942312</td>\n",
              "      <td>1424397</td>\n",
              "      <td>0.661552</td>\n",
              "    </tr>\n",
              "    <tr>\n",
              "      <th>17</th>\n",
              "      <td>San Juan</td>\n",
              "      <td>367391</td>\n",
              "      <td>781217</td>\n",
              "      <td>0.470280</td>\n",
              "    </tr>\n",
              "    <tr>\n",
              "      <th>18</th>\n",
              "      <td>San Luis</td>\n",
              "      <td>123119</td>\n",
              "      <td>508328</td>\n",
              "      <td>0.242204</td>\n",
              "    </tr>\n",
              "    <tr>\n",
              "      <th>19</th>\n",
              "      <td>Santa Cruz</td>\n",
              "      <td>103683</td>\n",
              "      <td>365698</td>\n",
              "      <td>0.283521</td>\n",
              "    </tr>\n",
              "    <tr>\n",
              "      <th>20</th>\n",
              "      <td>Santa Fe</td>\n",
              "      <td>1017308</td>\n",
              "      <td>3536418</td>\n",
              "      <td>0.287666</td>\n",
              "    </tr>\n",
              "    <tr>\n",
              "      <th>21</th>\n",
              "      <td>Santiago del Estero</td>\n",
              "      <td>255537</td>\n",
              "      <td>978313</td>\n",
              "      <td>0.261202</td>\n",
              "    </tr>\n",
              "    <tr>\n",
              "      <th>22</th>\n",
              "      <td>Tierra del Fuego, Antártida e Islas del Atlánt...</td>\n",
              "      <td>74310</td>\n",
              "      <td>173432</td>\n",
              "      <td>0.428468</td>\n",
              "    </tr>\n",
              "    <tr>\n",
              "      <th>23</th>\n",
              "      <td>Tucumán</td>\n",
              "      <td>455802</td>\n",
              "      <td>1694656</td>\n",
              "      <td>0.268964</td>\n",
              "    </tr>\n",
              "  </tbody>\n",
              "</table>\n",
              "</div>\n",
              "      <button class=\"colab-df-convert\" onclick=\"convertToInteractive('df-21b84d9e-ebf1-42bb-b835-79e81c0d28fc')\"\n",
              "              title=\"Convert this dataframe to an interactive table.\"\n",
              "              style=\"display:none;\">\n",
              "        \n",
              "  <svg xmlns=\"http://www.w3.org/2000/svg\" height=\"24px\"viewBox=\"0 0 24 24\"\n",
              "       width=\"24px\">\n",
              "    <path d=\"M0 0h24v24H0V0z\" fill=\"none\"/>\n",
              "    <path d=\"M18.56 5.44l.94 2.06.94-2.06 2.06-.94-2.06-.94-.94-2.06-.94 2.06-2.06.94zm-11 1L8.5 8.5l.94-2.06 2.06-.94-2.06-.94L8.5 2.5l-.94 2.06-2.06.94zm10 10l.94 2.06.94-2.06 2.06-.94-2.06-.94-.94-2.06-.94 2.06-2.06.94z\"/><path d=\"M17.41 7.96l-1.37-1.37c-.4-.4-.92-.59-1.43-.59-.52 0-1.04.2-1.43.59L10.3 9.45l-7.72 7.72c-.78.78-.78 2.05 0 2.83L4 21.41c.39.39.9.59 1.41.59.51 0 1.02-.2 1.41-.59l7.78-7.78 2.81-2.81c.8-.78.8-2.07 0-2.86zM5.41 20L4 18.59l7.72-7.72 1.47 1.35L5.41 20z\"/>\n",
              "  </svg>\n",
              "      </button>\n",
              "      \n",
              "  <style>\n",
              "    .colab-df-container {\n",
              "      display:flex;\n",
              "      flex-wrap:wrap;\n",
              "      gap: 12px;\n",
              "    }\n",
              "\n",
              "    .colab-df-convert {\n",
              "      background-color: #E8F0FE;\n",
              "      border: none;\n",
              "      border-radius: 50%;\n",
              "      cursor: pointer;\n",
              "      display: none;\n",
              "      fill: #1967D2;\n",
              "      height: 32px;\n",
              "      padding: 0 0 0 0;\n",
              "      width: 32px;\n",
              "    }\n",
              "\n",
              "    .colab-df-convert:hover {\n",
              "      background-color: #E2EBFA;\n",
              "      box-shadow: 0px 1px 2px rgba(60, 64, 67, 0.3), 0px 1px 3px 1px rgba(60, 64, 67, 0.15);\n",
              "      fill: #174EA6;\n",
              "    }\n",
              "\n",
              "    [theme=dark] .colab-df-convert {\n",
              "      background-color: #3B4455;\n",
              "      fill: #D2E3FC;\n",
              "    }\n",
              "\n",
              "    [theme=dark] .colab-df-convert:hover {\n",
              "      background-color: #434B5C;\n",
              "      box-shadow: 0px 1px 3px 1px rgba(0, 0, 0, 0.15);\n",
              "      filter: drop-shadow(0px 1px 2px rgba(0, 0, 0, 0.3));\n",
              "      fill: #FFFFFF;\n",
              "    }\n",
              "  </style>\n",
              "\n",
              "      <script>\n",
              "        const buttonEl =\n",
              "          document.querySelector('#df-21b84d9e-ebf1-42bb-b835-79e81c0d28fc button.colab-df-convert');\n",
              "        buttonEl.style.display =\n",
              "          google.colab.kernel.accessAllowed ? 'block' : 'none';\n",
              "\n",
              "        async function convertToInteractive(key) {\n",
              "          const element = document.querySelector('#df-21b84d9e-ebf1-42bb-b835-79e81c0d28fc');\n",
              "          const dataTable =\n",
              "            await google.colab.kernel.invokeFunction('convertToInteractive',\n",
              "                                                     [key], {});\n",
              "          if (!dataTable) return;\n",
              "\n",
              "          const docLinkHtml = 'Like what you see? Visit the ' +\n",
              "            '<a target=\"_blank\" href=https://colab.research.google.com/notebooks/data_table.ipynb>data table notebook</a>'\n",
              "            + ' to learn more about interactive tables.';\n",
              "          element.innerHTML = '';\n",
              "          dataTable['output_type'] = 'display_data';\n",
              "          await google.colab.output.renderOutput(dataTable, element);\n",
              "          const docLink = document.createElement('div');\n",
              "          docLink.innerHTML = docLinkHtml;\n",
              "          element.appendChild(docLink);\n",
              "        }\n",
              "      </script>\n",
              "    </div>\n",
              "  </div>\n",
              "  "
            ]
          },
          "metadata": {},
          "execution_count": 120
        }
      ],
      "source": [
        "# Vemos la relación que existe entre la cantidad de hechos y la población\n",
        "\n",
        "result['indicador'] = result.apply(lambda x: x['cantidad_hechos'] / x['Poblacion'], axis = 1)\n",
        "result"
      ]
    },
    {
      "cell_type": "code",
      "execution_count": null,
      "metadata": {
        "id": "qvxJcjLJ3y6v"
      },
      "outputs": [],
      "source": [
        "# Ordenamos el DataFrame\n",
        "\n",
        "result.sort_values(by='indicador', ascending=False, inplace=True)"
      ]
    },
    {
      "cell_type": "code",
      "execution_count": null,
      "metadata": {
        "colab": {
          "base_uri": "https://localhost:8080/",
          "height": 54
        },
        "id": "HowjBjDB3y6v",
        "outputId": "9a769c88-b9cb-4b75-dcc5-1ec83ad72651"
      },
      "outputs": [
        {
          "output_type": "display_data",
          "data": {
            "text/plain": [
              "<Figure size 1800x648 with 1 Axes>"
            ],
            "image/png": "[encoded data removed]"
          },
          "metadata": {
            "needs_background": "light"
          }
        }
      ],
      "source": [
        "# Gráficamos la relación entre la cantidad de hechos y la población para visualizar las peores pronvicias\n",
        "\n",
        "plt.figure(figsize=(25,9))\n",
        "ax = plt.bar(result['Provincia'],result['indicador'],color= \"orange\")\n",
        "plt.xlabel(\"Provincia\",fontsize = 20)\n",
        "plt.ylabel(\"Tasa de crimenes por cantidad de habitantes\", fontsize = 20)\n",
        "plt.xticks(fontsize = 20,rotation=90)\n",
        "plt.yticks(fontsize = 20)\n",
        "plt.show()"
      ]
    },
    {
      "cell_type": "markdown",
      "metadata": {
        "id": "W5uVHzIvJjSK"
      },
      "source": [
        "# 7️⃣ Análisis sobre la Provincia de Buenos Aires"
      ]
    },
    {
      "cell_type": "markdown",
      "metadata": {
        "id": "LFJmKtU5KGjN"
      },
      "source": [
        "Sabemos que 2019 fue el año con mas crimenes y Buenos Aires es la provincia con mas crimines en nuestro dataset. **Veamosque tipo de crimenes son mas comunes en Bs.As.**"
      ]
    },
    {
      "cell_type": "code",
      "execution_count": null,
      "metadata": {
        "colab": {
          "base_uri": "https://localhost:8080/"
        },
        "id": "H0z180Lc5P8Q",
        "outputId": "5f6686ed-c0fd-4e7b-9c58-85c531cc7328"
      },
      "outputs": [
        {
          "output_type": "stream",
          "name": "stderr",
          "text": [
            "/usr/local/lib/python3.8/dist-packages/pandas/util/_decorators.py:311: SettingWithCopyWarning: \n",
            "A value is trying to be set on a copy of a slice from a DataFrame\n",
            "\n",
            "See the caveats in the documentation: https://pandas.pydata.org/pandas-docs/stable/user_guide/indexing.html#returning-a-view-versus-a-copy\n",
            "  return func(*args, **kwargs)\n"
          ]
        }
      ],
      "source": [
        "# Generamos un filtro que nos permite seleccionar solamente la pronvincia de Bs. As. y el año 2019\n",
        "\n",
        "#Primero definimos la máscara\n",
        "mask_bsas = np.logical_and(df['anio'] == 2019, df['Provincia'] == 'Buenos Aires') #se queda con los datos cuyo año es 2019 y la Prov es Bs. As\n",
        "#La asignamos a 'bsas'\n",
        "bsas = df[mask_bsas]\n",
        "#Ordenamos los datos en forma descendente\n",
        "bsas.sort_values(by='cantidad_hechos', ascending=False, inplace=True)\n",
        "#creamos una lista con los nombres de los delitos para utilizar para mostrar los datos\n",
        "Lista_delitos=bsas['codigo_delito_snic_nombre'].to_list()\n"
      ]
    },
    {
      "cell_type": "code",
      "execution_count": null,
      "metadata": {
        "id": "UlXXihqJ3y6v",
        "outputId": "859c50f8-d158-4c4d-8e91-c471b4eff6a5",
        "colab": {
          "base_uri": "https://localhost:8080/"
        }
      },
      "outputs": [
        {
          "output_type": "stream",
          "name": "stdout",
          "text": [
            "Los 10 delitos mas usuales en 2019 para Buenos Aires fueron los siguientes:\n",
            "Robos (excluye los agravados por el resultado de lesiones y/o muertes),\n",
            "Hurtos,\n",
            "Amenazas,\n",
            "Lesiones culposas en Accidentes Viales,\n",
            "Tenencia simple atenuada para uso personal de estupefacientes,\n",
            "Lesiones dolosas,\n",
            "Otros delitos contra la propiedad,\n",
            "Otros delitos contra la seguridad pública,\n",
            "Delitos contra la administración pública,\n",
            "Tentativas de robo (excluye las agravadas por el res. de lesiones y/o muerte)\n"
          ]
        }
      ],
      "source": [
        "# Convertir cada elemento de la lista en una cadena\n",
        "lista_delitos_str = [str(x) for x in Lista_delitos[:10]]\n",
        "\n",
        "# Unir las cadenas en una sola separada por comas\n",
        "delitos_str = ',\\n'.join(lista_delitos_str)\n",
        "\n",
        "# Imprimir la cadena resultante\n",
        "print(f'Los 10 delitos mas usuales en 2019 para Buenos Aires fueron los siguientes:\\n{delitos_str}')"
      ]
    },
    {
      "cell_type": "code",
      "execution_count": null,
      "metadata": {
        "colab": {
          "base_uri": "https://localhost:8080/"
        },
        "id": "WerCFlk6k_IN",
        "outputId": "95499e1c-2f8e-48c6-b005-6107c45e29d0"
      },
      "outputs": [
        {
          "output_type": "stream",
          "name": "stdout",
          "text": [
            "La cantidad de victimas de la Provincia de Buenos Aires en 2019 fue: 100105\n"
          ]
        }
      ],
      "source": [
        "# ¿Y la cantidad de victimas que hubo en 2019 en Provincia de Buenos Aires?\n",
        "\n",
        "victimas = bsas['cantidad_victimas'].sum()\n",
        "\n",
        "print(f\"La cantidad de victimas de la Provincia de Buenos Aires en 2019 fue: {int(victimas)}\")"
      ]
    },
    {
      "cell_type": "code",
      "execution_count": null,
      "metadata": {
        "colab": {
          "base_uri": "https://localhost:8080/",
          "height": 54
        },
        "id": "Fh772aE4nabt",
        "outputId": "553ee9db-5f1c-4c03-b76d-a3d6a937b316"
      },
      "outputs": [
        {
          "output_type": "display_data",
          "data": {
            "text/plain": [
              "<Figure size 1728x504 with 1 Axes>"
            ],
            "image/png": "[encoded data removed]"
          },
          "metadata": {
            "needs_background": "light"
          }
        }
      ],
      "source": [
        "# ¿Y con respecto a las otras provincias en 2019?. ¿Que fue el año que mas delitos hubo en Argentina?\n",
        "\n",
        "mask_provincias = data_ordenada['anio'] == 2019\n",
        "provincias = data_ordenada[mask_provincias]\n",
        "plt.figure(figsize=(24,7))\n",
        "ax = plt.bar(provincias['Provincia'],provincias['cantidad_hechos'],color= \"green\")\n",
        "plt.xlabel(\"Provincia\",fontsize = 20)\n",
        "plt.ylabel(\"Crimenes\", fontsize = 20)\n",
        "plt.xticks(fontsize = 20,rotation=90)\n",
        "plt.yticks(fontsize = 20)\n",
        "plt.show()\n"
      ]
    },
    {
      "cell_type": "markdown",
      "metadata": {
        "id": "sZJVT4xojoXU"
      },
      "source": [
        "# 8️⃣ Aplicar segmentación"
      ]
    },
    {
      "cell_type": "code",
      "execution_count": null,
      "metadata": {
        "colab": {
          "base_uri": "https://localhost:8080/"
        },
        "id": "c-ywDOSzcBSy",
        "outputId": "70e8b16b-0ece-47e6-c04a-9024988fcddb"
      },
      "outputs": [
        {
          "output_type": "execute_result",
          "data": {
            "text/plain": [
              "anio  Provincia     codigo_delito_snic_nombre                                                    \n",
              "2014  Buenos Aires  Amenazas                                                                         1\n",
              "                    Delitos contra el estado civil                                                   1\n",
              "                    Delitos contra el honor                                                          1\n",
              "                    Delitos contra el orden público                                                  1\n",
              "                    Delitos contra la administración pública                                         1\n",
              "                                                                                                    ..\n",
              "2021  Tucumán       Tentativas de robo (excluye las agravadas por el res. de lesiones y/o muerte)    1\n",
              "                    Tentativas de robo agravado por el resultado de lesiones y/o muertes             1\n",
              "                    Trata de personas agravado                                                       1\n",
              "                    Trata de personas simple                                                         1\n",
              "                    Violaciones                                                                      1\n",
              "Length: 8880, dtype: int64"
            ]
          },
          "metadata": {},
          "execution_count": 127
        }
      ],
      "source": [
        "df.groupby(['anio', 'Provincia','codigo_delito_snic_nombre']).size()"
      ]
    },
    {
      "cell_type": "code",
      "execution_count": null,
      "metadata": {
        "colab": {
          "base_uri": "https://localhost:8080/",
          "height": 675
        },
        "id": "rfjeLlsKjQuc",
        "outputId": "bd91f9ff-dedf-4db4-e9e5-bfe24e053691"
      },
      "outputs": [
        {
          "output_type": "execute_result",
          "data": {
            "text/plain": [
              "                                                                      cantidad_hechos  \\\n",
              "anio Provincia    codigo_delito_snic_nombre                                             \n",
              "2014 Buenos Aires Amenazas                                                      58769   \n",
              "                  Delitos contra el estado civil                                    1   \n",
              "                  Delitos contra el honor                                          49   \n",
              "                  Delitos contra el orden público                               13419   \n",
              "                  Delitos contra la administración pública                       7687   \n",
              "...                                                                               ...   \n",
              "2021 Tucumán      Tentativas de robo (excluye las agravadas por e...              939   \n",
              "                  Tentativas de robo agravado por el resultado de...               17   \n",
              "                  Trata de personas agravado                                        0   \n",
              "                  Trata de personas simple                                          1   \n",
              "                  Violaciones                                                     263   \n",
              "\n",
              "                                                                      cantidad_victimas  \n",
              "anio Provincia    codigo_delito_snic_nombre                                              \n",
              "2014 Buenos Aires Amenazas                                                          0.0  \n",
              "                  Delitos contra el estado civil                                    0.0  \n",
              "                  Delitos contra el honor                                          55.0  \n",
              "                  Delitos contra el orden público                                   0.0  \n",
              "                  Delitos contra la administración pública                          0.0  \n",
              "...                                                                                 ...  \n",
              "2021 Tucumán      Tentativas de robo (excluye las agravadas por e...                0.0  \n",
              "                  Tentativas de robo agravado por el resultado de...                0.0  \n",
              "                  Trata de personas agravado                                        0.0  \n",
              "                  Trata de personas simple                                          1.0  \n",
              "                  Violaciones                                                     264.0  \n",
              "\n",
              "[8880 rows x 2 columns]"
            ],
            "text/html": [
              "\n",
              "  <div id=\"df-bbf01d82-ef87-4031-8e2d-eff9953fd0a5\">\n",
              "    <div class=\"colab-df-container\">\n",
              "      <div>\n",
              "<style scoped>\n",
              "    .dataframe tbody tr th:only-of-type {\n",
              "        vertical-align: middle;\n",
              "    }\n",
              "\n",
              "    .dataframe tbody tr th {\n",
              "        vertical-align: top;\n",
              "    }\n",
              "\n",
              "    .dataframe thead th {\n",
              "        text-align: right;\n",
              "    }\n",
              "</style>\n",
              "<table border=\"1\" class=\"dataframe\">\n",
              "  <thead>\n",
              "    <tr style=\"text-align: right;\">\n",
              "      <th></th>\n",
              "      <th></th>\n",
              "      <th></th>\n",
              "      <th>cantidad_hechos</th>\n",
              "      <th>cantidad_victimas</th>\n",
              "    </tr>\n",
              "    <tr>\n",
              "      <th>anio</th>\n",
              "      <th>Provincia</th>\n",
              "      <th>codigo_delito_snic_nombre</th>\n",
              "      <th></th>\n",
              "      <th></th>\n",
              "    </tr>\n",
              "  </thead>\n",
              "  <tbody>\n",
              "    <tr>\n",
              "      <th rowspan=\"5\" valign=\"top\">2014</th>\n",
              "      <th rowspan=\"5\" valign=\"top\">Buenos Aires</th>\n",
              "      <th>Amenazas</th>\n",
              "      <td>58769</td>\n",
              "      <td>0.0</td>\n",
              "    </tr>\n",
              "    <tr>\n",
              "      <th>Delitos contra el estado civil</th>\n",
              "      <td>1</td>\n",
              "      <td>0.0</td>\n",
              "    </tr>\n",
              "    <tr>\n",
              "      <th>Delitos contra el honor</th>\n",
              "      <td>49</td>\n",
              "      <td>55.0</td>\n",
              "    </tr>\n",
              "    <tr>\n",
              "      <th>Delitos contra el orden público</th>\n",
              "      <td>13419</td>\n",
              "      <td>0.0</td>\n",
              "    </tr>\n",
              "    <tr>\n",
              "      <th>Delitos contra la administración pública</th>\n",
              "      <td>7687</td>\n",
              "      <td>0.0</td>\n",
              "    </tr>\n",
              "    <tr>\n",
              "      <th>...</th>\n",
              "      <th>...</th>\n",
              "      <th>...</th>\n",
              "      <td>...</td>\n",
              "      <td>...</td>\n",
              "    </tr>\n",
              "    <tr>\n",
              "      <th rowspan=\"5\" valign=\"top\">2021</th>\n",
              "      <th rowspan=\"5\" valign=\"top\">Tucumán</th>\n",
              "      <th>Tentativas de robo (excluye las agravadas por el res. de lesiones y/o muerte)</th>\n",
              "      <td>939</td>\n",
              "      <td>0.0</td>\n",
              "    </tr>\n",
              "    <tr>\n",
              "      <th>Tentativas de robo agravado por el resultado de lesiones y/o muertes</th>\n",
              "      <td>17</td>\n",
              "      <td>0.0</td>\n",
              "    </tr>\n",
              "    <tr>\n",
              "      <th>Trata de personas agravado</th>\n",
              "      <td>0</td>\n",
              "      <td>0.0</td>\n",
              "    </tr>\n",
              "    <tr>\n",
              "      <th>Trata de personas simple</th>\n",
              "      <td>1</td>\n",
              "      <td>1.0</td>\n",
              "    </tr>\n",
              "    <tr>\n",
              "      <th>Violaciones</th>\n",
              "      <td>263</td>\n",
              "      <td>264.0</td>\n",
              "    </tr>\n",
              "  </tbody>\n",
              "</table>\n",
              "<p>8880 rows × 2 columns</p>\n",
              "</div>\n",
              "      <button class=\"colab-df-convert\" onclick=\"convertToInteractive('df-bbf01d82-ef87-4031-8e2d-eff9953fd0a5')\"\n",
              "              title=\"Convert this dataframe to an interactive table.\"\n",
              "              style=\"display:none;\">\n",
              "        \n",
              "  <svg xmlns=\"http://www.w3.org/2000/svg\" height=\"24px\"viewBox=\"0 0 24 24\"\n",
              "       width=\"24px\">\n",
              "    <path d=\"M0 0h24v24H0V0z\" fill=\"none\"/>\n",
              "    <path d=\"M18.56 5.44l.94 2.06.94-2.06 2.06-.94-2.06-.94-.94-2.06-.94 2.06-2.06.94zm-11 1L8.5 8.5l.94-2.06 2.06-.94-2.06-.94L8.5 2.5l-.94 2.06-2.06.94zm10 10l.94 2.06.94-2.06 2.06-.94-2.06-.94-.94-2.06-.94 2.06-2.06.94z\"/><path d=\"M17.41 7.96l-1.37-1.37c-.4-.4-.92-.59-1.43-.59-.52 0-1.04.2-1.43.59L10.3 9.45l-7.72 7.72c-.78.78-.78 2.05 0 2.83L4 21.41c.39.39.9.59 1.41.59.51 0 1.02-.2 1.41-.59l7.78-7.78 2.81-2.81c.8-.78.8-2.07 0-2.86zM5.41 20L4 18.59l7.72-7.72 1.47 1.35L5.41 20z\"/>\n",
              "  </svg>\n",
              "      </button>\n",
              "      \n",
              "  <style>\n",
              "    .colab-df-container {\n",
              "      display:flex;\n",
              "      flex-wrap:wrap;\n",
              "      gap: 12px;\n",
              "    }\n",
              "\n",
              "    .colab-df-convert {\n",
              "      background-color: #E8F0FE;\n",
              "      border: none;\n",
              "      border-radius: 50%;\n",
              "      cursor: pointer;\n",
              "      display: none;\n",
              "      fill: #1967D2;\n",
              "      height: 32px;\n",
              "      padding: 0 0 0 0;\n",
              "      width: 32px;\n",
              "    }\n",
              "\n",
              "    .colab-df-convert:hover {\n",
              "      background-color: #E2EBFA;\n",
              "      box-shadow: 0px 1px 2px rgba(60, 64, 67, 0.3), 0px 1px 3px 1px rgba(60, 64, 67, 0.15);\n",
              "      fill: #174EA6;\n",
              "    }\n",
              "\n",
              "    [theme=dark] .colab-df-convert {\n",
              "      background-color: #3B4455;\n",
              "      fill: #D2E3FC;\n",
              "    }\n",
              "\n",
              "    [theme=dark] .colab-df-convert:hover {\n",
              "      background-color: #434B5C;\n",
              "      box-shadow: 0px 1px 3px 1px rgba(0, 0, 0, 0.15);\n",
              "      filter: drop-shadow(0px 1px 2px rgba(0, 0, 0, 0.3));\n",
              "      fill: #FFFFFF;\n",
              "    }\n",
              "  </style>\n",
              "\n",
              "      <script>\n",
              "        const buttonEl =\n",
              "          document.querySelector('#df-bbf01d82-ef87-4031-8e2d-eff9953fd0a5 button.colab-df-convert');\n",
              "        buttonEl.style.display =\n",
              "          google.colab.kernel.accessAllowed ? 'block' : 'none';\n",
              "\n",
              "        async function convertToInteractive(key) {\n",
              "          const element = document.querySelector('#df-bbf01d82-ef87-4031-8e2d-eff9953fd0a5');\n",
              "          const dataTable =\n",
              "            await google.colab.kernel.invokeFunction('convertToInteractive',\n",
              "                                                     [key], {});\n",
              "          if (!dataTable) return;\n",
              "\n",
              "          const docLinkHtml = 'Like what you see? Visit the ' +\n",
              "            '<a target=\"_blank\" href=https://colab.research.google.com/notebooks/data_table.ipynb>data table notebook</a>'\n",
              "            + ' to learn more about interactive tables.';\n",
              "          element.innerHTML = '';\n",
              "          dataTable['output_type'] = 'display_data';\n",
              "          await google.colab.output.renderOutput(dataTable, element);\n",
              "          const docLink = document.createElement('div');\n",
              "          docLink.innerHTML = docLinkHtml;\n",
              "          element.appendChild(docLink);\n",
              "        }\n",
              "      </script>\n",
              "    </div>\n",
              "  </div>\n",
              "  "
            ]
          },
          "metadata": {},
          "execution_count": 128
        }
      ],
      "source": [
        "df.groupby(['anio', 'Provincia','codigo_delito_snic_nombre'])[['cantidad_hechos','cantidad_victimas']].sum()"
      ]
    },
    {
      "cell_type": "markdown",
      "metadata": {
        "id": "tpCna2lDFytx"
      },
      "source": [
        "Agrupar los crimes por una escala de valor por peligrosidad.\n",
        "\n",
        "Segmentar los crimenes\n"
      ]
    },
    {
      "cell_type": "code",
      "execution_count": null,
      "metadata": {
        "id": "fZ9ggzcFkebP"
      },
      "outputs": [],
      "source": [
        "#Función para deteminar el \"nivel de peligrosidad\"\n",
        "\n",
        "\n",
        "def nivel_crimen(gr):  \n",
        "  if gr['cantidad_victimas'] == 0:\n",
        "    return 'Bajo'\n",
        "  elif gr['cantidad_victimas'] < 15:\n",
        "    return 'Medio'\n",
        "  else:\n",
        "    return 'Alto'\n"
      ]
    },
    {
      "cell_type": "code",
      "execution_count": null,
      "metadata": {
        "id": "65qPGoB6lJNS"
      },
      "outputs": [],
      "source": [
        "df['cantidad_victimas'].fillna(0, inplace = True)"
      ]
    },
    {
      "cell_type": "code",
      "execution_count": null,
      "metadata": {
        "id": "lx1iKaJQZgRB"
      },
      "outputs": [],
      "source": [
        "#Creamos una nueva columna con contiene los \"niveles de peligrosidad\"\n",
        "\n",
        "df['nivel_crimen'] = df.apply(nivel_crimen, axis = 1)"
      ]
    },
    {
      "cell_type": "code",
      "execution_count": null,
      "metadata": {
        "colab": {
          "base_uri": "https://localhost:8080/",
          "height": 176
        },
        "id": "d4jbeCZJZgRB",
        "outputId": "4e3416d0-95db-4701-fd10-8f62ab7264c2"
      },
      "outputs": [
        {
          "output_type": "display_data",
          "data": {
            "text/plain": [
              "<Figure size 1800x648 with 1 Axes>"
            ],
            "image/png": "[encoded data removed]"
          },
          "metadata": {
            "needs_background": "light"
          }
        },
        {
          "output_type": "display_data",
          "data": {
            "text/plain": [
              "<Figure size 1800x648 with 1 Axes>"
            ],
            "image/png": "[encoded data removed]"
          },
          "metadata": {
            "needs_background": "light"
          }
        },
        {
          "output_type": "display_data",
          "data": {
            "text/plain": [
              "<Figure size 1800x648 with 1 Axes>"
            ],
            "image/png": "[encoded data removed]"
          },
          "metadata": {
            "needs_background": "light"
          }
        },
        {
          "output_type": "display_data",
          "data": {
            "text/plain": [
              "<Figure size 1800x648 with 1 Axes>"
            ],
            "image/png": "[encoded data removed]"
          },
          "metadata": {
            "needs_background": "light"
          }
        },
        {
          "output_type": "display_data",
          "data": {
            "text/plain": [
              "<Figure size 1800x648 with 1 Axes>"
            ],
            "image/png": "[encoded data removed]"
          },
          "metadata": {
            "needs_background": "light"
          }
        },
        {
          "output_type": "display_data",
          "data": {
            "text/plain": [
              "<Figure size 1800x648 with 1 Axes>"
            ],
            "image/png": "[encoded data removed]"
          },
          "metadata": {
            "needs_background": "light"
          }
        },
        {
          "output_type": "display_data",
          "data": {
            "text/plain": [
              "<Figure size 1800x648 with 1 Axes>"
            ],
            "image/png": "[encoded data removed]"
          },
          "metadata": {
            "needs_background": "light"
          }
        },
        {
          "output_type": "display_data",
          "data": {
            "text/plain": [
              "<Figure size 1800x648 with 1 Axes>"
            ],
            "image/png": "[encoded data removed]"
          },
          "metadata": {
            "needs_background": "light"
          }
        }
      ],
      "source": [
        "#Graficamos como se dividieron los crimenes para todos los años\n",
        "\n",
        "colores = ['blue','green','red','cyan','magenta','yellow','black', 'orange']\n",
        "año = [2014, 2015, 2016, 2017, 2018, 2019, 2020, 2021]\n",
        "for x in range(0,8):\n",
        "    plt.figure(figsize=(25,9))\n",
        "    mask = df['anio'] == año[x]\n",
        "    df_temp = df[mask] \n",
        "    ax = plt.subplot(3,5,x + 1)\n",
        "    ax.hist(df_temp['nivel_crimen'],color= colores[x])\n",
        "    valores = df_temp['nivel_crimen'].value_counts().to_dict()\n",
        "    plt.title(f' {str(año[x])} \\n Para este año los crimenes se dividieron en: \\n{valores}')\n",
        "    plt.show()\n"
      ]
    },
    {
      "cell_type": "markdown",
      "source": [
        "#Conclusiones"
      ],
      "metadata": {
        "id": "IMjEb0ATxRms"
      }
    },
    {
      "cell_type": "markdown",
      "source": [
        "* La provincia con mayor cantidad de crimenes es **Buenos Aires**.\n",
        "* En relación a la cantidad de habitantes, la provincia con más crimenes es **Salta**. Mientras que Buenos Aires esta cuarta.\n",
        "* El año 2019 fue el año con mayor cantidad de crimenes. \n",
        "\n",
        "\n",
        "\n",
        "\n"
      ],
      "metadata": {
        "id": "G-QSjNz4xTin"
      }
    }
  ],
  "metadata": {
    "colab": {
      "provenance": [],
      "collapsed_sections": [
        "MW5pQRfz_N37",
        "tkqMcxRR_Qok",
        "h8oqnkfh4VGV",
        "sVw9Y_5iDM_k",
        "WMYwhgLREaBd",
        "RburC2vnHmdV",
        "W5uVHzIvJjSK",
        "sZJVT4xojoXU"
      ],
      "include_colab_link": true
    },
    "kernelspec": {
      "display_name": "Python 3.9.13 ('geop_env')",
      "language": "python",
      "name": "python3"
    },
    "language_info": {
      "codemirror_mode": {
        "name": "ipython",
        "version": 3
      },
      "file_extension": ".py",
      "mimetype": "text/x-python",
      "name": "python",
      "nbconvert_exporter": "python",
      "pygments_lexer": "ipython3",
      "version": "3.9.13"
    },
    "vscode": {
      "interpreter": {
        "hash": "0ff8161dfd625bb6b380f3a3830576133d6d95585979d80918980c8d03634722"
      }
    }
  },
  "nbformat": 4,
  "nbformat_minor": 0
}