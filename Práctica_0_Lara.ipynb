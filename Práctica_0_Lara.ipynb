{
  "nbformat": 4,
  "nbformat_minor": 0,
  "metadata": {
    "colab": {
      "provenance": [],
      "collapsed_sections": [
        "fqqZSo3CVoLv",
        "TvoEXzScDpS7"
      ],
      "toc_visible": true,
      "include_colab_link": true
    },
    "kernelspec": {
      "name": "python3",
      "display_name": "Python 3"
    },
    "language_info": {
      "name": "python"
    }
  },
  "cells": [
    {
      "cell_type": "markdown",
      "metadata": {
        "id": "view-in-github",
        "colab_type": "text"
      },
      "source": [
        "<a href=\"https://colab.research.google.com/github/LaraV15/Programacion--II/blob/main/Pr%C3%A1ctica_0_Lara.ipynb\" target=\"_parent\"><img src=\"https://colab.research.google.com/assets/colab-badge.svg\" alt=\"Open In Colab\"/></a>"
      ]
    },
    {
      "cell_type": "markdown",
      "source": [
        "# Practica 0\n",
        "\n"
      ],
      "metadata": {
        "id": "j3sTF5h-XSAK"
      }
    },
    {
      "cell_type": "markdown",
      "source": [
        "# Introducción a Jupyter Notebooks/Google Colab\n"
      ],
      "metadata": {
        "id": "fqqZSo3CVoLv"
      }
    },
    {
      "cell_type": "markdown",
      "source": [
        "Los Jupyter Notebooks pueden ser considerados documentos donde se puede escribir tanto texto como código. Los Jupyter Notebooks soportan múltiples lenguajes de programación, incluidos Python, R, Julia y Matlab, los más utilizados en análisis de datos y computación científica.\n",
        "\n",
        "Los Jupyter Notebooks pueden ser abiertos desde el navegador de la PC (Chrome, Firefox, Edge o cualquier otro).\n",
        "\n",
        "Se puede instalar un entorno local para trabajar con Jupyter Notebooks mediante la [distribución Anaconda](https://www.anaconda.com/products/distribution) de Python. Esta distribución de Python es gratuita, open-source y fácil de usar. Es además multiplataforma, podemos usarla en Mac, Windows o Linux indistintamente. Esta pensada para ser usada por científicos de datos, y por ello, trae incluidos muchos paquetes para trabajar en modelos de aprendizaje automatizado.\n",
        "\n",
        "Si ya tenemos un entorno local de Python funcionando y solo queremos agregar la posibilidad de utilizar Jupyter Notebooks, sin instalar todo el ecosistema de nuevo, podemos hacerlo directamente a través de la [página oficial de Jupyter Notebooks](https://jupyter.org/install).\n",
        "\n",
        "Sin embargo lo más cómodo (y lo recomendado para este curso) es utilizar Google Colab. Google Colab es una herramienta muy similar a Jupyter Notebooks, pero no requiere ningún tipo de instalación ya que esta completamente alojado en la nube de Google. Se puede utilizar en conjunto con Google Drive, almacenando los notebooks que escribamos como cualquier otro tipo de documento. Además, esto permite compartir y editar colaborativamente los notebooks. Al igual que la instalación con Anaconda, ya trae incluidos muchos paquetes estándar para el desarrollo de programas orientados al análisis de datos.\n",
        "\n",
        "Tanto en Jupyter Notebooks como en Google Colab, los documentos están compuestos por una serie de *celdas* (del inglés *cells*). Hay celdas de dos tipos, de texto y de código.\n",
        "\n",
        "Una celda de texto (como esta que estas leyendo ahora) contiene texto en [formato Markdown](https://markdown.es/). Esto permite escribir texto enriquecido con algunos formatos y enlaces de forma muy simple. Una guía para empezar a escribir en este formato puede ser encontrada en [esta página](https://markdown.es/sintaxis-markdown/). Adicionalmente, tenemos soporte para LaTeX para escribir ecuaciones matemáticas.\n",
        "\n",
        "Las celdas de código contiene instrucciones para la computadora, sea el código Python propiamente dicho u otras instrucciones auxiliares. Veamos nuestra primera celda de código:"
      ],
      "metadata": {
        "id": "BVLKXC8RV1T1"
      }
    },
    {
      "cell_type": "code",
      "source": [
        "print(\"Hola mundo!\")"
      ],
      "metadata": {
        "id": "OyQwuqB5V0LY",
        "colab": {
          "base_uri": "https://localhost:8080/"
        },
        "outputId": "9f31097e-4ef8-4b43-b1e7-eab994611dfd"
      },
      "execution_count": null,
      "outputs": [
        {
          "output_type": "stream",
          "name": "stdout",
          "text": [
            "Hola mundo!\n"
          ]
        }
      ]
    },
    {
      "cell_type": "markdown",
      "source": [
        "Notarás que la celda de código tiene un icono triangular a su izquierda (recordando al ícono \"play\" de un equipo de música). Al hacer clic en este ícono se correran las instrucciones que haya en la celda (puede ser más de una) y Jupyter Notebooks/Google Colab nos mostrara el resultado debajo. Luego de eso, el ícono cambia a un número que nos irá mostrando el orden en el que corrimos las diferentes celdas. Si acercamos el mouse a este número recuperamos el ícono triangular que nos permitirá volver a correr una celda.\n",
        "\n",
        "\n",
        "---\n",
        "\n",
        "\n"
      ],
      "metadata": {
        "id": "gs8qxu4ejfaa"
      }
    },
    {
      "cell_type": "markdown",
      "source": [
        "# Introducción al testing de software con pytest\n"
      ],
      "metadata": {
        "id": "FMr4ekSLthaf"
      }
    },
    {
      "cell_type": "markdown",
      "source": [
        "El uso de Python se esta incrementando no solo en el desarrollo de software tradicional, sino tambien en campos como análisis de datos, investigación científica, pruebas de usuario y mediciones, y muchas otras industrias. El crecimiento de Python en muchos campos críticos viene también con el deseo lograr pruebas más efectivas y más eficientes para asegurar que los programas corren de forma correcta y producen resultados correctos. En adición, más y más proyectos de software están incluyendo una fase de testing automatizado como parte del proceso de lanzamiento de nuevas versiones de un proyecto de software. Así los tests dejan de ser meras entidades secundarias y se ponen en el papel principal: son los que deciden si se confía en una nueva versión del software o no.\n",
        "\n",
        "`pytest` es una herramienta robusta para realizar testing con Python. Ha reemplazado a herramientas más antiguas como `unittest` o `nose` como la herramienta por defecto para realizar testing con Python. Algunas organizaciones que utilizan `pytest` incluyen Mozilla (desarrolladores del navegador Firefox) y Dropbox (desarrolladora de un popular servicio de almacenamiento en línea). Algunas de las ventajas que ofrece son:\n",
        "\n",
        "- Los tests escritos con esta herramienta suelen ser más sencillos de leer y escribir.\n",
        "- Es compatible con sus predecesoras, `unittest` y `nose`.\n",
        "- Es una herramienta extensible, existen decenas de *plugins* que pueden utilizarse para extender las capacidades de la herramienta.\n",
        "- Todo-en-uno: Descubre cuáles son las pruebas, las corre y reporta los resultados.\n",
        "\n",
        "\n"
      ],
      "metadata": {
        "id": "svFLCJiR_Vcc"
      }
    },
    {
      "cell_type": "markdown",
      "source": [
        "# Estrategias de testing\n",
        "\n",
        "Existen diferentes estrategias de testing:\n",
        "\n",
        "- Testing de unidad o unitario (*unit-testing*): Un caso de prueba que chequea una pequeña porción de código, como una función o una clase, de manera aislada al resto del sistema. \n",
        "- Testing de integración: Un caso de prueba que comprueba el funcionamiento de una porción de código más extensa, quizás varias clases o un submódulo. Es un lugar intermedio entre un test de unidad y un test de sistema.\n",
        "- Testing de sistema o testing punta a punta (*testing end-to-end*): Un caso de prueba que comprueba que todo el sistema bajo prueba funcione en un ambiente tan cerrado como sea posible.\n",
        "\n",
        "Si bien `pytest` es util para todas las estrategias, nos concentraremos en los tests unitarios.\n",
        "\n",
        "Contrariamente al pensamiento popular, escribir tests es mucho más sencillo que escribir código de funcionalidad. Es por ello mismo que resulta recomendable escribir el test primero, en un enfoque conocido como Desarrollo guiado por la prueba primero (o *test-driven development*, o *TDD* en inglés)."
      ],
      "metadata": {
        "id": "TvoEXzScDpS7"
      }
    },
    {
      "cell_type": "markdown",
      "source": [
        "# Comenzando con `pytest`\n",
        "\n",
        "Para agregar la librería `pytest` a un Jupyter Notebook/Google Colab, es necesario correr la siguiente línea para instalarlo (Importante: realizar esto por cada JN/GC que querramos usar!). \n",
        "\n",
        "**Nota**: Si estás utilizando otro tipo de entorno para Python, podés buscar información en la [página oficial de `pytest`](https://docs.pytest.org/en/7.1.x/). "
      ],
      "metadata": {
        "id": "jgkXWXjqF6RL"
      }
    },
    {
      "cell_type": "code",
      "source": [
        "!pip install pytest \n",
        "#Comando que tenemos que ejecutar antes de cada Colab"
      ],
      "metadata": {
        "id": "KAcpsyUSF5pN",
        "colab": {
          "base_uri": "https://localhost:8080/"
        },
        "outputId": "47fde7a1-3cfb-4ce5-90ef-7ce757466f9e"
      },
      "execution_count": null,
      "outputs": [
        {
          "output_type": "stream",
          "name": "stdout",
          "text": [
            "Looking in indexes: https://pypi.org/simple, https://us-python.pkg.dev/colab-wheels/public/simple/\n",
            "Requirement already satisfied: pytest in /usr/local/lib/python3.7/dist-packages (3.6.4)\n",
            "Requirement already satisfied: more-itertools>=4.0.0 in /usr/local/lib/python3.7/dist-packages (from pytest) (8.14.0)\n",
            "Requirement already satisfied: attrs>=17.4.0 in /usr/local/lib/python3.7/dist-packages (from pytest) (22.1.0)\n",
            "Requirement already satisfied: py>=1.5.0 in /usr/local/lib/python3.7/dist-packages (from pytest) (1.11.0)\n",
            "Requirement already satisfied: six>=1.10.0 in /usr/local/lib/python3.7/dist-packages (from pytest) (1.15.0)\n",
            "Requirement already satisfied: setuptools in /usr/local/lib/python3.7/dist-packages (from pytest) (57.4.0)\n",
            "Requirement already satisfied: pluggy<0.8,>=0.5 in /usr/local/lib/python3.7/dist-packages (from pytest) (0.7.1)\n",
            "Requirement already satisfied: atomicwrites>=1.0 in /usr/local/lib/python3.7/dist-packages (from pytest) (1.4.1)\n"
          ]
        }
      ]
    },
    {
      "cell_type": "markdown",
      "source": [
        "Para escribir un conjunto conjunto de funcionalidad y testing seguiremos el siguiente patrón. Utilizaremos como ejemplo una función sencilla que suma dos números."
      ],
      "metadata": {
        "id": "2X_QwmqwGfs7"
      }
    },
    {
      "cell_type": "code",
      "source": [
        "%%file test_add.py \n",
        "#esto va siempre que querramos hacer un \n",
        "#test \"add\" es lo único que va cambiando, dependiendo el nombre \n",
        "#que le querramos poner\n",
        "\n",
        "def add(x, y):\n",
        "  return x + y\n",
        "\n",
        "def test_add(): #siempre tiene que emepzar con la palabra test_(el nombre que querramos)\n",
        "  assert add(0, 0) == 0\n",
        "  assert add(0, 1) == 1\n",
        "  assert add(1, 1) == 2"
      ],
      "metadata": {
        "id": "AyWFJhyRGdR6",
        "colab": {
          "base_uri": "https://localhost:8080/"
        },
        "outputId": "df766067-2e95-4f9a-8139-f3bb70ff1486"
      },
      "execution_count": null,
      "outputs": [
        {
          "output_type": "stream",
          "name": "stdout",
          "text": [
            "Writing test_add.py\n"
          ]
        }
      ]
    },
    {
      "cell_type": "markdown",
      "source": [
        "Algunas partes importantes:\n",
        "\n",
        "* El encabezado `%%file test_add.py` no es una instrucción de Python, si no una sintaxis especial utilizada por JN/GC para indicar que queremos guardar el contenido de esta celda en un archivo. Es importante que el archivo comience con `test_` y termine en `.py` para que `pytest` pueda reconocer que se trata de un archivo con casos de prueba.\n",
        "* En pytest cada caso de prueba es una función. Para distinguir las funciones que son casos de prueba de aquellas que implementan funcionalidad, también necesitamos que el nombre de la función comience con `test_`.\n",
        "* Dentro de un caso de prueba, utilizamos la palabra reservada `assert` para comprobar que la función, con determinados argumentos de prueba, devuelven el resultado esperado.\n",
        "\n",
        "Veamos ahora como utilizar pytest."
      ],
      "metadata": {
        "id": "8h2JmglVHWuA"
      }
    },
    {
      "cell_type": "code",
      "source": [
        "!python -m pytest\n",
        "\n",
        "#Este comando para poner a prueba el test"
      ],
      "metadata": {
        "id": "fGUpo8PLHUc8",
        "colab": {
          "base_uri": "https://localhost:8080/"
        },
        "outputId": "dbca6033-e357-46ed-924b-3e3559bf8806"
      },
      "execution_count": null,
      "outputs": [
        {
          "output_type": "stream",
          "name": "stdout",
          "text": [
            "\u001b[1m============================= test session starts ==============================\u001b[0m\n",
            "platform linux -- Python 3.7.14, pytest-3.6.4, py-1.11.0, pluggy-0.7.1\n",
            "rootdir: /content, inifile:\n",
            "plugins: typeguard-2.7.1\n",
            "\u001b[1m\rcollecting 0 items                                                             \u001b[0m\u001b[1m\rcollecting 1 item                                                              \u001b[0m\u001b[1m\rcollected 1 item                                                               \u001b[0m\n",
            "\n",
            "test_add.py .\u001b[36m                                                            [100%]\u001b[0m\n",
            "\n",
            "\u001b[32m\u001b[1m=========================== 1 passed in 0.03 seconds ===========================\u001b[0m\n"
          ]
        }
      ]
    },
    {
      "cell_type": "markdown",
      "source": [
        "El puntito al lado de `test_add.py` quiere decir que el test corrió con éxito. Agreguemos a propósito un caso de prueba malo para ver que nos dice `pytest` en este caso."
      ],
      "metadata": {
        "id": "rBDrF1aAIX2h"
      }
    },
    {
      "cell_type": "code",
      "source": [
        "%%file test_add.py\n",
        "def add(x, y):\n",
        "  return x + y\n",
        "\n",
        "def test_add():\n",
        "  assert add(0, 0) == 0\n",
        "  assert add(0, 1) == 1\n",
        "  assert add(1, 1) == 2\n",
        "\n",
        "def test_add_bad_case():\n",
        "  assert add(1, 1) == 1\n",
        "\n",
        "#la salida que nos devuelve es que creamos el archivo"
      ],
      "metadata": {
        "id": "LubVGtDuIsOg",
        "colab": {
          "base_uri": "https://localhost:8080/"
        },
        "outputId": "58874bfb-f159-4c64-9634-f8e24843c78f"
      },
      "execution_count": null,
      "outputs": [
        {
          "output_type": "stream",
          "name": "stdout",
          "text": [
            "Overwriting test_add.py\n"
          ]
        }
      ]
    },
    {
      "cell_type": "code",
      "source": [
        "!python -m pytest\n",
        "#este comando para probar el test"
      ],
      "metadata": {
        "id": "hE5zMuSDIztZ",
        "colab": {
          "base_uri": "https://localhost:8080/"
        },
        "outputId": "377d5ec7-8c18-4be4-cd26-a079162d2ca7"
      },
      "execution_count": null,
      "outputs": [
        {
          "output_type": "stream",
          "name": "stdout",
          "text": [
            "\u001b[1m============================= test session starts ==============================\u001b[0m\n",
            "platform linux -- Python 3.7.14, pytest-3.6.4, py-1.11.0, pluggy-0.7.1\n",
            "rootdir: /content, inifile:\n",
            "plugins: typeguard-2.7.1\n",
            "\u001b[1m\rcollecting 0 items                                                             \u001b[0m\u001b[1m\rcollecting 2 items                                                             \u001b[0m\u001b[1m\rcollected 2 items                                                              \u001b[0m\n",
            "\n",
            "test_add.py .F\u001b[36m                                                           [100%]\u001b[0m\n",
            "\n",
            "=================================== FAILURES ===================================\n",
            "\u001b[31m\u001b[1m______________________________ test_add_bad_case _______________________________\u001b[0m\n",
            "\n",
            "\u001b[1m    def test_add_bad_case():\u001b[0m\n",
            "\u001b[1m>     assert add(1, 1) == 1\u001b[0m\n",
            "\u001b[1m\u001b[31mE     assert 2 == 1\u001b[0m\n",
            "\u001b[1m\u001b[31mE      +  where 2 = add(1, 1)\u001b[0m\n",
            "\n",
            "\u001b[1m\u001b[31mtest_add.py\u001b[0m:10: AssertionError\n",
            "\u001b[31m\u001b[1m====================== 1 failed, 1 passed in 0.04 seconds ======================\u001b[0m\n"
          ]
        }
      ]
    },
    {
      "cell_type": "markdown",
      "source": [
        "Notemos que ahora al lado de de `test_add.py` tenemos un punto (por el caso de prueba que corrió bien) y al lado una F. La es por la palabra en inglés *FAILED* (fallido, erróneo), que nos indica que en algún caso de prueba no se cumplió un caso de prueba que esperabamos. Mas abajo, `pytest` imprime un detalle de los errores, incluyendo el valor real calculado para el caso de prueba.\n",
        "\n",
        "Habiendo aprendido esto, quitemos este test erróneo para que no moleste más adelante.\n"
      ],
      "metadata": {
        "id": "14Z35SSMI4o_"
      }
    },
    {
      "cell_type": "code",
      "source": [
        "%%file test_add.py\n",
        "def add(x, y):\n",
        "  return x + y\n",
        "\n",
        "def test_add():\n",
        "  assert add(0, 0) == 0\n",
        "  assert add(0, 1) == 1\n",
        "  assert add(1, 1) == 2"
      ],
      "metadata": {
        "id": "8D7gDL2iLFwY",
        "colab": {
          "base_uri": "https://localhost:8080/"
        },
        "outputId": "032c7a4a-0023-47c9-ca4f-10ed6956c750"
      },
      "execution_count": null,
      "outputs": [
        {
          "output_type": "stream",
          "name": "stdout",
          "text": [
            "Overwriting test_add.py\n"
          ]
        }
      ]
    },
    {
      "cell_type": "markdown",
      "source": [
        "# Programación Orientada a Objetos con Python"
      ],
      "metadata": {
        "id": "j83uJugFVxHm"
      }
    },
    {
      "cell_type": "markdown",
      "source": [
        "Realizar un pequeño proyecto para representar mediante clases y objetos juegos con un mazo de carta españolas, como la casita robada, la escoba de 15, el chinchon o el truco argentino. Recordar escribir en cada ejercicio los casos de prueba que correspondan.\n",
        "\n",
        "Conocimiento de base: Un mazo de cartas españolas trae 50 cartas. Estas estan clasificadas segun su _palo_, que puede ser Bastos, Espadas, Copas u Oros. Hay 12 cartas de cada tipo, numeradas correspondientemente. Es común llamar Sota a la carta con el número 10, Caballo a la carta con el número 11, Rey a la carta con el número 12 y As a la carta con el número. El mazo de cartas de españolas se completa con dos comodines. \n",
        "\n"
      ],
      "metadata": {
        "id": "_HipFk96Vl-l"
      }
    },
    {
      "cell_type": "markdown",
      "source": [
        "#Ejercicio 1: \n",
        "Definir una clase Carta que contenga todos los atributos necesarios para describir las cartas españolas.\n",
        "\n",
        "\n"
      ],
      "metadata": {
        "id": "PcU1_43LoF-T"
      }
    },
    {
      "cell_type": "code",
      "execution_count": null,
      "metadata": {
        "id": "k5HiDX3OXK9F",
        "colab": {
          "base_uri": "https://localhost:8080/"
        },
        "outputId": "ef8c0f4b-942d-4e10-fa3a-4b021d75c4ea"
      },
      "outputs": [
        {
          "output_type": "stream",
          "name": "stdout",
          "text": [
            "Writing test_carta.py\n"
          ]
        }
      ],
      "source": [
        "%%file test_carta.py\n",
        "\n",
        "class Carta():\n",
        "\n",
        "  def __init__(self, numero=None, palo=None, es_comodin=False): \n",
        "    self.numero = numero\n",
        "    self.palo = palo\n",
        "    self.es_comodin = es_comodin\n",
        "\n",
        "#Afuera de la clase definimos el test\n",
        "\n",
        "def test_ancho_de_espadas():\n",
        "    ancho_de_espadas = Carta(1, \"espadas\") #en vez de self el obejeto que creamos se llama ancho_de_espadas\n",
        "    assert ancho_de_espadas.numero == 1\n",
        "    assert ancho_de_espadas.palo == \"espadas\"\n",
        "    assert ancho_de_espadas.es_comodin == False"
      ]
    },
    {
      "cell_type": "markdown",
      "source": [
        "  def __init__(self, numero=None, palo=None, es_comodin=False): \n",
        "\n",
        "---\n",
        "El igual =None or False se pone para comentar que pasa si no le pasamos nada como parámetro\n",
        "\n"
      ],
      "metadata": {
        "id": "gdrRhkOCeVFO"
      }
    },
    {
      "cell_type": "code",
      "source": [
        "!python -m pytest "
      ],
      "metadata": {
        "id": "Itx3bdurMVeq",
        "colab": {
          "base_uri": "https://localhost:8080/"
        },
        "outputId": "73e68d3d-0573-4dff-bfb0-67c33067fe30"
      },
      "execution_count": null,
      "outputs": [
        {
          "output_type": "stream",
          "name": "stdout",
          "text": [
            "\u001b[1m============================= test session starts ==============================\u001b[0m\n",
            "platform linux -- Python 3.7.14, pytest-3.6.4, py-1.11.0, pluggy-0.7.1\n",
            "rootdir: /content, inifile:\n",
            "plugins: typeguard-2.7.1\n",
            "\u001b[1m\rcollecting 0 items                                                             \u001b[0m\u001b[1m\rcollecting 1 item                                                              \u001b[0m\u001b[1m\rcollecting 2 items                                                             \u001b[0m\u001b[1m\rcollected 2 items                                                              \u001b[0m\n",
            "\n",
            "test_add.py .\u001b[36m                                                            [ 50%]\u001b[0m\n",
            "test_carta.py .\u001b[36m                                                          [100%]\u001b[0m\n",
            "\n",
            "\u001b[32m\u001b[1m=========================== 2 passed in 0.04 seconds ===========================\u001b[0m\n"
          ]
        }
      ]
    },
    {
      "cell_type": "markdown",
      "source": [
        "#Ejercicio 2: \n",
        "Instanciar objetos que representen el as de espadas, un comodín, el 3 de copas y el rey de bastos"
      ],
      "metadata": {
        "id": "WtElgLpHY6oz"
      }
    },
    {
      "cell_type": "code",
      "source": [
        "#Hecho en clase\n",
        "from test_carta import Carta\n",
        "\n",
        "comodin0 = Carta(None, None, True)\n",
        "comodin1 = Carta(es_comodin=True)\n",
        "\n",
        "tres_de_copas = Carta(3, \"copas\")\n",
        "rey_de_bastos = Carta(12, \"bastos\")\n",
        "\n",
        "#cosas que pruebo yo\n",
        "print(tres_de_copas.numero)\n",
        "print(tres_de_copas.es_comodin)\n",
        "print(tres_de_copas)\n"
      ],
      "metadata": {
        "id": "OkoXNy9sL3mD",
        "colab": {
          "base_uri": "https://localhost:8080/"
        },
        "outputId": "4010c47c-8b79-44ad-f5df-cd0b5e5c9f29"
      },
      "execution_count": null,
      "outputs": [
        {
          "output_type": "stream",
          "name": "stdout",
          "text": [
            "3\n",
            "False\n",
            "<test_carta.Carta object at 0x7f115db2a310>\n"
          ]
        }
      ]
    },
    {
      "cell_type": "markdown",
      "source": [
        "En el siguiente ejercicio vemos como se imprime de forma \"amigable\" un objeto de la clase, pues para ello dentro de la clase tenemos que definir el método _ _ str _ _"
      ],
      "metadata": {
        "id": "dpvgNcTTh0TI"
      }
    },
    {
      "cell_type": "code",
      "source": [
        "%%file test_carta2.py\n",
        "\n",
        "#Ejer 2 Hecho por mi\n",
        "\n",
        "from test_carta import Carta\n",
        "\n",
        "comodin = Carta(None,None,True)\n",
        "cuatro_de_copas = Carta(4,\"copa\") #si no ponemos nada como tercer argumento por defecto es False\n",
        "as_de_bastos = Carta(1, \"bastos\")\n",
        "\n",
        "print(cuatro_de_copas.numero)"
      ],
      "metadata": {
        "colab": {
          "base_uri": "https://localhost:8080/"
        },
        "id": "coqeNJame9U9",
        "outputId": "f4badd30-f535-4d6d-9153-6ebb1021c5a7"
      },
      "execution_count": null,
      "outputs": [
        {
          "output_type": "stream",
          "name": "stdout",
          "text": [
            "Writing test_carta2.py\n"
          ]
        }
      ]
    },
    {
      "cell_type": "code",
      "source": [
        "!python test_carta2.py #ejecita el archivo, entonces hace el print que tiene el archivo"
      ],
      "metadata": {
        "colab": {
          "base_uri": "https://localhost:8080/"
        },
        "id": "OX7cNVhGqJoY",
        "outputId": "e0ec06cd-dc0b-49ae-ce40-ec5ebf573c5c"
      },
      "execution_count": null,
      "outputs": [
        {
          "output_type": "stream",
          "name": "stdout",
          "text": [
            "4\n"
          ]
        }
      ]
    },
    {
      "cell_type": "markdown",
      "source": [
        "#Ejercicio 3: \n",
        "Definir un método que nos permita imprimir las cartas como lo haríamos naturalmente. Ejemplo: 5 de Basto."
      ],
      "metadata": {
        "id": "f_BNcaksacdM"
      }
    },
    {
      "cell_type": "markdown",
      "source": [
        "Ya vimos que cuando imprimimos un objeto, el resultado no es muy agradable a la vista. Para corregir esto\n",
        "podemos utilizar el método mágico __str__ que será llamado por Python cada vez que quiera mostrarnos\n",
        "por pantalla un objeto. Mediante este método esperamos obtener una descripción amigable y legible del\n",
        "objeto, que contenga todos los datos o al menos aquellos que consideremos más relevantes."
      ],
      "metadata": {
        "id": "JhW7RiKGhAOu"
      }
    },
    {
      "cell_type": "markdown",
      "source": [
        "def __str__(self):\n",
        "retur f\"lo que queremps escribir y cuando es un atributo va entre {}\""
      ],
      "metadata": {
        "id": "EE81J4kyhG7A"
      }
    },
    {
      "cell_type": "code",
      "source": [
        "#Hecho por mi\n",
        "\n",
        "class Carta():\n",
        "\n",
        "  def __init__(self, numero=None, palo=None, es_comodin=False):\n",
        "    self.numero = numero\n",
        "    self.palo = palo\n",
        "    self.es_comodin = es_comodin\n",
        "    self._apodos = {1: \"As\", 10: \"Sota\", 11: \"Caballo\", 12: \"Rey\"}\n",
        "\n",
        "  def __str__(self):\n",
        "    if self.es_comodin == True:\n",
        "      return \"Comodin\"\n",
        "    if self.numero in self._apodos.keys():\n",
        "      return f\"{self._apodos[self.numero]} de {self.palo}\"\n",
        "    return f\"{self.numero} de {self.palo}\"\n",
        "    \n",
        "\n",
        "mycarta=Carta(12, \"basto\")\n",
        "print(mycarta)\n",
        "comodin=Carta(None,None,True)\n",
        "print(comodin)"
      ],
      "metadata": {
        "colab": {
          "base_uri": "https://localhost:8080/"
        },
        "id": "x_MsweAPhnz0",
        "outputId": "bbf3028a-b3a9-4f9e-87a8-ec571280b732"
      },
      "execution_count": null,
      "outputs": [
        {
          "output_type": "stream",
          "name": "stdout",
          "text": [
            "Rey de basto\n",
            "Comodin\n"
          ]
        }
      ]
    },
    {
      "cell_type": "code",
      "source": [
        "#Hecho en clase\n",
        "%%file test_carta.py\n",
        "\n",
        "class Carta():\n",
        "\n",
        "  def __init__(self, numero=None, palo=None, es_comodin=False):\n",
        "    self.numero = numero\n",
        "    self.palo = palo\n",
        "    self.es_comodin = es_comodin\n",
        "    self._apodos = {1: \"As\", 10: \"Sota\", 11: \"Caballo\", 12: \"Rey\"}\n",
        "\n",
        "  def __str__(self):\n",
        "    if self.es_comodin == True:\n",
        "      return \"Comodin\"\n",
        "    if self.numero in self._apodos.keys():\n",
        "      return f\"{self._apodos[self.numero]} de {self.palo}\"\n",
        "    return f\"{self.numero} de {self.palo}\"\n",
        "    \n",
        "\n",
        "mycarta=Carta(12, \"basto\")\n",
        "print(mycarta) #¿por qué cuando lo ejecuto no me muestra nada? ¿No debería mostrar es 12 de basto?\n",
        "\n",
        "def test_ancho_de_espadas():\n",
        "    ancho_de_espadas = Carta(1, \"espadas\")\n",
        "    assert ancho_de_espadas.numero == 1\n",
        "    assert ancho_de_espadas.palo == \"espadas\"\n",
        "    assert ancho_de_espadas.es_comodin == False\n",
        "\n",
        "def test_rey_de_bastos():\n",
        "  mycarta=Carta(12, \"bastos\")\n",
        "  assert str(mycarta) == \"Rey de bastos\"\n",
        "\n"
      ],
      "metadata": {
        "id": "1YOEW6o2Zda2",
        "colab": {
          "base_uri": "https://localhost:8080/"
        },
        "outputId": "b783ddca-5942-47c7-91c2-3aae401e2b64"
      },
      "execution_count": null,
      "outputs": [
        {
          "output_type": "stream",
          "name": "stdout",
          "text": [
            "Overwriting test_carta.py\n"
          ]
        }
      ]
    },
    {
      "cell_type": "code",
      "source": [
        "!python -m pytest #¿Por qué los errores de abajo? Funciona"
      ],
      "metadata": {
        "id": "jUrQCYoAMdP6",
        "colab": {
          "base_uri": "https://localhost:8080/"
        },
        "outputId": "e20de786-ae52-419b-b046-5c4f0b55c5ec"
      },
      "execution_count": null,
      "outputs": [
        {
          "output_type": "stream",
          "name": "stdout",
          "text": [
            "\u001b[1m============================= test session starts ==============================\u001b[0m\n",
            "platform linux -- Python 3.7.14, pytest-3.6.4, py-1.11.0, pluggy-0.7.1\n",
            "rootdir: /content, inifile:\n",
            "plugins: typeguard-2.7.1\n",
            "\u001b[1m\rcollecting 0 items                                                             \u001b[0m\u001b[1m\rcollecting 1 item                                                              \u001b[0m\u001b[1m\rcollecting 2 items                                                             \u001b[0m\u001b[1m\rcollecting 2 items                                                             \u001b[0m\u001b[1m\rcollected 2 items                                                              \u001b[0m\n",
            "\n",
            "test_add.py .\u001b[36m                                                            [ 50%]\u001b[0m\n",
            "test_carta.py .\u001b[36m                                                          [100%]\u001b[0m\n",
            "\n",
            "\u001b[32m\u001b[1m=========================== 2 passed in 0.02 seconds ===========================\u001b[0m\n"
          ]
        }
      ]
    },
    {
      "cell_type": "markdown",
      "source": [
        "# Ejercicio 4: \n",
        "Escribir un método que nos permita comparar cartas por igualdad"
      ],
      "metadata": {
        "id": "1lthhz-4bTGh"
      }
    },
    {
      "cell_type": "code",
      "source": [
        "%%file test_carta.py\n",
        "\n",
        "class Carta():\n",
        "\n",
        "  def __init__(self, numero=None, palo=None, es_comodin=False):\n",
        "    self.numero = numero\n",
        "    self.palo = palo\n",
        "    self.es_comodin = es_comodin\n",
        "    self._apodos = {1: \"As\", 10: \"Sota\", 11: \"Caballo\", 12: \"Rey\"}\n",
        "\n",
        "  def __str__(self):\n",
        "    if self.es_comodin == True:\n",
        "      return \"Comodin\"\n",
        "    if self.numero in self._apodos.keys():\n",
        "      return f\"{self._apodos[self.numero]} de {self.palo}\"\n",
        "    return f\"{self.numero} de {self.palo}\"\n",
        "    \n",
        "  def __eq__(self, other): #other es otro objeto de la misma clase\n",
        "    return self.es_comodin == other.es_comodin and \\\n",
        "    self.numero == other.numero and \\\n",
        "    self.palo == other.palo\n",
        "    #la barra es para partir la línea y seguir abajo\n",
        "\n",
        "mycarta=Carta(12, \"basto\")\n",
        "print(mycarta)\n",
        "\n",
        "def test_ancho_de_espadas():\n",
        "    ancho_de_espadas = Carta(1, \"espadas\")\n",
        "    assert ancho_de_espadas.numero == 1\n",
        "    assert ancho_de_espadas.palo == \"espadas\"\n",
        "    assert ancho_de_espadas.es_comodin == False\n",
        "\n",
        "def test_rey_de_bastos():\n",
        "  mycarta=Carta(12, \"bastos\")\n",
        "  assert str(mycarta) == \"Rey de bastos\"\n",
        "\n",
        "def test_igualidad():\n",
        "  mycarta1=Carta(12, \"bastos\")\n",
        "  mycarta2=Carta(12, \"bastos\", False)\n",
        "  assert mycarta1 == mycarta2\n"
      ],
      "metadata": {
        "id": "cIW8WM6ObYhY",
        "colab": {
          "base_uri": "https://localhost:8080/"
        },
        "outputId": "ece959bd-92b1-4035-b88b-ad576ba99765"
      },
      "execution_count": null,
      "outputs": [
        {
          "output_type": "stream",
          "name": "stdout",
          "text": [
            "Overwriting test_carta.py\n"
          ]
        }
      ]
    },
    {
      "cell_type": "code",
      "source": [
        "!python test_carta.py && python -m pytest \n",
        "#corre el archivo y el test"
      ],
      "metadata": {
        "id": "4MkdXfEWM77D",
        "colab": {
          "base_uri": "https://localhost:8080/"
        },
        "outputId": "1f0e1d75-f03e-4725-d6de-d63b0582f4b6"
      },
      "execution_count": null,
      "outputs": [
        {
          "output_type": "stream",
          "name": "stdout",
          "text": [
            "Rey de basto\n",
            "\u001b[1m============================= test session starts ==============================\u001b[0m\n",
            "platform linux -- Python 3.7.14, pytest-3.6.4, py-1.11.0, pluggy-0.7.1\n",
            "rootdir: /content, inifile:\n",
            "plugins: typeguard-2.7.1\n",
            "collected 4 items                                                              \u001b[0m\n",
            "\n",
            "test_add.py .\u001b[36m                                                            [ 25%]\u001b[0m\n",
            "test_carta.py ...\u001b[36m                                                        [100%]\u001b[0m\n",
            "\n",
            "\u001b[32m\u001b[1m=========================== 4 passed in 0.02 seconds ===========================\u001b[0m\n"
          ]
        }
      ]
    },
    {
      "cell_type": "code",
      "source": [
        "!python test_carta.py\n",
        "#corre solo el archivo, no ejecuta el comando"
      ],
      "metadata": {
        "colab": {
          "base_uri": "https://localhost:8080/"
        },
        "id": "HinPcXnvr1Hr",
        "outputId": "00000fe5-d29d-46e0-e95e-a9019373939c"
      },
      "execution_count": null,
      "outputs": [
        {
          "output_type": "stream",
          "name": "stdout",
          "text": [
            "Rey de basto\n"
          ]
        }
      ]
    },
    {
      "cell_type": "markdown",
      "source": [
        "#Ejercicio 5: \n",
        "\n",
        "Escribir una clase mazo, que construya el mazo de cartas españolas. Escribir un método que devuelve cuantas cartas hay en el mazo."
      ],
      "metadata": {
        "id": "7NlRlvLtb8xE"
      }
    },
    {
      "cell_type": "code",
      "source": [
        "%%file test_mazo.py\n",
        "\n",
        "from test_carta import Carta # Importamos carta\n",
        "\n",
        "class Mazo():\n",
        "  def __init__(self):\n",
        "    self.cartas = []\n",
        "    for i in range(1,13):\n",
        "      for j in [\"espada\", \"oro\", \"basto\", \"copa\"]:\n",
        "        self.cartas.append(Carta(i,j))\n",
        "    self.cartas.append(Carta(es_comodin=True))\n",
        "    self.cartas.append(Carta(es_comodin=True))\n",
        "    \n",
        "\n",
        "  def cant_cartas(self):\n",
        "    return len(self.cartas)\n",
        "\n",
        "  def imprimir(self):\n",
        "    for i in self.cartas:\n",
        "      print(i)\n",
        "  \n",
        "  def __str__(self):\n",
        "    if self.es_comodin == True:\n",
        "      return \"Comodin\"\n",
        "    if self.numero in self._apodos.keys():\n",
        "      return f\"{self._apodos[self.numero]} de {self.palo}\"\n",
        "    return f\"{self.numero} de {self.palo}\"\n",
        "\n",
        "mazo = Mazo()\n",
        "mazo.imprimir()\n",
        "\n",
        "def test_cantidad_cartas():\n",
        "  mazo = Mazo()\n",
        "  assert mazo.cant_cartas() == 50 #nombre de la variable . método (función) ()\n"
      ],
      "metadata": {
        "colab": {
          "base_uri": "https://localhost:8080/"
        },
        "id": "k677QqBHZGr5",
        "outputId": "b130cd48-0f73-4c69-805d-6cacc618ff09"
      },
      "execution_count": null,
      "outputs": [
        {
          "output_type": "stream",
          "name": "stdout",
          "text": [
            "Writing test_mazo.py\n"
          ]
        }
      ]
    },
    {
      "cell_type": "code",
      "source": [
        "!python -m pytest"
      ],
      "metadata": {
        "id": "xGX11JypNTKi",
        "colab": {
          "base_uri": "https://localhost:8080/"
        },
        "outputId": "b4238524-b342-47c7-ae4e-9f5021c58382"
      },
      "execution_count": null,
      "outputs": [
        {
          "output_type": "stream",
          "name": "stdout",
          "text": [
            "\u001b[1m============================= test session starts ==============================\u001b[0m\n",
            "platform linux -- Python 3.7.14, pytest-3.6.4, py-1.11.0, pluggy-0.7.1\n",
            "rootdir: /content, inifile:\n",
            "plugins: typeguard-2.7.1\n",
            "\u001b[1m\rcollecting 0 items                                                             \u001b[0m\u001b[1m\rcollecting 1 item                                                              \u001b[0m\u001b[1m\rcollecting 4 items                                                             \u001b[0m\u001b[1m\rcollecting 4 items                                                             \u001b[0m\u001b[1m\rcollecting 5 items                                                             \u001b[0m\u001b[1m\rcollected 5 items                                                              \u001b[0m\n",
            "\n",
            "test_add.py .\u001b[36m                                                            [ 20%]\u001b[0m\n",
            "test_carta.py ...\u001b[36m                                                        [ 80%]\u001b[0m\n",
            "test_mazo.py .\u001b[36m                                                           [100%]\u001b[0m\n",
            "\n",
            "\u001b[32m\u001b[1m=========================== 5 passed in 0.03 seconds ===========================\u001b[0m\n"
          ]
        }
      ]
    },
    {
      "cell_type": "code",
      "source": [
        "!python test_mazo.py #test_mazo es el nombre del file\n",
        "\n",
        "#Nos ejecuta el arcivo, y nos hace el print que solicitamos en él\n"
      ],
      "metadata": {
        "colab": {
          "base_uri": "https://localhost:8080/"
        },
        "id": "WZ27SHc1Zukf",
        "outputId": "009dc5a0-eb71-40c0-dcd0-0c4ba874fb59"
      },
      "execution_count": null,
      "outputs": [
        {
          "output_type": "stream",
          "name": "stdout",
          "text": [
            "Rey de basto\n",
            "As de espada\n",
            "As de oro\n",
            "As de basto\n",
            "As de copa\n",
            "2 de espada\n",
            "2 de oro\n",
            "2 de basto\n",
            "2 de copa\n",
            "3 de espada\n",
            "3 de oro\n",
            "3 de basto\n",
            "3 de copa\n",
            "4 de espada\n",
            "4 de oro\n",
            "4 de basto\n",
            "4 de copa\n",
            "5 de espada\n",
            "5 de oro\n",
            "5 de basto\n",
            "5 de copa\n",
            "6 de espada\n",
            "6 de oro\n",
            "6 de basto\n",
            "6 de copa\n",
            "7 de espada\n",
            "7 de oro\n",
            "7 de basto\n",
            "7 de copa\n",
            "8 de espada\n",
            "8 de oro\n",
            "8 de basto\n",
            "8 de copa\n",
            "9 de espada\n",
            "9 de oro\n",
            "9 de basto\n",
            "9 de copa\n",
            "Sota de espada\n",
            "Sota de oro\n",
            "Sota de basto\n",
            "Sota de copa\n",
            "Caballo de espada\n",
            "Caballo de oro\n",
            "Caballo de basto\n",
            "Caballo de copa\n",
            "Rey de espada\n",
            "Rey de oro\n",
            "Rey de basto\n",
            "Rey de copa\n",
            "Comodin\n",
            "Comodin\n"
          ]
        }
      ]
    },
    {
      "cell_type": "markdown",
      "source": [
        "#Ejercicio 6: \n",
        "Escribir un método en la clase Mazo que *mezcle* el mazo. Puede ser de utilidad el módulo [`random`](https://docs.python.org/3/library/random.html) de la biblioteca estándar de Python."
      ],
      "metadata": {
        "id": "d7qIHM8Ycyek"
      }
    },
    {
      "cell_type": "code",
      "source": [
        "%%file test_mazo.py\n",
        "\n",
        "import random\n",
        "from test_carta import Carta # Importamos carta\n",
        "\n",
        "class Mazo():\n",
        "  def __init__(self):\n",
        "    self.cartas = []\n",
        "    for i in range(1,13):\n",
        "      for j in [\"espada\", \"oro\", \"basto\", \"copa\"]:\n",
        "        self.cartas.append(Carta(i,j))\n",
        "    self.cartas.append(Carta(es_comodin=True))\n",
        "    self.cartas.append(Carta(es_comodin=True))\n",
        "    \n",
        "\n",
        "  def cant_cartas(self):\n",
        "    return len(self.cartas)\n",
        "\n",
        "  def imprimir(self):\n",
        "    for i in self.cartas:\n",
        "      return f\"{self.cartas}\"\n",
        "\n",
        "  def mezclar(self):\n",
        "    random.shuffle(self.cartas)\n",
        "  \n",
        "  def __str__(self):\n",
        "    string = \"\"\n",
        "    for carta in self.cartas:\n",
        "      string += Carta.str()\n",
        "      strig += \"\\n\"\n",
        "    return strig\n",
        "\n",
        "# test\n",
        "\n",
        "def test_cantidad_cartas():\n",
        "  mazo = Mazo()\n",
        "  assert mazo.cant_cartas() == 50 #nombre de la variable . método (función) ()\n",
        "\n",
        "def test_mezclar():\n",
        "  mazo = Mazo()\n",
        "  mazo.mezclar()\n",
        "  assert (str(mazo.cartas[49]) != \"Comodin\") or\\\n",
        "         (str(mazo.cartas[48]) != \"Comodin\") or\\\n",
        "         (str(mazo.cartas[0]) != \"As de Oro\") or\\\n",
        "         (str(mazo.cartas[12]) != \"As de Espada\") or\\\n",
        "         (str(mazo.cartas[24]) != \"As de Basto\") or\\\n",
        "         (str(mazo.cartas[36]) != \"As de Espada\") \n",
        "\n",
        "#Queremos ver que el contenido de la lista, es decir el mazo\n",
        "#se haya mezclado\n",
        "\n",
        "mazo = Mazo()\n",
        "mazo.mezclar()\n",
        "print(mazo)"
      ],
      "metadata": {
        "id": "ic6ZudeEdRsO",
        "colab": {
          "base_uri": "https://localhost:8080/"
        },
        "outputId": "5fe4b973-2e98-4180-f530-fb257db15fbb"
      },
      "execution_count": null,
      "outputs": [
        {
          "output_type": "stream",
          "name": "stdout",
          "text": [
            "Overwriting test_mazo.py\n"
          ]
        }
      ]
    },
    {
      "cell_type": "code",
      "source": [
        "!python -m pytest"
      ],
      "metadata": {
        "colab": {
          "base_uri": "https://localhost:8080/"
        },
        "id": "QtTDP__vl-B8",
        "outputId": "01422c80-4745-499a-c864-210aeb436229"
      },
      "execution_count": null,
      "outputs": [
        {
          "output_type": "stream",
          "name": "stdout",
          "text": [
            "\u001b[1m============================= test session starts ==============================\u001b[0m\n",
            "platform linux -- Python 3.7.14, pytest-3.6.4, py-1.11.0, pluggy-0.7.1\n",
            "rootdir: /content, inifile:\n",
            "plugins: typeguard-2.7.1\n",
            "\u001b[1m\rcollecting 0 items                                                             \u001b[0m\u001b[1m\rcollecting 1 item                                                              \u001b[0m\u001b[1m\rcollecting 4 items                                                             \u001b[0m\u001b[1m\rcollecting 4 items                                                             \u001b[0m\u001b[1m\rcollecting 4 items / 1 errors                                                  \u001b[0m\u001b[1m\rcollected 4 items / 1 errors                                                   \u001b[0m\n",
            "\n",
            "==================================== ERRORS ====================================\n",
            "________________________ ERROR collecting test_mazo.py _________________________\n",
            "\u001b[1m\u001b[31mtest_mazo.py\u001b[0m:53: in <module>\n",
            "\u001b[1m    print(mazo)\u001b[0m\n",
            "\u001b[1m\u001b[31mtest_mazo.py\u001b[0m:28: in __str__\n",
            "\u001b[1m    string += Carta.str()\u001b[0m\n",
            "\u001b[1m\u001b[31mE   AttributeError: type object 'Carta' has no attribute 'str'\u001b[0m\n",
            "!!!!!!!!!!!!!!!!!!! Interrupted: 1 errors during collection !!!!!!!!!!!!!!!!!!!!\n",
            "\u001b[31m\u001b[1m=========================== 1 error in 0.08 seconds ============================\u001b[0m\n"
          ]
        }
      ]
    },
    {
      "cell_type": "markdown",
      "source": [
        "#Ejercicio 7: \n",
        "Implementar en la clase Mazo, un método que permita sacar una carta específica del mazo, y que devuelva `True` si la carta estaba presente o `False` si no lo estaba."
      ],
      "metadata": {
        "id": "uadyoUmidPTU"
      }
    },
    {
      "cell_type": "code",
      "source": [
        "%%file test_mazo.py\n",
        "\n",
        "import random\n",
        "from test_carta import Carta # Importamos carta\n",
        "\n",
        "class Mazo():\n",
        "  def __init__(self):\n",
        "    self.cartas = []\n",
        "    for i in range(1,13):\n",
        "      for j in [\"espada\", \"oro\", \"bastos\", \"copa\"]:\n",
        "        self.cartas.append(Carta(i,j))\n",
        "    self.cartas.append(Carta(es_comodin=True))\n",
        "    self.cartas.append(Carta(es_comodin=True))\n",
        "\n",
        "  def cant_cartas(self):\n",
        "    return len(self.cartas)\n",
        "  \n",
        "  def mezclar(self):\n",
        "    random.shuffle(self.cartas)\n",
        "  \n",
        "  def __str__(self):\n",
        "    string = \"\"\n",
        "    for carta in self.cartas:\n",
        "      string += carta.__str__()\n",
        "      string += \"\\n\"\n",
        "    \n",
        "    return string\n",
        "\n",
        "  def carta_especifica(self, carta):\n",
        "    if carta in self.cartas:\n",
        "      return True\n",
        "    return False\n",
        "\n",
        "#TEST\n",
        "\n",
        "def test_carta_especifica():\n",
        "  mazo = Mazo()\n",
        "  carta1 = Carta(13, \"oro\")\n",
        "  carta2 = Carta(2, \"bastos\", False)\n",
        "  assert mazo.carta_especifica(carta1) == False\n",
        "  assert mazo.carta_especifica(carta2) == True"
      ],
      "metadata": {
        "id": "1leDuElZd-KI",
        "colab": {
          "base_uri": "https://localhost:8080/"
        },
        "outputId": "b5b58777-0af2-4edf-8fbd-83c38bbbd7d6"
      },
      "execution_count": null,
      "outputs": [
        {
          "output_type": "stream",
          "name": "stdout",
          "text": [
            "Overwriting test_mazo.py\n"
          ]
        }
      ]
    },
    {
      "cell_type": "code",
      "source": [
        "!python -m pytest"
      ],
      "metadata": {
        "id": "9J2VWPiGOR-a",
        "colab": {
          "base_uri": "https://localhost:8080/"
        },
        "outputId": "22e21b41-cb78-4b4d-ba0c-64cb20775dfe"
      },
      "execution_count": null,
      "outputs": [
        {
          "output_type": "stream",
          "name": "stdout",
          "text": [
            "\u001b[1m============================= test session starts ==============================\u001b[0m\n",
            "platform linux -- Python 3.7.14, pytest-3.6.4, py-1.11.0, pluggy-0.7.1\n",
            "rootdir: /content, inifile:\n",
            "plugins: typeguard-2.7.1\n",
            "\u001b[1m\rcollecting 0 items                                                             \u001b[0m\u001b[1m\rcollecting 1 item                                                              \u001b[0m\u001b[1m\rcollecting 4 items                                                             \u001b[0m\u001b[1m\rcollecting 4 items                                                             \u001b[0m\u001b[1m\rcollecting 5 items                                                             \u001b[0m\u001b[1m\rcollected 5 items                                                              \u001b[0m\n",
            "\n",
            "test_add.py .\u001b[36m                                                            [ 20%]\u001b[0m\n",
            "test_carta.py ...\u001b[36m                                                        [ 80%]\u001b[0m\n",
            "test_mazo.py .\u001b[36m                                                           [100%]\u001b[0m\n",
            "\n",
            "\u001b[32m\u001b[1m=========================== 5 passed in 0.03 seconds ===========================\u001b[0m\n"
          ]
        }
      ]
    },
    {
      "cell_type": "code",
      "source": [
        "%%file test_mazo.py\n",
        "\n",
        "import random\n",
        "from test_carta import Carta # Importamos carta\n",
        "\n",
        "class Mazo():\n",
        "  def __init__(self):\n",
        "    self.cartas = []\n",
        "    for i in range(1,13):\n",
        "      for j in [\"espada\", \"oro\", \"bastos\", \"copa\"]:\n",
        "        self.cartas.append(Carta(i,j))\n",
        "    self.cartas.append(Carta(es_comodin=True))\n",
        "    self.cartas.append(Carta(es_comodin=True))\n",
        "\n",
        "  def cant_cartas(self):\n",
        "    return len(self.cartas)\n",
        "  \n",
        "  def mezclar(self):\n",
        "    random.shuffle(self.cartas)\n",
        "  \n",
        "  def __str__(self):\n",
        "    string = \"\"\n",
        "    for carta in self.cartas:\n",
        "      string += carta.__str__()\n",
        "      string += \"\\n\"\n",
        "    \n",
        "    return string\n",
        "\n",
        "  def carta_especifica(self, carta):\n",
        "    if carta in self.cartas:\n",
        "      return True\n",
        "    return False\n",
        "\n",
        "#TEST\n",
        "def test_carta_especifica():\n",
        "  mazo = Mazo()\n",
        "  carta1 = Carta(13, \"oro\")\n",
        "  carta2 = Carta(2, \"bastos\", False)\n",
        "  assert mazo.carta_especifica(carta1) == False\n",
        "  assert mazo.carta_especifica(carta2) == True"
      ],
      "metadata": {
        "id": "Zt3JiCVApa_3",
        "colab": {
          "base_uri": "https://localhost:8080/"
        },
        "outputId": "16bc2b7f-54d9-4b87-d2de-ee038940e3f5"
      },
      "execution_count": null,
      "outputs": [
        {
          "output_type": "stream",
          "name": "stdout",
          "text": [
            "Overwriting test_mazo.py\n"
          ]
        }
      ]
    },
    {
      "cell_type": "markdown",
      "source": [
        "#Ejercicio 8: \n",
        "Implementar un método `sacar_carta` para robar una carta del mazo, es decir, para sacar aquella que se encuentra primera.\n",
        "\n"
      ],
      "metadata": {
        "id": "7U6z7JQneWSM"
      }
    },
    {
      "cell_type": "code",
      "source": [
        "%%file test_mazo.py\n",
        "\n",
        "import random\n",
        "from test_carta import Carta\n",
        "\n",
        "#No olvides copiarte lo que resolviste en el punto anterior\n",
        "class Mazo():\n",
        "  def __init__(self):\n",
        "    self.cartas = []\n",
        "    for i in range(1,13):\n",
        "      for j in [\"espada\", \"oro\", \"bastos\", \"copa\"]:\n",
        "        self.cartas.append(Carta(i,j))\n",
        "    self.cartas.append(Carta(es_comodin=True))\n",
        "    self.cartas.append(Carta(es_comodin=True))\n",
        "\n",
        "  def cant_cartas(self):\n",
        "    return len(self.cartas)\n",
        "  \n",
        "  def mezclar(self):\n",
        "    random.shuffle(self.cartas)\n",
        "  \n",
        "  def __str__(self):\n",
        "    string = \"\"\n",
        "    for carta in self.cartas:\n",
        "      string += carta.__str__()\n",
        "      string += \"\\n\"\n",
        "    \n",
        "    return string\n",
        "\n",
        "  def carta_especifica(self, carta):\n",
        "    if carta in self.cartas:\n",
        "      return True\n",
        "    return False\n",
        "\n",
        "  def sacar_carta(self):\n",
        "    return self.cartas.pop()\n",
        "\n",
        "# Tests:\n",
        "\n",
        "def test_cant_cartas():\n",
        "  mazo = Mazo()\n",
        "  assert mazo.cant_cartas() == 50\n",
        "\n",
        "def test_mezclar():\n",
        "  mazo = Mazo()\n",
        "  mazo.mezclar()\n",
        "  assert (str(mazo.cartas[49]) != \"Comodin\") or\\\n",
        "         (str(mazo.cartas[48]) != \"Comodin\") or\\\n",
        "         (str(mazo.cartas[0]) != \"As de Oro\") or\\\n",
        "         (str(mazo.cartas[12]) != \"As de Espada\") or\\\n",
        "         (str(mazo.cartas[24]) != \"As de Basto\") or\\\n",
        "         (str(mazo.cartas[36]) != \"As de Espada\")\n",
        "         \n",
        "def test_carta_especifica():\n",
        "  mazo = Mazo()\n",
        "  carta1 = Carta(13, \"oro\")\n",
        "  carta2 = Carta(2, \"bastos\", False)\n",
        "  assert mazo.carta_especifica(carta1) == False\n",
        "  assert mazo.carta_especifica(carta2) == True\n",
        "\n",
        "def test_sacar_carta():\n",
        "  mazo = Mazo()\n",
        "  assert str(mazo.sacar_carta()) == \"Comodin\"\n",
        "  assert str(mazo.sacar_carta()) == \"Comodin\"\n",
        "  assert str(mazo.sacar_carta()) == \"Rey de copa\"\n",
        "  \n",
        "\n"
      ],
      "metadata": {
        "id": "bNZNdtm8fVDM",
        "colab": {
          "base_uri": "https://localhost:8080/"
        },
        "outputId": "562dcfcd-3bdb-4327-d8bd-6ea9fc2ae032"
      },
      "execution_count": null,
      "outputs": [
        {
          "output_type": "stream",
          "name": "stdout",
          "text": [
            "Overwriting test_mazo.py\n"
          ]
        }
      ]
    },
    {
      "cell_type": "code",
      "source": [
        "!python -m pytest"
      ],
      "metadata": {
        "id": "0_pcJRlZOrh8",
        "colab": {
          "base_uri": "https://localhost:8080/"
        },
        "outputId": "66e97b1e-e449-4463-fc2c-ac0d88a3d8f4"
      },
      "execution_count": null,
      "outputs": [
        {
          "output_type": "stream",
          "name": "stdout",
          "text": [
            "\u001b[1m============================= test session starts ==============================\u001b[0m\n",
            "platform linux -- Python 3.7.14, pytest-3.6.4, py-1.11.0, pluggy-0.7.1\n",
            "rootdir: /content, inifile:\n",
            "plugins: typeguard-2.7.1\n",
            "\u001b[1m\rcollecting 0 items                                                             \u001b[0m\u001b[1m\rcollecting 1 item                                                              \u001b[0m\u001b[1m\rcollecting 4 items                                                             \u001b[0m\u001b[1m\rcollecting 4 items                                                             \u001b[0m\u001b[1m\rcollecting 5 items                                                             \u001b[0m\u001b[1m\rcollected 5 items                                                              \u001b[0m\n",
            "\n",
            "test_add.py .\u001b[36m                                                            [ 20%]\u001b[0m\n",
            "test_carta.py ...\u001b[36m                                                        [ 80%]\u001b[0m\n",
            "test_mazo.py .\u001b[36m                                                           [100%]\u001b[0m\n",
            "\n",
            "\u001b[32m\u001b[1m=========================== 5 passed in 0.03 seconds ===========================\u001b[0m\n"
          ]
        }
      ]
    },
    {
      "cell_type": "markdown",
      "source": [
        "#Ejercicio 9: \n",
        "Implementar un método que nos permita saber si quedan cartas en el mazo"
      ],
      "metadata": {
        "id": "fV0CI5Gyf3vQ"
      }
    },
    {
      "cell_type": "code",
      "source": [
        "%%file test_mazo.py\n",
        "\n",
        "import random\n",
        "from test_carta import Carta\n",
        "\n",
        "#No olvides copiarte lo que resolviste en el punto anterior\n",
        "class Mazo():\n",
        "  def __init__(self):\n",
        "    self.cartas = []\n",
        "    for i in range(1,13):\n",
        "      for j in [\"espada\", \"oro\", \"bastos\", \"copa\"]:\n",
        "        self.cartas.append(Carta(i,j))\n",
        "    self.cartas.append(Carta(es_comodin=True))\n",
        "    self.cartas.append(Carta(es_comodin=True))\n",
        "\n",
        "  def cant_cartas(self):\n",
        "    return len(self.cartas)\n",
        "  \n",
        "  def mezclar(self):\n",
        "    random.shuffle(self.cartas)\n",
        "  \n",
        "  def __str__(self):\n",
        "    string = \"\"\n",
        "    for carta in self.cartas:\n",
        "      string += carta.__str__()\n",
        "      string += \"\\n\"\n",
        "    \n",
        "    return string\n",
        "\n",
        "  def carta_especifica(self, carta):\n",
        "    if carta in self.cartas:\n",
        "      return True\n",
        "    return False\n",
        "\n",
        "  def sacar_carta(self):\n",
        "    return self.cartas.pop()\n",
        "\n",
        "  def quedan(self):\n",
        "    return len(self.cartas)>0\n",
        "\n",
        "#TEST\n",
        "\n",
        "def test_quedan():\n",
        "  mazo = Mazo()\n",
        "  assert mazo.quedan() == True\n",
        "  mazo.cartas.clear()\n",
        "  assert mazo.quedan() == False\n"
      ],
      "metadata": {
        "id": "MJWEuwTFgCLg",
        "colab": {
          "base_uri": "https://localhost:8080/"
        },
        "outputId": "2c9123d6-a841-4f5a-ccad-99addbf8d971"
      },
      "execution_count": null,
      "outputs": [
        {
          "output_type": "stream",
          "name": "stdout",
          "text": [
            "Overwriting test_mazo.py\n"
          ]
        }
      ]
    },
    {
      "cell_type": "code",
      "source": [
        "!python -m pytest"
      ],
      "metadata": {
        "id": "vVhoOveiPAG4",
        "colab": {
          "base_uri": "https://localhost:8080/"
        },
        "outputId": "b5395d2e-43fa-44fe-83aa-f2e042bc0b6f"
      },
      "execution_count": null,
      "outputs": [
        {
          "output_type": "stream",
          "name": "stdout",
          "text": [
            "\u001b[1m============================= test session starts ==============================\u001b[0m\n",
            "platform linux -- Python 3.7.14, pytest-3.6.4, py-1.11.0, pluggy-0.7.1\n",
            "rootdir: /content, inifile:\n",
            "plugins: typeguard-2.7.1\n",
            "\u001b[1m\rcollecting 0 items                                                             \u001b[0m\u001b[1m\rcollecting 1 item                                                              \u001b[0m\u001b[1m\rcollecting 4 items                                                             \u001b[0m\u001b[1m\rcollecting 4 items                                                             \u001b[0m\u001b[1m\rcollecting 5 items                                                             \u001b[0m\u001b[1m\rcollected 5 items                                                              \u001b[0m\n",
            "\n",
            "test_add.py .\u001b[36m                                                            [ 20%]\u001b[0m\n",
            "test_carta.py ...\u001b[36m                                                        [ 80%]\u001b[0m\n",
            "test_mazo.py .\u001b[36m                                                           [100%]\u001b[0m\n",
            "\n",
            "\u001b[32m\u001b[1m=========================== 5 passed in 0.03 seconds ===========================\u001b[0m\n"
          ]
        }
      ]
    },
    {
      "cell_type": "markdown",
      "source": [
        "#Ejercicio 10: \n",
        "Escribir una clase Mano, que represente la mano de un jugador en algun juego de cartas. Tener en cuenta que necesitaremos los métodos `sacar_carta` y otros ya definidos en Mazo. Además, necesitaremos asociar el nombre del jugador que tiene esta mano"
      ],
      "metadata": {
        "id": "3FEE88fogZ0K"
      }
    },
    {
      "cell_type": "code",
      "source": [
        "%%file test_mazo.py\n",
        "\n",
        "import random\n",
        "from test_carta import Carta\n",
        "\n",
        "#No olvides copiarte lo que resolviste en el punto anterior\n",
        "class Mazo():\n",
        "  def __init__(self):\n",
        "    self.cartas = []\n",
        "    for i in range(1,13):\n",
        "      for j in [\"espada\", \"oro\", \"bastos\", \"copa\"]:\n",
        "        self.cartas.append(Carta(i,j))\n",
        "    self.cartas.append(Carta(es_comodin=True))\n",
        "    self.cartas.append(Carta(es_comodin=True))\n",
        "\n",
        "  def cant_cartas(self):\n",
        "    return len(self.cartas)\n",
        "  \n",
        "  def mezclar(self):\n",
        "    random.shuffle(self.cartas)\n",
        "  \n",
        "  def __str__(self):\n",
        "    string = \"\"\n",
        "    for carta in self.cartas:\n",
        "      string += carta.__str__()\n",
        "      string += \"\\n\"\n",
        "    \n",
        "    return string\n",
        "\n",
        "  def carta_especifica(self, carta):\n",
        "    if carta in self.cartas:\n",
        "      return True\n",
        "    return False\n",
        "\n",
        "  def sacar_carta(self):\n",
        "    return self.cartas.pop()\n",
        "\n",
        "  def quedan(self):\n",
        "    return len(self.cartas)>0\n",
        "\n",
        "#TEST\n",
        "\n",
        "def test_quedan():\n",
        "  mazo = Mazo()\n",
        "  assert mazo.quedan() == True\n",
        "  mazo.cartas.clear()\n",
        "  assert mazo.quedan() == False\n"
      ],
      "metadata": {
        "colab": {
          "base_uri": "https://localhost:8080/"
        },
        "id": "greCCA3_ycKt",
        "outputId": "8f0b5db1-2dc5-4199-a3cb-2b39f3652928"
      },
      "execution_count": null,
      "outputs": [
        {
          "output_type": "stream",
          "name": "stdout",
          "text": [
            "Overwriting test_mazo.py\n"
          ]
        }
      ]
    },
    {
      "cell_type": "code",
      "source": [
        "%%file test_mano.py\n",
        "from test_mazo import Mazo # Importamos Mazo\n",
        "\n",
        "class Mano():\n",
        "  \n",
        "  def __init__(self, nombre, cantidad):\n",
        "    self.nombre = nombre\n",
        "    self.cantidad = cantidad\n",
        "    self.mano = {self.nombre, []}\n",
        "\n",
        "  def mano(self):\n",
        "    self.nombre =[]\n",
        "    for i in range(self.cantidad):\n",
        "      b = random.choice(self.cartas)\n",
        "      self.nomnbre.append(b)\n",
        "      return self.nombre #esto es una lista que tiene la mano del jugador\n",
        "  \n",
        "  def nuevoMazo():\n",
        "    for i in self.mano[self.nombre]:\n",
        "      for j in range(len(self.cartas)):\n",
        "        if i == self.cartas[j]:\n",
        "          self.cartas.pop(j)\n",
        "    return self.cartas\n",
        "\n",
        "#TEST\n",
        "\n",
        "def test_mano():\n",
        "  mano1 = Mano(5,\"lara\")\n",
        "  assert range(self.mano[nombre]) == 5\n"
      ],
      "metadata": {
        "id": "KNzZlwkihQ7R",
        "colab": {
          "base_uri": "https://localhost:8080/"
        },
        "outputId": "de5db177-c306-4df1-a126-7f81185f159b"
      },
      "execution_count": null,
      "outputs": [
        {
          "output_type": "stream",
          "name": "stdout",
          "text": [
            "Writing test_mano.py\n"
          ]
        }
      ]
    },
    {
      "cell_type": "code",
      "source": [
        "!python -m pytest"
      ],
      "metadata": {
        "id": "jijTFtetPTyP",
        "colab": {
          "base_uri": "https://localhost:8080/"
        },
        "outputId": "10bbaca7-3cc3-4bf8-f0ef-070cf96ee141"
      },
      "execution_count": null,
      "outputs": [
        {
          "output_type": "stream",
          "name": "stdout",
          "text": [
            "\u001b[1m============================= test session starts ==============================\u001b[0m\n",
            "platform linux -- Python 3.7.14, pytest-3.6.4, py-1.11.0, pluggy-0.7.1\n",
            "rootdir: /content, inifile:\n",
            "plugins: typeguard-2.7.1\n",
            "\u001b[1m\rcollecting 0 items                                                             \u001b[0m\u001b[1m\rcollecting 1 item                                                              \u001b[0m\u001b[1m\rcollecting 4 items                                                             \u001b[0m\u001b[1m\rcollecting 4 items                                                             \u001b[0m\u001b[1m\rcollecting 5 items                                                             \u001b[0m\u001b[1m\rcollecting 6 items                                                             \u001b[0m\u001b[1m\rcollected 6 items                                                              \u001b[0m\n",
            "\n",
            "test_add.py .\u001b[36m                                                            [ 16%]\u001b[0m\n",
            "test_carta.py ...\u001b[36m                                                        [ 66%]\u001b[0m\n",
            "test_mano.py F\u001b[36m                                                           [ 83%]\u001b[0m\n",
            "test_mazo.py .\u001b[36m                                                           [100%]\u001b[0m\n",
            "\n",
            "=================================== FAILURES ===================================\n",
            "\u001b[31m\u001b[1m__________________________________ test_mano ___________________________________\u001b[0m\n",
            "\n",
            "\u001b[1m    def test_mano():\u001b[0m\n",
            "\u001b[1m>     mano1 = Mano(5,\"lara\")\u001b[0m\n",
            "\n",
            "\u001b[1m\u001b[31mtest_mano.py\u001b[0m:27: \n",
            "_ _ _ _ _ _ _ _ _ _ _ _ _ _ _ _ _ _ _ _ _ _ _ _ _ _ _ _ _ _ _ _ _ _ _ _ _ _ _ _ \n",
            "\n",
            "self = <test_mano.Mano object at 0x7f0f5261f410>, nombre = 5, cantidad = 'lara'\n",
            "\n",
            "\u001b[1m    def __init__(self, nombre, cantidad):\u001b[0m\n",
            "\u001b[1m      self.nombre = nombre\u001b[0m\n",
            "\u001b[1m      self.cantidad = cantidad\u001b[0m\n",
            "\u001b[1m>     self.mano = {self.nombre, []}\u001b[0m\n",
            "\u001b[1m\u001b[31mE     TypeError: unhashable type: 'list'\u001b[0m\n",
            "\n",
            "\u001b[1m\u001b[31mtest_mano.py\u001b[0m:8: TypeError\n",
            "\u001b[31m\u001b[1m====================== 1 failed, 5 passed in 0.07 seconds ======================\u001b[0m\n"
          ]
        }
      ]
    },
    {
      "cell_type": "markdown",
      "source": [
        "#Ejercicio 11: \n",
        "Necesitaremos que una mano tenga funcionalidad para agregar cartas a la mano y sacar cartas de la mano. ¿Cuantos métodos debemos definir? Definir solamente aquellos métodos necesarios."
      ],
      "metadata": {
        "id": "Ao7G-1t6hmcg"
      }
    },
    {
      "cell_type": "code",
      "source": [
        "%%file test_mano.py\n",
        "from test_mazo import Mazo # Importamos Mazo\n",
        "from test_carta import Carta # Importamos Carta\n",
        "# escribi tu codigo aca.\n",
        "# No olvides copiarte lo que resolviste en el punto anterior!"
      ],
      "metadata": {
        "id": "QRy3ACYThl1L",
        "colab": {
          "base_uri": "https://localhost:8080/"
        },
        "outputId": "d581a19c-4f75-4162-ab2c-f1671de54624"
      },
      "execution_count": null,
      "outputs": [
        {
          "output_type": "stream",
          "name": "stdout",
          "text": [
            "Overwriting test_mano.py\n"
          ]
        }
      ]
    },
    {
      "cell_type": "code",
      "source": [
        "!python -m pytest"
      ],
      "metadata": {
        "id": "t1df3UNVP0DE",
        "colab": {
          "base_uri": "https://localhost:8080/"
        },
        "outputId": "291871de-373d-468a-b4d6-67b6ef913fcc"
      },
      "execution_count": null,
      "outputs": [
        {
          "output_type": "stream",
          "name": "stdout",
          "text": [
            "\u001b[1m============================= test session starts ==============================\u001b[0m\n",
            "platform linux -- Python 3.7.13, pytest-3.6.4, py-1.11.0, pluggy-0.7.1\n",
            "rootdir: /content, inifile:\n",
            "plugins: typeguard-2.7.1\n",
            "\u001b[1m\rcollecting 0 items                                                             \u001b[0m\u001b[1m\rcollecting 1 item                                                              \u001b[0m\u001b[1m\rcollecting 4 items                                                             \u001b[0m\u001b[1m\rcollecting 4 items / 1 errors                                                  \u001b[0m\u001b[1m\rcollecting 4 items / 2 errors                                                  \u001b[0m\u001b[1m\rcollecting 4 items / 2 errors                                                  \u001b[0m\u001b[1m\rcollecting 4 items / 3 errors                                                  \u001b[0m\u001b[1m\rcollected 4 items / 3 errors                                                   \u001b[0m\n",
            "\n",
            "==================================== ERRORS ====================================\n",
            "________________________ ERROR collecting test_juego.py ________________________\n",
            "\u001b[31mImportError while importing test module '/content/test_juego.py'.\n",
            "Hint: make sure your test modules/packages have valid Python names.\n",
            "Traceback:\n",
            "test_juego.py:1: in <module>\n",
            "    from test_mazo import Mazo # Importamos Mazo\n",
            "E   ImportError: cannot import name 'Mazo' from 'test_mazo' (/content/test_mazo.py)\u001b[0m\n",
            "________________________ ERROR collecting test_mano.py _________________________\n",
            "\u001b[31mImportError while importing test module '/content/test_mano.py'.\n",
            "Hint: make sure your test modules/packages have valid Python names.\n",
            "Traceback:\n",
            "test_mano.py:1: in <module>\n",
            "    from test_mazo import Mazo # Importamos Mazo\n",
            "E   ImportError: cannot import name 'Mazo' from 'test_mazo' (/content/test_mazo.py)\u001b[0m\n",
            "___________________ ERROR collecting test_truco_argentino.py ___________________\n",
            "\u001b[31mImportError while importing test module '/content/test_truco_argentino.py'.\n",
            "Hint: make sure your test modules/packages have valid Python names.\n",
            "Traceback:\n",
            "test_truco_argentino.py:1: in <module>\n",
            "    from test_juego import Juego\n",
            "test_juego.py:1: in <module>\n",
            "    from test_mazo import Mazo # Importamos Mazo\n",
            "E   ImportError: cannot import name 'Mazo' from 'test_mazo' (/content/test_mazo.py)\u001b[0m\n",
            "!!!!!!!!!!!!!!!!!!! Interrupted: 3 errors during collection !!!!!!!!!!!!!!!!!!!!\n",
            "\u001b[31m\u001b[1m=========================== 3 error in 0.08 seconds ============================\u001b[0m\n"
          ]
        }
      ]
    },
    {
      "cell_type": "markdown",
      "source": [
        "# Ejercicio 12: \n",
        "Agregar al mazo un método para repartir cartas. El método deberia recibir una lista de manos, las cuales reciben las cartas, y la cantidad de cartas a repartir en cada mano.\n",
        "\n"
      ],
      "metadata": {
        "id": "nsyfTNwFiOs-"
      }
    },
    {
      "cell_type": "code",
      "source": [
        "%%file test_mazo.py\n",
        "\n",
        "import random\n",
        "from test_carta import Carta # Importamos carta\n",
        "# escribi tu codigo aca.\n",
        "# No olvides copiarte lo que resolviste mas arriba!"
      ],
      "metadata": {
        "id": "V-TOLCSpiz41",
        "colab": {
          "base_uri": "https://localhost:8080/"
        },
        "outputId": "c4bbb186-e258-4192-bf3a-fdc728426295"
      },
      "execution_count": null,
      "outputs": [
        {
          "output_type": "stream",
          "name": "stdout",
          "text": [
            "Overwriting test_mazo.py\n"
          ]
        }
      ]
    },
    {
      "cell_type": "code",
      "source": [
        "!python -m pytest"
      ],
      "metadata": {
        "id": "5p5yojj5QlA1",
        "colab": {
          "base_uri": "https://localhost:8080/"
        },
        "outputId": "c2eb79b8-be67-4a24-bac1-9519eef21f35"
      },
      "execution_count": null,
      "outputs": [
        {
          "output_type": "stream",
          "name": "stdout",
          "text": [
            "\u001b[1m============================= test session starts ==============================\u001b[0m\n",
            "platform linux -- Python 3.7.13, pytest-3.6.4, py-1.11.0, pluggy-0.7.1\n",
            "rootdir: /content, inifile:\n",
            "plugins: typeguard-2.7.1\n",
            "\u001b[1m\rcollecting 0 items                                                             \u001b[0m\u001b[1m\rcollecting 1 item                                                              \u001b[0m\u001b[1m\rcollecting 4 items                                                             \u001b[0m\u001b[1m\rcollecting 4 items / 1 errors                                                  \u001b[0m\u001b[1m\rcollecting 4 items / 2 errors                                                  \u001b[0m\u001b[1m\rcollecting 4 items / 2 errors                                                  \u001b[0m\u001b[1m\rcollecting 4 items / 3 errors                                                  \u001b[0m\u001b[1m\rcollected 4 items / 3 errors                                                   \u001b[0m\n",
            "\n",
            "==================================== ERRORS ====================================\n",
            "________________________ ERROR collecting test_juego.py ________________________\n",
            "\u001b[31mImportError while importing test module '/content/test_juego.py'.\n",
            "Hint: make sure your test modules/packages have valid Python names.\n",
            "Traceback:\n",
            "test_juego.py:1: in <module>\n",
            "    from test_mazo import Mazo # Importamos Mazo\n",
            "E   ImportError: cannot import name 'Mazo' from 'test_mazo' (/content/test_mazo.py)\u001b[0m\n",
            "________________________ ERROR collecting test_mano.py _________________________\n",
            "\u001b[31mImportError while importing test module '/content/test_mano.py'.\n",
            "Hint: make sure your test modules/packages have valid Python names.\n",
            "Traceback:\n",
            "test_mano.py:1: in <module>\n",
            "    from test_mazo import Mazo # Importamos Mazo\n",
            "E   ImportError: cannot import name 'Mazo' from 'test_mazo' (/content/test_mazo.py)\u001b[0m\n",
            "___________________ ERROR collecting test_truco_argentino.py ___________________\n",
            "\u001b[31mImportError while importing test module '/content/test_truco_argentino.py'.\n",
            "Hint: make sure your test modules/packages have valid Python names.\n",
            "Traceback:\n",
            "test_truco_argentino.py:1: in <module>\n",
            "    from test_juego import Juego\n",
            "test_juego.py:1: in <module>\n",
            "    from test_mazo import Mazo # Importamos Mazo\n",
            "E   ImportError: cannot import name 'Mazo' from 'test_mazo' (/content/test_mazo.py)\u001b[0m\n",
            "!!!!!!!!!!!!!!!!!!! Interrupted: 3 errors during collection !!!!!!!!!!!!!!!!!!!!\n",
            "\u001b[31m\u001b[1m=========================== 3 error in 0.08 seconds ============================\u001b[0m\n"
          ]
        }
      ]
    },
    {
      "cell_type": "markdown",
      "source": [
        "# Ejercicio 13: \n",
        "Agregar funcionalidad para imprimir una mano, mostrando a quien pertenece y que cartas contiene"
      ],
      "metadata": {
        "id": "ejwTbqtUjump"
      }
    },
    {
      "cell_type": "code",
      "source": [
        "%%file test_mano.py\n",
        "from test_mazo import Mazo # Importamos Mazo\n",
        "from test_carta import Carta # Importamos Carta\n",
        "# escribi tu codigo aca.\n",
        "# No olvides copiarte lo que resolviste mas arriba!"
      ],
      "metadata": {
        "id": "GJjx-RU5jjp0",
        "colab": {
          "base_uri": "https://localhost:8080/"
        },
        "outputId": "6c713f2a-ba39-4e7a-e3ff-57581cf7d4a9"
      },
      "execution_count": null,
      "outputs": [
        {
          "output_type": "stream",
          "name": "stdout",
          "text": [
            "Overwriting test_mano.py\n"
          ]
        }
      ]
    },
    {
      "cell_type": "code",
      "source": [
        "!python -m pytest"
      ],
      "metadata": {
        "id": "eOvrOqoCRC0O",
        "colab": {
          "base_uri": "https://localhost:8080/"
        },
        "outputId": "f9754274-9e11-40a8-808c-7a42af0dd7ca"
      },
      "execution_count": null,
      "outputs": [
        {
          "output_type": "stream",
          "name": "stdout",
          "text": [
            "\u001b[1m============================= test session starts ==============================\u001b[0m\n",
            "platform linux -- Python 3.7.13, pytest-3.6.4, py-1.11.0, pluggy-0.7.1\n",
            "rootdir: /content, inifile:\n",
            "plugins: typeguard-2.7.1\n",
            "\u001b[1m\rcollecting 0 items                                                             \u001b[0m\u001b[1m\rcollecting 1 item                                                              \u001b[0m\u001b[1m\rcollecting 4 items                                                             \u001b[0m\u001b[1m\rcollecting 4 items / 1 errors                                                  \u001b[0m\u001b[1m\rcollecting 4 items / 2 errors                                                  \u001b[0m\u001b[1m\rcollecting 4 items / 2 errors                                                  \u001b[0m\u001b[1m\rcollecting 4 items / 3 errors                                                  \u001b[0m\u001b[1m\rcollected 4 items / 3 errors                                                   \u001b[0m\n",
            "\n",
            "==================================== ERRORS ====================================\n",
            "________________________ ERROR collecting test_juego.py ________________________\n",
            "\u001b[31mImportError while importing test module '/content/test_juego.py'.\n",
            "Hint: make sure your test modules/packages have valid Python names.\n",
            "Traceback:\n",
            "test_juego.py:1: in <module>\n",
            "    from test_mazo import Mazo # Importamos Mazo\n",
            "E   ImportError: cannot import name 'Mazo' from 'test_mazo' (/content/test_mazo.py)\u001b[0m\n",
            "________________________ ERROR collecting test_mano.py _________________________\n",
            "\u001b[31mImportError while importing test module '/content/test_mano.py'.\n",
            "Hint: make sure your test modules/packages have valid Python names.\n",
            "Traceback:\n",
            "test_mano.py:1: in <module>\n",
            "    from test_mazo import Mazo # Importamos Mazo\n",
            "E   ImportError: cannot import name 'Mazo' from 'test_mazo' (/content/test_mazo.py)\u001b[0m\n",
            "___________________ ERROR collecting test_truco_argentino.py ___________________\n",
            "\u001b[31mImportError while importing test module '/content/test_truco_argentino.py'.\n",
            "Hint: make sure your test modules/packages have valid Python names.\n",
            "Traceback:\n",
            "test_truco_argentino.py:1: in <module>\n",
            "    from test_juego import Juego\n",
            "test_juego.py:1: in <module>\n",
            "    from test_mazo import Mazo # Importamos Mazo\n",
            "E   ImportError: cannot import name 'Mazo' from 'test_mazo' (/content/test_mazo.py)\u001b[0m\n",
            "!!!!!!!!!!!!!!!!!!! Interrupted: 3 errors during collection !!!!!!!!!!!!!!!!!!!!\n",
            "\u001b[31m\u001b[1m=========================== 3 error in 0.08 seconds ============================\u001b[0m\n"
          ]
        }
      ]
    },
    {
      "cell_type": "markdown",
      "source": [
        "#Ejercicio 14: \n",
        "Agregar una clase Juego que represente un juego arbitrario con cartas españolas. Recordar que un juego con cartas españolas siempre involucra un mazo que generalmente se mezcla."
      ],
      "metadata": {
        "id": "XVAAIrjq6JAW"
      }
    },
    {
      "cell_type": "code",
      "source": [
        "%%file test_juego.py\n",
        "from test_mazo import Mazo # Importamos Mazo\n",
        "# escribi tu codigo aca.\n"
      ],
      "metadata": {
        "id": "rjLzRSINkIKe",
        "colab": {
          "base_uri": "https://localhost:8080/"
        },
        "outputId": "97596c13-17f8-4303-b8b3-22f208a979a3"
      },
      "execution_count": null,
      "outputs": [
        {
          "output_type": "stream",
          "name": "stdout",
          "text": [
            "Overwriting test_juego.py\n"
          ]
        }
      ]
    },
    {
      "cell_type": "code",
      "source": [
        "!python -m pytest"
      ],
      "metadata": {
        "id": "UaM4bzjTRi-z",
        "colab": {
          "base_uri": "https://localhost:8080/"
        },
        "outputId": "89f6520c-4b8a-493e-d9e9-5c9204ca33be"
      },
      "execution_count": null,
      "outputs": [
        {
          "output_type": "stream",
          "name": "stdout",
          "text": [
            "\u001b[1m============================= test session starts ==============================\u001b[0m\n",
            "platform linux -- Python 3.7.13, pytest-3.6.4, py-1.11.0, pluggy-0.7.1\n",
            "rootdir: /content, inifile:\n",
            "plugins: typeguard-2.7.1\n",
            "\u001b[1m\rcollecting 0 items                                                             \u001b[0m\u001b[1m\rcollecting 1 item                                                              \u001b[0m\u001b[1m\rcollecting 4 items                                                             \u001b[0m\u001b[1m\rcollecting 4 items / 1 errors                                                  \u001b[0m\u001b[1m\rcollecting 4 items / 2 errors                                                  \u001b[0m\u001b[1m\rcollecting 4 items / 2 errors                                                  \u001b[0m\u001b[1m\rcollecting 4 items / 3 errors                                                  \u001b[0m\u001b[1m\rcollected 4 items / 3 errors                                                   \u001b[0m\n",
            "\n",
            "==================================== ERRORS ====================================\n",
            "________________________ ERROR collecting test_juego.py ________________________\n",
            "\u001b[31mImportError while importing test module '/content/test_juego.py'.\n",
            "Hint: make sure your test modules/packages have valid Python names.\n",
            "Traceback:\n",
            "test_juego.py:1: in <module>\n",
            "    from test_mazo import Mazo # Importamos Mazo\n",
            "E   ImportError: cannot import name 'Mazo' from 'test_mazo' (/content/test_mazo.py)\u001b[0m\n",
            "________________________ ERROR collecting test_mano.py _________________________\n",
            "\u001b[31mImportError while importing test module '/content/test_mano.py'.\n",
            "Hint: make sure your test modules/packages have valid Python names.\n",
            "Traceback:\n",
            "test_mano.py:1: in <module>\n",
            "    from test_mazo import Mazo # Importamos Mazo\n",
            "E   ImportError: cannot import name 'Mazo' from 'test_mazo' (/content/test_mazo.py)\u001b[0m\n",
            "___________________ ERROR collecting test_truco_argentino.py ___________________\n",
            "\u001b[31mImportError while importing test module '/content/test_truco_argentino.py'.\n",
            "Hint: make sure your test modules/packages have valid Python names.\n",
            "Traceback:\n",
            "test_truco_argentino.py:1: in <module>\n",
            "    from test_juego import Juego\n",
            "test_juego.py:1: in <module>\n",
            "    from test_mazo import Mazo # Importamos Mazo\n",
            "E   ImportError: cannot import name 'Mazo' from 'test_mazo' (/content/test_mazo.py)\u001b[0m\n",
            "!!!!!!!!!!!!!!!!!!! Interrupted: 3 errors during collection !!!!!!!!!!!!!!!!!!!!\n",
            "\u001b[31m\u001b[1m=========================== 3 error in 0.15 seconds ============================\u001b[0m\n"
          ]
        }
      ]
    },
    {
      "cell_type": "markdown",
      "source": [
        "# Ejercicio 15: \n",
        "Heredar una clase TrucoArgentino que represente un juego de truco argentino para dos jugadores. Recordar:\n",
        "\n",
        "- Antes de empezar a jugar se deben quitar los 8 y los 9 de todos los palos, y los dos comodines.\n",
        "- se deben inicializar dos manos de tres cartas cada una. Se reciben por parametros al constructor los nombres de ambos jugadores."
      ],
      "metadata": {
        "id": "Bv4Flv9bRmWe"
      }
    },
    {
      "cell_type": "code",
      "source": [
        "%%file test_truco_argentino.py\n",
        "from test_juego import Juego\n",
        "from test_mano import Mano\n",
        "from test_carta import Carta \n",
        "# escribi tu codigo aca.\n"
      ],
      "metadata": {
        "id": "iT2PHuJl6Hv1",
        "colab": {
          "base_uri": "https://localhost:8080/"
        },
        "outputId": "8a246657-db97-46b2-a877-c5ce63cb0c66"
      },
      "execution_count": null,
      "outputs": [
        {
          "output_type": "stream",
          "name": "stdout",
          "text": [
            "Overwriting test_truco_argentino.py\n"
          ]
        }
      ]
    },
    {
      "cell_type": "code",
      "source": [
        "! python -m pytest"
      ],
      "metadata": {
        "id": "QpxWpdsvTTTm",
        "colab": {
          "base_uri": "https://localhost:8080/"
        },
        "outputId": "3f5da9ad-8459-4be4-f78a-67650cca63a5"
      },
      "execution_count": null,
      "outputs": [
        {
          "output_type": "stream",
          "name": "stdout",
          "text": [
            "\u001b[1m============================= test session starts ==============================\u001b[0m\n",
            "platform linux -- Python 3.7.13, pytest-3.6.4, py-1.11.0, pluggy-0.7.1\n",
            "rootdir: /content, inifile:\n",
            "plugins: typeguard-2.7.1\n",
            "\u001b[1m\rcollecting 0 items                                                             \u001b[0m\u001b[1m\rcollecting 1 item                                                              \u001b[0m\u001b[1m\rcollecting 4 items                                                             \u001b[0m\u001b[1m\rcollecting 4 items / 1 errors                                                  \u001b[0m\u001b[1m\rcollecting 4 items / 2 errors                                                  \u001b[0m\u001b[1m\rcollecting 4 items / 2 errors                                                  \u001b[0m\u001b[1m\rcollecting 4 items / 3 errors                                                  \u001b[0m\u001b[1m\rcollected 4 items / 3 errors                                                   \u001b[0m\n",
            "\n",
            "==================================== ERRORS ====================================\n",
            "________________________ ERROR collecting test_juego.py ________________________\n",
            "\u001b[31mImportError while importing test module '/content/test_juego.py'.\n",
            "Hint: make sure your test modules/packages have valid Python names.\n",
            "Traceback:\n",
            "test_juego.py:1: in <module>\n",
            "    from test_mazo import Mazo # Importamos Mazo\n",
            "E   ImportError: cannot import name 'Mazo' from 'test_mazo' (/content/test_mazo.py)\u001b[0m\n",
            "________________________ ERROR collecting test_mano.py _________________________\n",
            "\u001b[31mImportError while importing test module '/content/test_mano.py'.\n",
            "Hint: make sure your test modules/packages have valid Python names.\n",
            "Traceback:\n",
            "test_mano.py:1: in <module>\n",
            "    from test_mazo import Mazo # Importamos Mazo\n",
            "E   ImportError: cannot import name 'Mazo' from 'test_mazo' (/content/test_mazo.py)\u001b[0m\n",
            "___________________ ERROR collecting test_truco_argentino.py ___________________\n",
            "\u001b[31mImportError while importing test module '/content/test_truco_argentino.py'.\n",
            "Hint: make sure your test modules/packages have valid Python names.\n",
            "Traceback:\n",
            "test_truco_argentino.py:1: in <module>\n",
            "    from test_juego import Juego\n",
            "test_juego.py:1: in <module>\n",
            "    from test_mazo import Mazo # Importamos Mazo\n",
            "E   ImportError: cannot import name 'Mazo' from 'test_mazo' (/content/test_mazo.py)\u001b[0m\n",
            "!!!!!!!!!!!!!!!!!!! Interrupted: 3 errors during collection !!!!!!!!!!!!!!!!!!!!\n",
            "\u001b[31m\u001b[1m=========================== 3 error in 0.18 seconds ============================\u001b[0m\n"
          ]
        }
      ]
    },
    {
      "cell_type": "markdown",
      "source": [
        "#Ejercicio 16: \n",
        "Implementar un método `.gana_envido()` que devuelva el nombre del jugador que tiene mas puntos de envido. \n",
        "\n",
        "* Asumimos que nuestros jugadores son muy malos en el truco y nunca mienten.\n",
        "* Jugamos sin flor.\n",
        "* Recordar que para calcular el envido, si un jugador posee dos o más cartas de igual palo, los puntos de envido equivale a la suma del puntaje de dos cartas del mismo palo elegidas por el jugador más veinte puntos (10, 11 y 12 no suman). Jugamos asumiendo que mano1 es mano del partido (es decir, gana el envido en caso de empate).\n"
      ],
      "metadata": {
        "id": "x2UnxVlPTuhE"
      }
    },
    {
      "cell_type": "code",
      "source": [
        "%%file test_truco_argentino.py\n",
        "from test_juego import Juego\n",
        "from test_mano import Mano\n",
        "from test_carta import Carta\n",
        "# escribi tu codigo aca.\n",
        "# No olvides copiarte lo que resolviste mas arriba!\n"
      ],
      "metadata": {
        "id": "doVFXtuST6cX",
        "colab": {
          "base_uri": "https://localhost:8080/"
        },
        "outputId": "a40d02ee-4d61-413c-f94a-316516482736"
      },
      "execution_count": null,
      "outputs": [
        {
          "output_type": "stream",
          "name": "stdout",
          "text": [
            "Overwriting test_truco_argentino.py\n"
          ]
        }
      ]
    },
    {
      "cell_type": "code",
      "source": [
        "!python -m pytest"
      ],
      "metadata": {
        "id": "wG1NW8-kaOXL",
        "colab": {
          "base_uri": "https://localhost:8080/"
        },
        "outputId": "eac443fc-3880-4f84-a83e-580977a4440c"
      },
      "execution_count": null,
      "outputs": [
        {
          "output_type": "stream",
          "name": "stdout",
          "text": [
            "\u001b[1m============================= test session starts ==============================\u001b[0m\n",
            "platform linux -- Python 3.7.13, pytest-3.6.4, py-1.11.0, pluggy-0.7.1\n",
            "rootdir: /content, inifile:\n",
            "plugins: typeguard-2.7.1\n",
            "\u001b[1m\rcollecting 0 items                                                             \u001b[0m\u001b[1m\rcollecting 1 item                                                              \u001b[0m\u001b[1m\rcollecting 4 items                                                             \u001b[0m\u001b[1m\rcollecting 4 items / 1 errors                                                  \u001b[0m\u001b[1m\rcollecting 4 items / 2 errors                                                  \u001b[0m\u001b[1m\rcollecting 4 items / 2 errors                                                  \u001b[0m\u001b[1m\rcollecting 4 items / 3 errors                                                  \u001b[0m\u001b[1m\rcollected 4 items / 3 errors                                                   \u001b[0m\n",
            "\n",
            "==================================== ERRORS ====================================\n",
            "________________________ ERROR collecting test_juego.py ________________________\n",
            "\u001b[31mImportError while importing test module '/content/test_juego.py'.\n",
            "Hint: make sure your test modules/packages have valid Python names.\n",
            "Traceback:\n",
            "test_juego.py:1: in <module>\n",
            "    from test_mazo import Mazo # Importamos Mazo\n",
            "E   ImportError: cannot import name 'Mazo' from 'test_mazo' (/content/test_mazo.py)\u001b[0m\n",
            "________________________ ERROR collecting test_mano.py _________________________\n",
            "\u001b[31mImportError while importing test module '/content/test_mano.py'.\n",
            "Hint: make sure your test modules/packages have valid Python names.\n",
            "Traceback:\n",
            "test_mano.py:1: in <module>\n",
            "    from test_mazo import Mazo # Importamos Mazo\n",
            "E   ImportError: cannot import name 'Mazo' from 'test_mazo' (/content/test_mazo.py)\u001b[0m\n",
            "___________________ ERROR collecting test_truco_argentino.py ___________________\n",
            "\u001b[31mImportError while importing test module '/content/test_truco_argentino.py'.\n",
            "Hint: make sure your test modules/packages have valid Python names.\n",
            "Traceback:\n",
            "test_truco_argentino.py:1: in <module>\n",
            "    from test_juego import Juego\n",
            "test_juego.py:1: in <module>\n",
            "    from test_mazo import Mazo # Importamos Mazo\n",
            "E   ImportError: cannot import name 'Mazo' from 'test_mazo' (/content/test_mazo.py)\u001b[0m\n",
            "!!!!!!!!!!!!!!!!!!! Interrupted: 3 errors during collection !!!!!!!!!!!!!!!!!!!!\n",
            "\u001b[31m\u001b[1m=========================== 3 error in 0.08 seconds ============================\u001b[0m\n"
          ]
        }
      ]
    }
  ]
}